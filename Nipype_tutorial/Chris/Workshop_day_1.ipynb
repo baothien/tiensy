{
 "metadata": {
  "name": "Workshop day 1"
 }, 
 "nbformat": 2, 
 "worksheets": [
  {
   "cells": [
    {
     "cell_type": "code", 
     "collapsed": true, 
     "input": [
      "a = 2"
     ], 
     "language": "python", 
     "outputs": [], 
     "prompt_number": 1
    }, 
    {
     "cell_type": "code", 
     "collapsed": false, 
     "input": [
      "print a"
     ], 
     "language": "python", 
     "outputs": [
      {
       "output_type": "stream", 
       "stream": "stdout", 
       "text": [
        "2"
       ]
      }
     ], 
     "prompt_number": 2
    }, 
    {
     "cell_type": "code", 
     "collapsed": false, 
     "input": [
      "range(10)"
     ], 
     "language": "python", 
     "outputs": [
      {
       "output_type": "pyout", 
       "prompt_number": 3, 
       "text": [
        "[0, 1, 2, 3, 4, 5, 6, 7, 8, 9]"
       ]
      }
     ], 
     "prompt_number": 3
    }, 
    {
     "cell_type": "code", 
     "collapsed": false, 
     "input": [
      "plot(range(10))"
     ], 
     "language": "python", 
     "outputs": [
      {
       "output_type": "pyout", 
       "prompt_number": 4, 
       "text": [
        "[<matplotlib.lines.Line2D at 0xa09b44c>]"
       ]
      }, 
      {
       "output_type": "display_data", 
       "png": "[encoded data removed]"
      }
     ], 
     "prompt_number": 4
    }, 
    {
     "cell_type": "code", 
     "collapsed": true, 
     "input": [
      "s = 'This is a string'"
     ], 
     "language": "python", 
     "outputs": [], 
     "prompt_number": 5
    }, 
    {
     "cell_type": "code", 
     "collapsed": false, 
     "input": [
      "print s"
     ], 
     "language": "python", 
     "outputs": [
      {
       "output_type": "stream", 
       "stream": "stdout", 
       "text": [
        "This is a string"
       ]
      }
     ], 
     "prompt_number": 6
    }, 
    {
     "cell_type": "code", 
     "collapsed": false, 
     "input": [
      "print s[5:]"
     ], 
     "language": "python", 
     "outputs": [
      {
       "output_type": "stream", 
       "stream": "stdout", 
       "text": [
        "is a string"
       ]
      }
     ], 
     "prompt_number": 8
    }, 
    {
     "cell_type": "code", 
     "collapsed": true, 
     "input": [
      "my_name = 'Bao'"
     ], 
     "language": "python", 
     "outputs": [], 
     "prompt_number": 9
    }, 
    {
     "cell_type": "code", 
     "collapsed": true, 
     "input": [
      "my_favourite_color = 'green'"
     ], 
     "language": "python", 
     "outputs": [], 
     "prompt_number": 10
    }, 
    {
     "cell_type": "code", 
     "collapsed": false, 
     "input": [
      "'My name is %s and my colore is %s' % (my_name, my_favourite_color)"
     ], 
     "language": "python", 
     "outputs": [
      {
       "output_type": "pyout", 
       "prompt_number": 12, 
       "text": [
        "'My name is Bao and my colore is green'"
       ]
      }
     ], 
     "prompt_number": 12
    }, 
    {
     "cell_type": "code", 
     "collapsed": true, 
     "input": [
      "my_age = 23"
     ], 
     "language": "python", 
     "outputs": [], 
     "prompt_number": 13
    }, 
    {
     "cell_type": "code", 
     "collapsed": true, 
     "input": [
      "my_journal = 'PAMI'"
     ], 
     "language": "python", 
     "outputs": [], 
     "prompt_number": 14
    }, 
    {
     "cell_type": "code", 
     "collapsed": false, 
     "input": [
      "'My name is %s, my age is %d, and my favourite journal is %s' % (my_name, my_age, my_journal)"
     ], 
     "language": "python", 
     "outputs": [
      {
       "output_type": "pyout", 
       "prompt_number": 15, 
       "text": [
        "'My name is Bao, my age is 23, and my favourite journal is PAMI'"
       ]
      }
     ], 
     "prompt_number": 15
    }, 
    {
     "cell_type": "code", 
     "collapsed": true, 
     "input": [
      "str?"
     ], 
     "language": "python", 
     "outputs": [], 
     "prompt_number": 16
    }, 
    {
     "cell_type": "code", 
     "collapsed": false, 
     "input": [
      "!which python"
     ], 
     "language": "python", 
     "outputs": [
      {
       "output_type": "stream", 
       "stream": "stdout", 
       "text": [
        "/usr/bin/python"
       ]
      }
     ], 
     "prompt_number": 18
    }, 
    {
     "cell_type": "code", 
     "collapsed": false, 
     "input": [
      "ls"
     ], 
     "language": "python", 
     "outputs": [
      {
       "output_type": "stream", 
       "stream": "stdout", 
       "text": [
        "\u001b[0m\u001b[01;34mnipype-tutorial\u001b[0m/  \u001b[01;31mnipype-tutorial.tar.bz2\u001b[0m  Workshop day 1.ipynb"
       ]
      }
     ], 
     "prompt_number": 19
    }, 
    {
     "cell_type": "code", 
     "collapsed": false, 
     "input": [
      "!fslinfo nipype-tutorial/data/T1.nii"
     ], 
     "language": "python", 
     "outputs": [
      {
       "output_type": "stream", 
       "stream": "stdout", 
       "text": [
        "data_type      UINT8", 
        "dim1           91", 
        "dim2           109", 
        "dim3           91", 
        "dim4           1", 
        "datatype       2"
       ]
      }, 
      {
       "output_type": "stream", 
       "stream": "stdout", 
       "text": [
        "pixdim1        2.0000000000", 
        "pixdim2        2.0000000000", 
        "pixdim3        2.0000000000", 
        "pixdim4        0.0000000000", 
        "cal_max        0.0000", 
        "cal_min        0.0000", 
        "file_type      NIFTI-1+"
       ]
      }
     ], 
     "prompt_number": 1
    }, 
    {
     "cell_type": "code", 
     "collapsed": true, 
     "input": [
      "from glob import glob"
     ], 
     "language": "python", 
     "outputs": [], 
     "prompt_number": 2
    }, 
    {
     "cell_type": "code", 
     "collapsed": true, 
     "input": [
      "glob("
     ], 
     "language": "python", 
     "outputs": [], 
     "prompt_number": 4
    }, 
    {
     "cell_type": "code", 
     "collapsed": false, 
     "input": [
      "glob('nipype-tutorial/data/*/*.nii')"
     ], 
     "language": "python", 
     "outputs": [
      {
       "output_type": "pyout", 
       "prompt_number": 6, 
       "text": [
        "['nipype-tutorial/data/s3/struct.nii',", 
        " 'nipype-tutorial/data/s3/f10.nii',", 
        " 'nipype-tutorial/data/s3/f3.nii',", 
        " 'nipype-tutorial/data/s3/f5.nii',", 
        " 'nipype-tutorial/data/s3/f7.nii',", 
        " 'nipype-tutorial/data/siemens_hardi_test/siemens_hardi_test_data.nii',", 
        " 'nipype-tutorial/data/s1/struct.nii',", 
        " 'nipype-tutorial/data/s1/f10.nii',", 
        " 'nipype-tutorial/data/s1/f3.nii',", 
        " 'nipype-tutorial/data/s1/f5.nii',", 
        " 'nipype-tutorial/data/s1/f7.nii']"
       ]
      }
     ], 
     "prompt_number": 6
    }, 
    {
     "cell_type": "code", 
     "collapsed": true, 
     "input": [
      "names = ['s1','s3']"
     ], 
     "language": "python", 
     "outputs": [], 
     "prompt_number": 7
    }, 
    {
     "cell_type": "code", 
     "collapsed": false, 
     "input": [
      "for name in names:", 
      "    print('nipype-tutorial/data/%s/*.nii'%name)"
     ], 
     "language": "python", 
     "outputs": [
      {
       "output_type": "stream", 
       "stream": "stdout", 
       "text": [
        "nipype-tutorial/data/s1/*.nii", 
        "nipype-tutorial/data/s3/*.nii"
       ]
      }
     ], 
     "prompt_number": 13
    }, 
    {
     "cell_type": "code", 
     "collapsed": false, 
     "input": [
      "name = 's1'", 
      "glob('nipype-tutorial/data/%s/*.nii'%name)"
     ], 
     "language": "python", 
     "outputs": [
      {
       "output_type": "pyout", 
       "prompt_number": 15, 
       "text": [
        "['nipype-tutorial/data/s1/struct.nii',", 
        " 'nipype-tutorial/data/s1/f10.nii',", 
        " 'nipype-tutorial/data/s1/f3.nii',", 
        " 'nipype-tutorial/data/s1/f5.nii',", 
        " 'nipype-tutorial/data/s1/f7.nii']"
       ]
      }
     ], 
     "prompt_number": 15
    }, 
    {
     "cell_type": "code", 
     "collapsed": false, 
     "input": [
      "for name in names:", 
      "    print glob('nipype-tutorial/data/%s/*.nii'%name)"
     ], 
     "language": "python", 
     "outputs": [
      {
       "output_type": "stream", 
       "stream": "stdout", 
       "text": [
        "['nipype-tutorial/data/s1/struct.nii', 'nipype-tutorial/data/s1/f10.nii', 'nipype-tutorial/data/s1/f3.nii', 'nipype-tutorial/data/s1/f5.nii', 'nipype-tutorial/data/s1/f7.nii']", 
        "['nipype-tutorial/data/s3/struct.nii', 'nipype-tutorial/data/s3/f10.nii', 'nipype-tutorial/data/s3/f3.nii', 'nipype-tutorial/data/s3/f5.nii', 'nipype-tutorial/data/s3/f7.nii']"
       ]
      }
     ], 
     "prompt_number": 17
    }, 
    {
     "cell_type": "code", 
     "collapsed": false, 
     "input": [
      "!wget https://dl.dropboxusercontent.com/u/412959/trento.zip"
     ], 
     "language": "python", 
     "outputs": [
      {
       "output_type": "stream", 
       "stream": "stdout", 
       "text": [
        "--2013-05-13 11:10:22--  https://dl.dropboxusercontent.com/u/412959/trento.zip"
       ]
      }, 
      {
       "output_type": "stream", 
       "stream": "stdout", 
       "text": [
        "Resolving dl.dropboxusercontent.com (dl.dropboxusercontent.com)... "
       ]
      }, 
      {
       "output_type": "stream", 
       "stream": "stdout", 
       "text": [
        "54.225.171.194", 
        "Connecting to dl.dropboxusercontent.com (dl.dropboxusercontent.com)|54.225.171.194|:443... "
       ]
      }, 
      {
       "output_type": "stream", 
       "stream": "stdout", 
       "text": [
        "connected."
       ]
      }, 
      {
       "output_type": "stream", 
       "stream": "stdout", 
       "text": [
        "HTTP request sent, awaiting response... "
       ]
      }, 
      {
       "output_type": "stream", 
       "stream": "stdout", 
       "text": [
        "200 OK", 
        "Length: 121358426 (116M) [application/zip]", 
        "Saving to: `trento.zip'", 
        "", 
        "", 
        " 0% [                                       ] 0           --.-K/s              "
       ]
      }, 
      {
       "output_type": "stream", 
       "stream": "stdout", 
       "text": [
        "", 
        " 0% [                                       ] 36,767       148K/s              "
       ]
      }, 
      {
       "output_type": "stream", 
       "stream": "stdout", 
       "text": [
        "", 
        " 0% [                                       ] 118,687      244K/s              "
       ]
      }, 
      {
       "output_type": "stream", 
       "stream": "stdout", 
       "text": [
        "", 
        " 0% [                                       ] 315,295      434K/s              "
       ]
      }, 
      {
       "output_type": "stream", 
       "stream": "stdout", 
       "text": [
        "", 
        " 0% [                                       ] 544,671      528K/s              "
       ]
      }, 
      {
       "output_type": "stream", 
       "stream": "stdout", 
       "text": [
        "", 
        " 0% [                                       ] 839,583      658K/s              "
       ]
      }, 
      {
       "output_type": "stream", 
       "stream": "stdout", 
       "text": [
        "", 
        " 0% [                                       ] 905,119      596K/s              "
       ]
      }, 
      {
       "output_type": "stream", 
       "stream": "stdout", 
       "text": [
        "", 
        " 0% [                                       ] 1,101,727    624K/s              "
       ]
      }, 
      {
       "output_type": "stream", 
       "stream": "stdout", 
       "text": [
        "", 
        " 1% [                                       ] 1,363,871    677K/s              "
       ]
      }, 
      {
       "output_type": "stream", 
       "stream": "stdout", 
       "text": [
        "", 
        " 1% [                                       ] 1,658,783    735K/s              "
       ]
      }, 
      {
       "output_type": "stream", 
       "stream": "stdout", 
       "text": [
        "", 
        " 1% [                                       ] 1,986,463    802K/s              "
       ]
      }, 
      {
       "output_type": "stream", 
       "stream": "stdout", 
       "text": [
        "", 
        " 1% [                                       ] 2,297,759    856K/s              "
       ]
      }, 
      {
       "output_type": "stream", 
       "stream": "stdout", 
       "text": [
        "", 
        " 2% [                                       ] 2,592,671    896K/s              "
       ]
      }, 
      {
       "output_type": "stream", 
       "stream": "stdout", 
       "text": [
        "", 
        " 2% [                                       ] 2,936,735    945K/s  eta 2m 2s   "
       ]
      }, 
      {
       "output_type": "stream", 
       "stream": "stdout", 
       "text": [
        "", 
        " 2% [>                                      ] 3,313,567    999K/s  eta 2m 2s   "
       ]
      }, 
      {
       "output_type": "stream", 
       "stream": "stdout", 
       "text": [
        "", 
        " 3% [>                                      ] 3,641,247   1.01M/s  eta 2m 2s   "
       ]
      }, 
      {
       "output_type": "stream", 
       "stream": "stdout", 
       "text": [
        "", 
        " 3% [>                                      ] 4,001,695   1.04M/s  eta 2m 2s   "
       ]
      }, 
      {
       "output_type": "stream", 
       "stream": "stdout", 
       "text": [
        "", 
        " 3% [>                                      ] 4,280,223   1.12M/s  eta 2m 2s   "
       ]
      }, 
      {
       "output_type": "stream", 
       "stream": "stdout", 
       "text": [
        "", 
        " 3% [>                                      ] 4,558,751   1.18M/s  eta 1m 44s  "
       ]
      }, 
      {
       "output_type": "stream", 
       "stream": "stdout", 
       "text": [
        "", 
        " 3% [>                                      ] 4,853,663   1.22M/s  eta 1m 44s  "
       ]
      }, 
      {
       "output_type": "stream", 
       "stream": "stdout", 
       "text": [
        "", 
        " 4% [>                                      ] 5,164,959   1.27M/s  eta 1m 44s  "
       ]
      }, 
      {
       "output_type": "stream", 
       "stream": "stdout", 
       "text": [
        "", 
        " 4% [>                                      ] 5,459,871   1.29M/s  eta 1m 44s  "
       ]
      }, 
      {
       "output_type": "stream", 
       "stream": "stdout", 
       "text": [
        "", 
        " 4% [>                                      ] 5,754,783   1.33M/s  eta 1m 44s  "
       ]
      }, 
      {
       "output_type": "stream", 
       "stream": "stdout", 
       "text": [
        "", 
        " 5% [>                                      ] 6,147,999   1.41M/s  eta 97s     "
       ]
      }, 
      {
       "output_type": "stream", 
       "stream": "stdout", 
       "text": [
        "", 
        " 5% [=>                                     ] 6,377,375   1.41M/s  eta 97s     "
       ]
      }, 
      {
       "output_type": "stream", 
       "stream": "stdout", 
       "text": [
        "", 
        " 5% [=>                                     ] 6,623,135   1.39M/s  eta 97s     "
       ]
      }, 
      {
       "output_type": "stream", 
       "stream": "stdout", 
       "text": [
        "", 
        " 5% [=>                                     ] 6,868,895   1.37M/s  eta 97s     "
       ]
      }, 
      {
       "output_type": "stream", 
       "stream": "stdout", 
       "text": [
        "", 
        " 5% [=>                                     ] 7,114,655   1.31M/s  eta 97s     "
       ]
      }, 
      {
       "output_type": "stream", 
       "stream": "stdout", 
       "text": [
        "", 
        " 6% [=>                                     ] 7,360,415   1.27M/s  eta 98s     "
       ]
      }, 
      {
       "output_type": "stream", 
       "stream": "stdout", 
       "text": [
        "", 
        " 6% [=>                                     ] 7,491,487   1.21M/s  eta 98s     "
       ]
      }, 
      {
       "output_type": "stream", 
       "stream": "stdout", 
       "text": [
        "", 
        " 6% [=>                                     ] 7,622,559   1.14M/s  eta 98s     "
       ]
      }, 
      {
       "output_type": "stream", 
       "stream": "stdout", 
       "text": [
        "", 
        " 6% [=>                                     ] 7,770,015   1.10M/s  eta 98s     "
       ]
      }, 
      {
       "output_type": "stream", 
       "stream": "stdout", 
       "text": [
        "", 
        " 6% [=>                                     ] 7,917,471   1.04M/s  eta 98s     "
       ]
      }, 
      {
       "output_type": "stream", 
       "stream": "stdout", 
       "text": [
        "", 
        " 6% [=>                                     ] 8,064,927   1.01M/s  eta 1m 44s  "
       ]
      }, 
      {
       "output_type": "stream", 
       "stream": "stdout", 
       "text": [
        "", 
        " 6% [=>                                     ] 8,212,383    979K/s  eta 1m 44s  "
       ]
      }, 
      {
       "output_type": "stream", 
       "stream": "stdout", 
       "text": [
        "", 
        " 6% [=>                                     ] 8,359,839    943K/s  eta 1m 44s  "
       ]
      }, 
      {
       "output_type": "stream", 
       "stream": "stdout", 
       "text": [
        "", 
        " 7% [=>                                     ] 8,507,295    905K/s  eta 1m 44s  "
       ]
      }, 
      {
       "output_type": "stream", 
       "stream": "stdout", 
       "text": [
        "", 
        " 7% [=>                                     ] 8,654,751    868K/s  eta 1m 44s  "
       ]
      }, 
      {
       "output_type": "stream", 
       "stream": "stdout", 
       "text": [
        "", 
        " 7% [=>                                     ] 8,802,207    803K/s  eta 1m 48s  "
       ]
      }, 
      {
       "output_type": "stream", 
       "stream": "stdout", 
       "text": [
        "", 
        " 7% [=>                                     ] 8,916,895    746K/s  eta 1m 48s  "
       ]
      }, 
      {
       "output_type": "stream", 
       "stream": "stdout", 
       "text": [
        "", 
        " 7% [=>                                     ] 9,097,119    732K/s  eta 1m 48s  "
       ]
      }, 
      {
       "output_type": "stream", 
       "stream": "stdout", 
       "text": [
        "", 
        " 7% [=>                                     ] 9,211,807    696K/s  eta 1m 48s  "
       ]
      }, 
      {
       "output_type": "stream", 
       "stream": "stdout", 
       "text": [
        "", 
        " 7% [=>                                     ] 9,326,495    669K/s  eta 1m 48s  "
       ]
      }, 
      {
       "output_type": "stream", 
       "stream": "stdout", 
       "text": [
        "", 
        " 7% [==>                                    ] 9,457,567    680K/s  eta 1m 54s  "
       ]
      }, 
      {
       "output_type": "stream", 
       "stream": "stdout", 
       "text": [
        "", 
        " 7% [==>                                    ] 9,588,639    629K/s  eta 1m 54s  "
       ]
      }, 
      {
       "output_type": "stream", 
       "stream": "stdout", 
       "text": [
        "", 
        " 7% [==>                                    ] 9,686,943    621K/s  eta 1m 54s  "
       ]
      }, 
      {
       "output_type": "stream", 
       "stream": "stdout", 
       "text": [
        "", 
        " 8% [==>                                    ] 9,785,247    612K/s  eta 1m 54s  "
       ]
      }, 
      {
       "output_type": "stream", 
       "stream": "stdout", 
       "text": [
        "", 
        " 8% [==>                                    ] 9,899,935    600K/s  eta 1m 54s  "
       ]
      }, 
      {
       "output_type": "stream", 
       "stream": "stdout", 
       "text": [
        "", 
        " 8% [==>                                    ] 10,014,623   589K/s  eta 1m 59s  "
       ]
      }, 
      {
       "output_type": "stream", 
       "stream": "stdout", 
       "text": [
        "", 
        " 8% [==>                                    ] 10,080,159   567K/s  eta 1m 59s  "
       ]
      }, 
      {
       "output_type": "stream", 
       "stream": "stdout", 
       "text": [
        "", 
        " 8% [==>                                    ] 10,211,231   560K/s  eta 1m 59s  "
       ]
      }, 
      {
       "output_type": "stream", 
       "stream": "stdout", 
       "text": [
        "", 
        " 8% [==>                                    ] 10,293,151   545K/s  eta 1m 59s  "
       ]
      }, 
      {
       "output_type": "stream", 
       "stream": "stdout", 
       "text": [
        "", 
        " 8% [==>                                    ] 10,391,455   521K/s  eta 1m 59s  "
       ]
      }, 
      {
       "output_type": "stream", 
       "stream": "stdout", 
       "text": [
        "", 
        " 8% [==>                                    ] 10,489,759   506K/s  eta 2m 5s   "
       ]
      }, 
      {
       "output_type": "stream", 
       "stream": "stdout", 
       "text": [
        "", 
        " 8% [==>                                    ] 10,588,063   493K/s  eta 2m 5s   "
       ]
      }, 
      {
       "output_type": "stream", 
       "stream": "stdout", 
       "text": [
        "", 
        " 8% [==>                                    ] 10,686,367   483K/s  eta 2m 5s   "
       ]
      }, 
      {
       "output_type": "stream", 
       "stream": "stdout", 
       "text": [
        "", 
        " 8% [==>                                    ] 10,784,671   477K/s  eta 2m 5s   "
       ]
      }, 
      {
       "output_type": "stream", 
       "stream": "stdout", 
       "text": [
        "", 
        " 8% [==>                                    ] 10,882,975   472K/s  eta 2m 5s   "
       ]
      }, 
      {
       "output_type": "stream", 
       "stream": "stdout", 
       "text": [
        "", 
        " 8% [==>                                    ] 10,915,743   451K/s  eta 2m 10s  "
       ]
      }, 
      {
       "output_type": "stream", 
       "stream": "stdout", 
       "text": [
        "", 
        " 9% [==>                                    ] 11,030,431   449K/s  eta 2m 10s  "
       ]
      }, 
      {
       "output_type": "stream", 
       "stream": "stdout", 
       "text": [
        "", 
        " 9% [==>                                    ] 11,112,351   435K/s  eta 2m 10s  "
       ]
      }, 
      {
       "output_type": "stream", 
       "stream": "stdout", 
       "text": [
        "", 
        " 9% [==>                                    ] 11,210,655   439K/s  eta 2m 10s  "
       ]
      }, 
      {
       "output_type": "stream", 
       "stream": "stdout", 
       "text": [
        "", 
        " 9% [==>                                    ] 11,292,575   416K/s  eta 2m 10s  "
       ]
      }, 
      {
       "output_type": "stream", 
       "stream": "stdout", 
       "text": [
        "", 
        " 9% [==>                                    ] 11,390,879   411K/s  eta 2m 15s  "
       ]
      }, 
      {
       "output_type": "stream", 
       "stream": "stdout", 
       "text": [
        "", 
        " 9% [==>                                    ] 11,489,183   410K/s  eta 2m 15s  "
       ]
      }, 
      {
       "output_type": "stream", 
       "stream": "stdout", 
       "text": [
        "", 
        " 9% [==>                                    ] 11,603,871   413K/s  eta 2m 15s  "
       ]
      }, 
      {
       "output_type": "stream", 
       "stream": "stdout", 
       "text": [
        "", 
        " 9% [==>                                    ] 11,702,175   402K/s  eta 2m 15s  "
       ]
      }, 
      {
       "output_type": "stream", 
       "stream": "stdout", 
       "text": [
        "", 
        " 9% [==>                                    ] 11,816,863   404K/s  eta 2m 15s  "
       ]
      }, 
      {
       "output_type": "stream", 
       "stream": "stdout", 
       "text": [
        "", 
        " 9% [==>                                    ] 11,915,167   406K/s  eta 2m 20s  "
       ]
      }, 
      {
       "output_type": "stream", 
       "stream": "stdout", 
       "text": [
        "", 
        " 9% [==>                                    ] 12,013,471   405K/s  eta 2m 20s  "
       ]
      }, 
      {
       "output_type": "stream", 
       "stream": "stdout", 
       "text": [
        "", 
        " 9% [==>                                    ] 12,128,159   409K/s  eta 2m 20s  "
       ]
      }, 
      {
       "output_type": "stream", 
       "stream": "stdout", 
       "text": [
        "", 
        "10% [==>                                    ] 12,226,463   407K/s  eta 2m 20s  "
       ]
      }, 
      {
       "output_type": "stream", 
       "stream": "stdout", 
       "text": [
        "", 
        "10% [==>                                    ] 12,341,151   407K/s  eta 2m 20s  "
       ]
      }, 
      {
       "output_type": "stream", 
       "stream": "stdout", 
       "text": [
        "", 
        "10% [==>                                    ] 12,439,455   408K/s  eta 2m 24s  "
       ]
      }, 
      {
       "output_type": "stream", 
       "stream": "stdout", 
       "text": [
        "", 
        "10% [===>                                   ] 12,521,375   365K/s  eta 2m 24s  "
       ]
      }, 
      {
       "output_type": "stream", 
       "stream": "stdout", 
       "text": [
        "", 
        "10% [===>                                   ] 12,586,911   283K/s  eta 2m 39s  "
       ]
      }, 
      {
       "output_type": "stream", 
       "stream": "stdout", 
       "text": [
        "", 
        "10% [===>                                   ] 12,603,295   245K/s  eta 2m 39s  "
       ]
      }, 
      {
       "output_type": "stream", 
       "stream": "stdout", 
       "text": [
        "", 
        "10% [===>                                   ] 12,619,679   216K/s  eta 2m 51s  "
       ]
      }, 
      {
       "output_type": "stream", 
       "stream": "stdout", 
       "text": [
        "", 
        "10% [===>                                   ] 12,636,063   194K/s  eta 2m 51s  "
       ]
      }, 
      {
       "output_type": "stream", 
       "stream": "stdout", 
       "text": [
        "", 
        "10% [===>                                   ] 12,652,447   172K/s  eta 3m 2s   "
       ]
      }, 
      {
       "output_type": "stream", 
       "stream": "stdout", 
       "text": [
        "", 
        "10% [===>                                   ] 12,668,831   155K/s  eta 3m 2s   "
       ]
      }, 
      {
       "output_type": "stream", 
       "stream": "stdout", 
       "text": [
        "", 
        "10% [===>                                   ] 12,685,215   140K/s  eta 3m 12s  "
       ]
      }, 
      {
       "output_type": "stream", 
       "stream": "stdout", 
       "text": [
        "", 
        "10% [===>                                   ] 12,717,983   126K/s  eta 3m 12s  "
       ]
      }, 
      {
       "output_type": "stream", 
       "stream": "stdout", 
       "text": [
        "", 
        "10% [===>                                   ] 12,750,751   114K/s  eta 3m 22s  "
       ]
      }, 
      {
       "output_type": "stream", 
       "stream": "stdout", 
       "text": [
        "", 
        "10% [===>                                   ] 12,832,671   111K/s  eta 3m 22s  "
       ]
      }, 
      {
       "output_type": "stream", 
       "stream": "stdout", 
       "text": [
        "", 
        "10% [===>                                   ] 12,930,975   111K/s  eta 3m 22s  "
       ]
      }, 
      {
       "output_type": "stream", 
       "stream": "stdout", 
       "text": [
        "", 
        "10% [===>                                   ] 13,062,047   117K/s  eta 3m 26s  "
       ]
      }, 
      {
       "output_type": "stream", 
       "stream": "stdout", 
       "text": [
        "", 
        "10% [===>                                   ] 13,225,887   124K/s  eta 3m 26s  "
       ]
      }, 
      {
       "output_type": "stream", 
       "stream": "stdout", 
       "text": [
        "", 
        "11% [===>                                   ] 13,406,111   127K/s  eta 3m 26s  "
       ]
      }, 
      {
       "output_type": "stream", 
       "stream": "stdout", 
       "text": [
        "", 
        "11% [===>                                   ] 13,619,103   142K/s  eta 3m 26s  "
       ]
      }, 
      {
       "output_type": "stream", 
       "stream": "stdout", 
       "text": [
        "", 
        "11% [===>                                   ] 13,864,863   156K/s  eta 3m 26s  "
       ]
      }, 
      {
       "output_type": "stream", 
       "stream": "stdout", 
       "text": [
        "", 
        "11% [===>                                   ] 14,061,471   163K/s  eta 3m 19s  "
       ]
      }, 
      {
       "output_type": "stream", 
       "stream": "stdout", 
       "text": [
        "", 
        "11% [===>                                   ] 14,356,383   195K/s  eta 3m 19s  "
       ]
      }, 
      {
       "output_type": "stream", 
       "stream": "stdout", 
       "text": [
        "", 
        "11% [===>                                   ] 14,552,991   238K/s  eta 3m 19s  "
       ]
      }, 
      {
       "output_type": "stream", 
       "stream": "stdout", 
       "text": [
        "", 
        "12% [===>                                   ] 14,782,367   309K/s  eta 3m 19s  "
       ]
      }, 
      {
       "output_type": "stream", 
       "stream": "stdout", 
       "text": [
        "", 
        "12% [===>                                   ] 15,011,743   365K/s  eta 3m 19s  "
       ]
      }, 
      {
       "output_type": "stream", 
       "stream": "stdout", 
       "text": [
        "", 
        "12% [===>                                   ] 15,093,663   403K/s  eta 3m 11s  "
       ]
      }, 
      {
       "output_type": "stream", 
       "stream": "stdout", 
       "text": [
        "", 
        "12% [===>                                   ] 15,372,191   484K/s  eta 3m 11s  "
       ]
      }, 
      {
       "output_type": "stream", 
       "stream": "stdout", 
       "text": [
        "", 
        "12% [===>                                   ] 15,536,031   544K/s  eta 3m 11s  "
       ]
      }, 
      {
       "output_type": "stream", 
       "stream": "stdout", 
       "text": [
        "", 
        "12% [====>                                  ] 15,732,639   725K/s  eta 3m 11s  "
       ]
      }, 
      {
       "output_type": "stream", 
       "stream": "stdout", 
       "text": [
        "", 
        "13% [====>                                  ] 15,929,247   818K/s  eta 3m 11s  "
       ]
      }, 
      {
       "output_type": "stream", 
       "stream": "stdout", 
       "text": [
        "", 
        "13% [====>                                  ] 16,125,855   844K/s  eta 3m 4s   "
       ]
      }, 
      {
       "output_type": "stream", 
       "stream": "stdout", 
       "text": [
        "", 
        "13% [====>                                  ] 16,322,463   870K/s  eta 3m 4s   "
       ]
      }, 
      {
       "output_type": "stream", 
       "stream": "stdout", 
       "text": [
        "", 
        "13% [====>                                  ] 16,535,455   865K/s  eta 3m 4s   "
       ]
      }, 
      {
       "output_type": "stream", 
       "stream": "stdout", 
       "text": [
        "", 
        "13% [====>                                  ] 16,748,447   880K/s  eta 3m 4s   "
       ]
      }, 
      {
       "output_type": "stream", 
       "stream": "stdout", 
       "text": [
        "", 
        "13% [====>                                  ] 16,879,519   851K/s  eta 3m 4s   "
       ]
      }, 
      {
       "output_type": "stream", 
       "stream": "stdout", 
       "text": [
        "", 
        "14% [====>                                  ] 17,108,895   854K/s  eta 2m 59s  "
       ]
      }, 
      {
       "output_type": "stream", 
       "stream": "stdout", 
       "text": [
        "", 
        "14% [====>                                  ] 17,272,735   857K/s  eta 2m 59s  "
       ]
      }, 
      {
       "output_type": "stream", 
       "stream": "stdout", 
       "text": [
        "", 
        "14% [====>                                  ] 17,436,575   810K/s  eta 2m 59s  "
       ]
      }, 
      {
       "output_type": "stream", 
       "stream": "stdout", 
       "text": [
        "", 
        "14% [====>                                  ] 17,600,415   799K/s  eta 2m 59s  "
       ]
      }, 
      {
       "output_type": "stream", 
       "stream": "stdout", 
       "text": [
        "", 
        "14% [====>                                  ] 17,764,255   796K/s  eta 2m 59s  "
       ]
      }, 
      {
       "output_type": "stream", 
       "stream": "stdout", 
       "text": [
        "", 
        "14% [====>                                  ] 17,928,095   789K/s  eta 2m 56s  "
       ]
      }, 
      {
       "output_type": "stream", 
       "stream": "stdout", 
       "text": [
        "", 
        "14% [====>                                  ] 18,091,935   802K/s  eta 2m 56s  "
       ]
      }, 
      {
       "output_type": "stream", 
       "stream": "stdout", 
       "text": [
        "", 
        "14% [====>                                  ] 18,198,431   647K/s  eta 2m 59s  "
       ]
      }, 
      {
       "output_type": "stream", 
       "stream": "stdout", 
       "text": [
        "", 
        "15% [====>                                  ] 18,550,687   680K/s  eta 2m 59s  "
       ]
      }, 
      {
       "output_type": "stream", 
       "stream": "stdout", 
       "text": [
        "", 
        "15% [====>                                  ] 18,665,375   674K/s  eta 2m 59s  "
       ]
      }, 
      {
       "output_type": "stream", 
       "stream": "stdout", 
       "text": [
        "", 
        "15% [=====>                                 ] 18,796,447   660K/s  eta 2m 59s  "
       ]
      }, 
      {
       "output_type": "stream", 
       "stream": "stdout", 
       "text": [
        "", 
        "15% [=====>                                 ] 18,927,519   651K/s  eta 2m 59s  "
       ]
      }, 
      {
       "output_type": "stream", 
       "stream": "stdout", 
       "text": [
        "", 
        "15% [=====>                                 ] 18,976,671   621K/s  eta 2m 56s  "
       ]
      }, 
      {
       "output_type": "stream", 
       "stream": "stdout", 
       "text": [
        "", 
        "15% [=====>                                 ] 19,156,895   617K/s  eta 2m 56s  "
       ]
      }, 
      {
       "output_type": "stream", 
       "stream": "stdout", 
       "text": [
        "", 
        "15% [=====>                                 ] 19,271,583   599K/s  eta 2m 56s  "
       ]
      }, 
      {
       "output_type": "stream", 
       "stream": "stdout", 
       "text": [
        "", 
        "15% [=====>                                 ] 19,386,271   590K/s  eta 2m 56s  "
       ]
      }, 
      {
       "output_type": "stream", 
       "stream": "stdout", 
       "text": [
        "", 
        "16% [=====>                                 ] 19,517,343   569K/s  eta 2m 56s  "
       ]
      }, 
      {
       "output_type": "stream", 
       "stream": "stdout", 
       "text": [
        "", 
        "16% [=====>                                 ] 19,648,415   569K/s  eta 2m 55s  "
       ]
      }, 
      {
       "output_type": "stream", 
       "stream": "stdout", 
       "text": [
        "", 
        "16% [=====>                                 ] 19,730,335   542K/s  eta 2m 55s  "
       ]
      }, 
      {
       "output_type": "stream", 
       "stream": "stdout", 
       "text": [
        "", 
        "16% [=====>                                 ] 19,894,175   538K/s  eta 2m 55s  "
       ]
      }, 
      {
       "output_type": "stream", 
       "stream": "stdout", 
       "text": [
        "", 
        "16% [=====>                                 ] 19,992,479   526K/s  eta 2m 55s  "
       ]
      }, 
      {
       "output_type": "stream", 
       "stream": "stdout", 
       "text": [
        "", 
        "16% [=====>                                 ] 20,107,167   500K/s  eta 2m 55s  "
       ]
      }, 
      {
       "output_type": "stream", 
       "stream": "stdout", 
       "text": [
        "", 
        "16% [=====>                                 ] 20,221,855   483K/s  eta 2m 55s  "
       ]
      }, 
      {
       "output_type": "stream", 
       "stream": "stdout", 
       "text": [
        "", 
        "16% [=====>                                 ] 20,336,543   503K/s  eta 2m 55s  "
       ]
      }, 
      {
       "output_type": "stream", 
       "stream": "stdout", 
       "text": [
        "", 
        "16% [=====>                                 ] 20,451,231   506K/s  eta 2m 55s  "
       ]
      }, 
      {
       "output_type": "stream", 
       "stream": "stdout", 
       "text": [
        "", 
        "16% [=====>                                 ] 20,565,919   495K/s  eta 2m 55s  "
       ]
      }, 
      {
       "output_type": "stream", 
       "stream": "stdout", 
       "text": [
        "", 
        "17% [=====>                                 ] 20,680,607   496K/s  eta 2m 55s  "
       ]
      }, 
      {
       "output_type": "stream", 
       "stream": "stdout", 
       "text": [
        "", 
        "17% [=====>                                 ] 20,795,295   507K/s  eta 2m 55s  "
       ]
      }, 
      {
       "output_type": "stream", 
       "stream": "stdout", 
       "text": [
        "", 
        "17% [=====>                                 ] 20,893,599   488K/s  eta 2m 55s  "
       ]
      }, 
      {
       "output_type": "stream", 
       "stream": "stdout", 
       "text": [
        "", 
        "17% [=====>                                 ] 20,991,903   485K/s  eta 2m 55s  "
       ]
      }, 
      {
       "output_type": "stream", 
       "stream": "stdout", 
       "text": [
        "", 
        "17% [=====>                                 ] 21,106,591   482K/s  eta 2m 55s  "
       ]
      }, 
      {
       "output_type": "stream", 
       "stream": "stdout", 
       "text": [
        "", 
        "17% [=====>                                 ] 21,221,279   475K/s  eta 2m 55s  "
       ]
      }, 
      {
       "output_type": "stream", 
       "stream": "stdout", 
       "text": [
        "", 
        "17% [=====>                                 ] 21,335,967   469K/s  eta 2m 55s  "
       ]
      }, 
      {
       "output_type": "stream", 
       "stream": "stdout", 
       "text": [
        "", 
        "17% [=====>                                 ] 21,450,655   487K/s  eta 2m 55s  "
       ]
      }, 
      {
       "output_type": "stream", 
       "stream": "stdout", 
       "text": [
        "", 
        "17% [=====>                                 ] 21,565,343   476K/s  eta 2m 55s  "
       ]
      }, 
      {
       "output_type": "stream", 
       "stream": "stdout", 
       "text": [
        "", 
        "17% [=====>                                 ] 21,630,879   461K/s  eta 2m 55s  "
       ]
      }, 
      {
       "output_type": "stream", 
       "stream": "stdout", 
       "text": [
        "", 
        "17% [=====>                                 ] 21,745,567   464K/s  eta 2m 55s  "
       ]
      }, 
      {
       "output_type": "stream", 
       "stream": "stdout", 
       "text": [
        "", 
        "17% [======>                                ] 21,811,103   450K/s  eta 2m 55s  "
       ]
      }, 
      {
       "output_type": "stream", 
       "stream": "stdout", 
       "text": [
        "", 
        "18% [======>                                ] 21,893,023   440K/s  eta 2m 55s  "
       ]
      }, 
      {
       "output_type": "stream", 
       "stream": "stdout", 
       "text": [
        "", 
        "18% [======>                                ] 21,958,559   426K/s  eta 2m 55s  "
       ]
      }, 
      {
       "output_type": "stream", 
       "stream": "stdout", 
       "text": [
        "", 
        "18% [======>                                ] 22,040,479   416K/s  eta 2m 55s  "
       ]
      }, 
      {
       "output_type": "stream", 
       "stream": "stdout", 
       "text": [
        "", 
        "18% [======>                                ] 22,122,399   409K/s  eta 2m 55s  "
       ]
      }, 
      {
       "output_type": "stream", 
       "stream": "stdout", 
       "text": [
        "", 
        "18% [======>                                ] 22,187,935   395K/s  eta 2m 57s  "
       ]
      }, 
      {
       "output_type": "stream", 
       "stream": "stdout", 
       "text": [
        "", 
        "18% [======>                                ] 22,269,855   366K/s  eta 2m 57s  "
       ]
      }, 
      {
       "output_type": "stream", 
       "stream": "stdout", 
       "text": [
        "", 
        "18% [======>                                ] 22,351,775   360K/s  eta 2m 57s  "
       ]
      }, 
      {
       "output_type": "stream", 
       "stream": "stdout", 
       "text": [
        "", 
        "18% [======>                                ] 22,417,311   347K/s  eta 2m 57s  "
       ]
      }, 
      {
       "output_type": "stream", 
       "stream": "stdout", 
       "text": [
        "", 
        "18% [======>                                ] 22,482,847   337K/s  eta 2m 59s  "
       ]
      }, 
      {
       "output_type": "stream", 
       "stream": "stdout", 
       "text": [
        "", 
        "18% [======>                                ] 22,548,383   328K/s  eta 2m 59s  "
       ]
      }, 
      {
       "output_type": "stream", 
       "stream": "stdout", 
       "text": [
        "", 
        "18% [======>                                ] 22,630,303   314K/s  eta 2m 59s  "
       ]
      }, 
      {
       "output_type": "stream", 
       "stream": "stdout", 
       "text": [
        "", 
        "18% [======>                                ] 22,695,839   306K/s  eta 2m 59s  "
       ]
      }, 
      {
       "output_type": "stream", 
       "stream": "stdout", 
       "text": [
        "", 
        "18% [======>                                ] 22,777,759   304K/s  eta 2m 59s  "
       ]
      }, 
      {
       "output_type": "stream", 
       "stream": "stdout", 
       "text": [
        "", 
        "18% [======>                                ] 22,859,679   298K/s  eta 3m 1s   "
       ]
      }, 
      {
       "output_type": "stream", 
       "stream": "stdout", 
       "text": [
        "", 
        "18% [======>                                ] 22,925,215   292K/s  eta 3m 1s   "
       ]
      }, 
      {
       "output_type": "stream", 
       "stream": "stdout", 
       "text": [
        "", 
        "18% [======>                                ] 23,007,135   291K/s  eta 3m 1s   "
       ]
      }, 
      {
       "output_type": "stream", 
       "stream": "stdout", 
       "text": [
        "", 
        "18% [======>                                ] 23,056,287   284K/s  eta 3m 1s   "
       ]
      }, 
      {
       "output_type": "stream", 
       "stream": "stdout", 
       "text": [
        "", 
        "19% [======>                                ] 23,138,207   287K/s  eta 3m 1s   "
       ]
      }, 
      {
       "output_type": "stream", 
       "stream": "stdout", 
       "text": [
        "", 
        "19% [======>                                ] 23,187,359   284K/s  eta 3m 3s   "
       ]
      }, 
      {
       "output_type": "stream", 
       "stream": "stdout", 
       "text": [
        "", 
        "19% [======>                                ] 23,252,895   280K/s  eta 3m 3s   "
       ]
      }, 
      {
       "output_type": "stream", 
       "stream": "stdout", 
       "text": [
        "", 
        "19% [======>                                ] 23,334,815   280K/s  eta 3m 3s   "
       ]
      }, 
      {
       "output_type": "stream", 
       "stream": "stdout", 
       "text": [
        "", 
        "19% [======>                                ] 23,400,351   291K/s  eta 3m 3s   "
       ]
      }, 
      {
       "output_type": "stream", 
       "stream": "stdout", 
       "text": [
        "", 
        "19% [======>                                ] 23,482,271   292K/s  eta 3m 3s   "
       ]
      }, 
      {
       "output_type": "stream", 
       "stream": "stdout", 
       "text": [
        "", 
        "19% [======>                                ] 23,547,807   294K/s  eta 3m 4s   "
       ]
      }, 
      {
       "output_type": "stream", 
       "stream": "stdout", 
       "text": [
        "", 
        "19% [======>                                ] 23,629,727   295K/s  eta 3m 4s   "
       ]
      }, 
      {
       "output_type": "stream", 
       "stream": "stdout", 
       "text": [
        "", 
        "19% [======>                                ] 23,711,647   297K/s  eta 3m 4s   "
       ]
      }, 
      {
       "output_type": "stream", 
       "stream": "stdout", 
       "text": [
        "", 
        "19% [======>                                ] 23,777,183   297K/s  eta 3m 4s   "
       ]
      }, 
      {
       "output_type": "stream", 
       "stream": "stdout", 
       "text": [
        "", 
        "19% [======>                                ] 23,859,103   296K/s  eta 3m 4s   "
       ]
      }, 
      {
       "output_type": "stream", 
       "stream": "stdout", 
       "text": [
        "", 
        "19% [======>                                ] 23,924,639   296K/s  eta 3m 5s   "
       ]
      }, 
      {
       "output_type": "stream", 
       "stream": "stdout", 
       "text": [
        "", 
        "19% [======>                                ] 24,006,559   298K/s  eta 3m 5s   "
       ]
      }, 
      {
       "output_type": "stream", 
       "stream": "stdout", 
       "text": [
        "", 
        "19% [======>                                ] 24,088,479   296K/s  eta 3m 5s   "
       ]
      }, 
      {
       "output_type": "stream", 
       "stream": "stdout", 
       "text": [
        "", 
        "19% [======>                                ] 24,154,015   305K/s  eta 3m 5s   "
       ]
      }, 
      {
       "output_type": "stream", 
       "stream": "stdout", 
       "text": [
        "", 
        "19% [======>                                ] 24,235,935   302K/s  eta 3m 5s   "
       ]
      }, 
      {
       "output_type": "stream", 
       "stream": "stdout", 
       "text": [
        "", 
        "20% [======>                                ] 24,317,855   307K/s  eta 3m 6s   "
       ]
      }, 
      {
       "output_type": "stream", 
       "stream": "stdout", 
       "text": [
        "", 
        "20% [======>                                ] 24,399,775   312K/s  eta 3m 6s   "
       ]
      }, 
      {
       "output_type": "stream", 
       "stream": "stdout", 
       "text": [
        "", 
        "20% [======>                                ] 24,465,311   311K/s  eta 3m 6s   "
       ]
      }, 
      {
       "output_type": "stream", 
       "stream": "stdout", 
       "text": [
        "", 
        "20% [======>                                ] 24,547,231   315K/s  eta 3m 6s   "
       ]
      }, 
      {
       "output_type": "stream", 
       "stream": "stdout", 
       "text": [
        "", 
        "20% [======>                                ] 24,629,151   314K/s  eta 3m 6s   "
       ]
      }, 
      {
       "output_type": "stream", 
       "stream": "stdout", 
       "text": [
        "", 
        "20% [======>                                ] 24,727,455   320K/s  eta 3m 7s   "
       ]
      }, 
      {
       "output_type": "stream", 
       "stream": "stdout", 
       "text": [
        "", 
        "20% [======>                                ] 24,825,759   325K/s  eta 3m 7s   "
       ]
      }, 
      {
       "output_type": "stream", 
       "stream": "stdout", 
       "text": [
        "", 
        "20% [=======>                               ] 24,924,063   332K/s  eta 3m 7s   "
       ]
      }, 
      {
       "output_type": "stream", 
       "stream": "stdout", 
       "text": [
        "", 
        "20% [=======>                               ] 25,038,751   342K/s  eta 3m 7s   "
       ]
      }, 
      {
       "output_type": "stream", 
       "stream": "stdout", 
       "text": [
        "", 
        "20% [=======>                               ] 25,153,439   349K/s  eta 3m 7s   "
       ]
      }, 
      {
       "output_type": "stream", 
       "stream": "stdout", 
       "text": [
        "", 
        "20% [=======>                               ] 25,284,511   368K/s  eta 3m 7s   "
       ]
      }, 
      {
       "output_type": "stream", 
       "stream": "stdout", 
       "text": [
        "", 
        "20% [=======>                               ] 25,415,583   379K/s  eta 3m 7s   "
       ]
      }, 
      {
       "output_type": "stream", 
       "stream": "stdout", 
       "text": [
        "", 
        "21% [=======>                               ] 25,563,039   400K/s  eta 3m 7s   "
       ]
      }, 
      {
       "output_type": "stream", 
       "stream": "stdout", 
       "text": [
        "", 
        "21% [=======>                               ] 25,726,879   426K/s  eta 3m 7s   "
       ]
      }, 
      {
       "output_type": "stream", 
       "stream": "stdout", 
       "text": [
        "", 
        "21% [=======>                               ] 25,890,719   445K/s  eta 3m 7s   "
       ]
      }, 
      {
       "output_type": "stream", 
       "stream": "stdout", 
       "text": [
        "", 
        "21% [=======>                               ] 26,021,791   465K/s  eta 3m 4s   "
       ]
      }, 
      {
       "output_type": "stream", 
       "stream": "stdout", 
       "text": [
        "", 
        "21% [=======>                               ] 26,202,015   494K/s  eta 3m 4s   "
       ]
      }, 
      {
       "output_type": "stream", 
       "stream": "stdout", 
       "text": [
        "", 
        "21% [=======>                               ] 26,431,391   543K/s  eta 3m 4s   "
       ]
      }, 
      {
       "output_type": "stream", 
       "stream": "stdout", 
       "text": [
        "", 
        "21% [=======>                               ] 26,677,151   588K/s  eta 3m 4s   "
       ]
      }, 
      {
       "output_type": "stream", 
       "stream": "stdout", 
       "text": [
        "", 
        "22% [=======>                               ] 26,922,911   633K/s  eta 3m 4s   "
       ]
      }, 
      {
       "output_type": "stream", 
       "stream": "stdout", 
       "text": [
        "", 
        "22% [=======>                               ] 27,119,519   665K/s  eta 2m 58s  "
       ]
      }, 
      {
       "output_type": "stream", 
       "stream": "stdout", 
       "text": [
        "", 
        "22% [=======>                               ] 27,430,815   716K/s  eta 2m 58s  "
       ]
      }, 
      {
       "output_type": "stream", 
       "stream": "stdout", 
       "text": [
        "", 
        "22% [=======>                               ] 27,611,039   757K/s  eta 2m 58s  "
       ]
      }, 
      {
       "output_type": "stream", 
       "stream": "stdout", 
       "text": [
        "", 
        "23% [=======>                               ] 27,987,871   815K/s  eta 2m 58s  "
       ]
      }, 
      {
       "output_type": "stream", 
       "stream": "stdout", 
       "text": [
        "", 
        "23% [========>                              ] 28,381,087   917K/s  eta 2m 58s  "
       ]
      }, 
      {
       "output_type": "stream", 
       "stream": "stdout", 
       "text": [
        "", 
        "23% [========>                              ] 28,528,543   910K/s  eta 2m 51s  "
       ]
      }, 
      {
       "output_type": "stream", 
       "stream": "stdout", 
       "text": [
        "", 
        "23% [========>                              ] 28,987,295  1004K/s  eta 2m 51s  "
       ]
      }, 
      {
       "output_type": "stream", 
       "stream": "stdout", 
       "text": [
        "", 
        "24% [========>                              ] 29,265,823  1.02M/s  eta 2m 51s  "
       ]
      }, 
      {
       "output_type": "stream", 
       "stream": "stdout", 
       "text": [
        "", 
        "24% [========>                              ] 29,495,199  1.04M/s  eta 2m 51s  "
       ]
      }, 
      {
       "output_type": "stream", 
       "stream": "stdout", 
       "text": [
        "", 
        "24% [========>                              ] 29,839,263  1.11M/s  eta 2m 51s  "
       ]
      }, 
      {
       "output_type": "stream", 
       "stream": "stdout", 
       "text": [
        "", 
        "24% [========>                              ] 30,134,175  1.17M/s  eta 2m 42s  "
       ]
      }, 
      {
       "output_type": "stream", 
       "stream": "stdout", 
       "text": [
        "", 
        "25% [========>                              ] 30,461,855  1.18M/s  eta 2m 42s  "
       ]
      }, 
      {
       "output_type": "stream", 
       "stream": "stdout", 
       "text": [
        "", 
        "25% [========>                              ] 30,846,879  1.26M/s  eta 2m 42s  "
       ]
      }, 
      {
       "output_type": "stream", 
       "stream": "stdout", 
       "text": [
        "", 
        "25% [=========>                             ] 31,149,983  1.26M/s  eta 2m 42s  "
       ]
      }, 
      {
       "output_type": "stream", 
       "stream": "stdout", 
       "text": [
        "", 
        "26% [=========>                             ] 31,608,735  1.33M/s  eta 2m 42s  "
       ]
      }, 
      {
       "output_type": "stream", 
       "stream": "stdout", 
       "text": [
        "", 
        "26% [=========>                             ] 31,903,647  1.33M/s  eta 2m 33s  "
       ]
      }, 
      {
       "output_type": "stream", 
       "stream": "stdout", 
       "text": [
        "", 
        "26% [=========>                             ] 32,133,023  1.33M/s  eta 2m 33s  "
       ]
      }, 
      {
       "output_type": "stream", 
       "stream": "stdout", 
       "text": [
        "", 
        "26% [=========>                             ] 32,411,551  1.36M/s  eta 2m 33s  "
       ]
      }, 
      {
       "output_type": "stream", 
       "stream": "stdout", 
       "text": [
        "", 
        "26% [=========>                             ] 32,673,695  1.34M/s  eta 2m 33s  "
       ]
      }, 
      {
       "output_type": "stream", 
       "stream": "stdout", 
       "text": [
        "", 
        "27% [=========>                             ] 32,886,687  1.27M/s  eta 2m 33s  "
       ]
      }, 
      {
       "output_type": "stream", 
       "stream": "stdout", 
       "text": [
        "", 
        "27% [=========>                             ] 33,247,135  1.35M/s  eta 2m 28s  "
       ]
      }, 
      {
       "output_type": "stream", 
       "stream": "stdout", 
       "text": [
        "", 
        "27% [=========>                             ] 33,443,743  1.25M/s  eta 2m 28s  "
       ]
      }, 
      {
       "output_type": "stream", 
       "stream": "stdout", 
       "text": [
        "", 
        "27% [=========>                             ] 33,738,655  1.25M/s  eta 2m 28s  "
       ]
      }, 
      {
       "output_type": "stream", 
       "stream": "stdout", 
       "text": [
        "", 
        "27% [=========>                             ] 33,902,495  1.21M/s  eta 2m 28s  "
       ]
      }, 
      {
       "output_type": "stream", 
       "stream": "stdout", 
       "text": [
        "", 
        "28% [=========>                             ] 34,066,335  1.16M/s  eta 2m 28s  "
       ]
      }, 
      {
       "output_type": "stream", 
       "stream": "stdout", 
       "text": [
        "", 
        "28% [==========>                            ] 34,262,943  1.12M/s  eta 2m 25s  "
       ]
      }, 
      {
       "output_type": "stream", 
       "stream": "stdout", 
       "text": [
        "", 
        "28% [==========>                            ] 34,459,551  1.09M/s  eta 2m 25s  "
       ]
      }, 
      {
       "output_type": "stream", 
       "stream": "stdout", 
       "text": [
        "", 
        "28% [==========>                            ] 34,656,159  1.03M/s  eta 2m 25s  "
       ]
      }, 
      {
       "output_type": "stream", 
       "stream": "stdout", 
       "text": [
        "", 
        "28% [==========>                            ] 34,836,383  1.05M/s  eta 2m 25s  "
       ]
      }, 
      {
       "output_type": "stream", 
       "stream": "stdout", 
       "text": [
        "", 
        "28% [==========>                            ] 35,016,607   989K/s  eta 2m 25s  "
       ]
      }, 
      {
       "output_type": "stream", 
       "stream": "stdout", 
       "text": [
        "", 
        "29% [==========>                            ] 35,213,215   964K/s  eta 2m 22s  "
       ]
      }, 
      {
       "output_type": "stream", 
       "stream": "stdout", 
       "text": [
        "", 
        "29% [==========>                            ] 35,393,439   955K/s  eta 2m 22s  "
       ]
      }, 
      {
       "output_type": "stream", 
       "stream": "stdout", 
       "text": [
        "", 
        "29% [==========>                            ] 35,590,047   930K/s  eta 2m 22s  "
       ]
      }, 
      {
       "output_type": "stream", 
       "stream": "stdout", 
       "text": [
        "", 
        "29% [==========>                            ] 35,786,655   912K/s  eta 2m 22s  "
       ]
      }, 
      {
       "output_type": "stream", 
       "stream": "stdout", 
       "text": [
        "", 
        "29% [==========>                            ] 35,983,263   918K/s  eta 2m 22s  "
       ]
      }, 
      {
       "output_type": "stream", 
       "stream": "stdout", 
       "text": [
        "", 
        "29% [==========>                            ] 36,163,487   869K/s  eta 2m 19s  "
       ]
      }, 
      {
       "output_type": "stream", 
       "stream": "stdout", 
       "text": [
        "", 
        "29% [==========>                            ] 36,343,711   858K/s  eta 2m 19s  "
       ]
      }, 
      {
       "output_type": "stream", 
       "stream": "stdout", 
       "text": [
        "", 
        "30% [==========>                            ] 36,458,399   824K/s  eta 2m 19s  "
       ]
      }, 
      {
       "output_type": "stream", 
       "stream": "stdout", 
       "text": [
        "", 
        "30% [==========>                            ] 36,704,159   845K/s  eta 2m 19s  "
       ]
      }, 
      {
       "output_type": "stream", 
       "stream": "stdout", 
       "text": [
        "", 
        "30% [==========>                            ] 36,851,615   841K/s  eta 2m 19s  "
       ]
      }, 
      {
       "output_type": "stream", 
       "stream": "stdout", 
       "text": [
        "", 
        "30% [==========>                            ] 36,982,687   832K/s  eta 2m 17s  "
       ]
      }, 
      {
       "output_type": "stream", 
       "stream": "stdout", 
       "text": [
        "", 
        "30% [==========>                            ] 37,097,375   808K/s  eta 2m 17s  "
       ]
      }, 
      {
       "output_type": "stream", 
       "stream": "stdout", 
       "text": [
        "", 
        "30% [==========>                            ] 37,212,063   795K/s  eta 2m 17s  "
       ]
      }, 
      {
       "output_type": "stream", 
       "stream": "stdout", 
       "text": [
        "", 
        "30% [==========>                            ] 37,326,751   747K/s  eta 2m 17s  "
       ]
      }, 
      {
       "output_type": "stream", 
       "stream": "stdout", 
       "text": [
        "", 
        "30% [===========>                           ] 37,474,207   735K/s  eta 2m 17s  "
       ]
      }, 
      {
       "output_type": "stream", 
       "stream": "stdout", 
       "text": [
        "", 
        "30% [===========>                           ] 37,572,511   704K/s  eta 2m 17s  "
       ]
      }, 
      {
       "output_type": "stream", 
       "stream": "stdout", 
       "text": [
        "", 
        "31% [===========>                           ] 37,670,815   683K/s  eta 2m 17s  "
       ]
      }, 
      {
       "output_type": "stream", 
       "stream": "stdout", 
       "text": [
        "", 
        "31% [===========>                           ] 37,769,119   658K/s  eta 2m 17s  "
       ]
      }, 
      {
       "output_type": "stream", 
       "stream": "stdout", 
       "text": [
        "", 
        "31% [===========>                           ] 37,867,423   623K/s  eta 2m 17s  "
       ]
      }, 
      {
       "output_type": "stream", 
       "stream": "stdout", 
       "text": [
        "", 
        "31% [===========>                           ] 37,965,727   604K/s  eta 2m 17s  "
       ]
      }, 
      {
       "output_type": "stream", 
       "stream": "stdout", 
       "text": [
        "", 
        "31% [===========>                           ] 38,064,031   583K/s  eta 2m 17s  "
       ]
      }, 
      {
       "output_type": "stream", 
       "stream": "stdout", 
       "text": [
        "", 
        "31% [===========>                           ] 38,162,335   550K/s  eta 2m 17s  "
       ]
      }, 
      {
       "output_type": "stream", 
       "stream": "stdout", 
       "text": [
        "", 
        "31% [===========>                           ] 38,277,023   529K/s  eta 2m 17s  "
       ]
      }, 
      {
       "output_type": "stream", 
       "stream": "stdout", 
       "text": [
        "", 
        "31% [===========>                           ] 38,391,711   497K/s  eta 2m 17s  "
       ]
      }, 
      {
       "output_type": "stream", 
       "stream": "stdout", 
       "text": [
        "", 
        "31% [===========>                           ] 38,506,399   491K/s  eta 2m 17s  "
       ]
      }, 
      {
       "output_type": "stream", 
       "stream": "stdout", 
       "text": [
        "", 
        "31% [===========>                           ] 38,604,703   500K/s  eta 2m 16s  "
       ]
      }, 
      {
       "output_type": "stream", 
       "stream": "stdout", 
       "text": [
        "", 
        "31% [===========>                           ] 38,686,623   468K/s  eta 2m 16s  "
       ]
      }, 
      {
       "output_type": "stream", 
       "stream": "stdout", 
       "text": [
        "", 
        "31% [===========>                           ] 38,801,311   462K/s  eta 2m 16s  "
       ]
      }, 
      {
       "output_type": "stream", 
       "stream": "stdout", 
       "text": [
        "", 
        "32% [===========>                           ] 38,915,999   458K/s  eta 2m 16s  "
       ]
      }, 
      {
       "output_type": "stream", 
       "stream": "stdout", 
       "text": [
        "", 
        "32% [===========>                           ] 39,030,687   458K/s  eta 2m 16s  "
       ]
      }, 
      {
       "output_type": "stream", 
       "stream": "stdout", 
       "text": [
        "", 
        "32% [===========>                           ] 39,128,991   462K/s  eta 2m 16s  "
       ]
      }, 
      {
       "output_type": "stream", 
       "stream": "stdout", 
       "text": [
        "", 
        "32% [===========>                           ] 39,243,679   466K/s  eta 2m 16s  "
       ]
      }, 
      {
       "output_type": "stream", 
       "stream": "stdout", 
       "text": [
        "", 
        "32% [===========>                           ] 39,358,367   468K/s  eta 2m 16s  "
       ]
      }, 
      {
       "output_type": "stream", 
       "stream": "stdout", 
       "text": [
        "", 
        "32% [===========>                           ] 39,473,055   471K/s  eta 2m 16s  "
       ]
      }, 
      {
       "output_type": "stream", 
       "stream": "stdout", 
       "text": [
        "", 
        "32% [===========>                           ] 39,587,743   474K/s  eta 2m 16s  "
       ]
      }, 
      {
       "output_type": "stream", 
       "stream": "stdout", 
       "text": [
        "", 
        "32% [===========>                           ] 39,686,047   471K/s  eta 2m 15s  "
       ]
      }, 
      {
       "output_type": "stream", 
       "stream": "stdout", 
       "text": [
        "", 
        "32% [===========>                           ] 39,800,735   480K/s  eta 2m 15s  "
       ]
      }, 
      {
       "output_type": "stream", 
       "stream": "stdout", 
       "text": [
        "", 
        "32% [===========>                           ] 39,841,695   401K/s  eta 2m 15s  "
       ]
      }, 
      {
       "output_type": "stream", 
       "stream": "stdout", 
       "text": [
        "", 
        "33% [===========>                           ] 40,144,799   448K/s  eta 2m 15s  "
       ]
      }, 
      {
       "output_type": "stream", 
       "stream": "stdout", 
       "text": [
        "", 
        "33% [===========>                           ] 40,226,719   448K/s  eta 2m 15s  "
       ]
      }, 
      {
       "output_type": "stream", 
       "stream": "stdout", 
       "text": [
        "", 
        "33% [===========>                           ] 40,341,407   449K/s  eta 2m 15s  "
       ]
      }, 
      {
       "output_type": "stream", 
       "stream": "stdout", 
       "text": [
        "", 
        "33% [============>                          ] 40,456,095   454K/s  eta 2m 15s  "
       ]
      }, 
      {
       "output_type": "stream", 
       "stream": "stdout", 
       "text": [
        "", 
        "33% [============>                          ] 40,570,783   455K/s  eta 2m 15s  "
       ]
      }, 
      {
       "output_type": "stream", 
       "stream": "stdout", 
       "text": [
        "", 
        "33% [============>                          ] 40,685,471   460K/s  eta 2m 15s  "
       ]
      }, 
      {
       "output_type": "stream", 
       "stream": "stdout", 
       "text": [
        "", 
        "33% [============>                          ] 40,816,543   466K/s  eta 2m 15s  "
       ]
      }, 
      {
       "output_type": "stream", 
       "stream": "stdout", 
       "text": [
        "", 
        "33% [============>                          ] 40,931,231   469K/s  eta 2m 15s  "
       ]
      }, 
      {
       "output_type": "stream", 
       "stream": "stdout", 
       "text": [
        "", 
        "33% [============>                          ] 41,045,919   474K/s  eta 2m 15s  "
       ]
      }, 
      {
       "output_type": "stream", 
       "stream": "stdout", 
       "text": [
        "", 
        "33% [============>                          ] 41,160,607   476K/s  eta 2m 15s  "
       ]
      }, 
      {
       "output_type": "stream", 
       "stream": "stdout", 
       "text": [
        "", 
        "33% [============>                          ] 41,258,911   475K/s  eta 2m 14s  "
       ]
      }, 
      {
       "output_type": "stream", 
       "stream": "stdout", 
       "text": [
        "", 
        "34% [============>                          ] 41,406,367   479K/s  eta 2m 14s  "
       ]
      }, 
      {
       "output_type": "stream", 
       "stream": "stdout", 
       "text": [
        "", 
        "34% [============>                          ] 41,537,439   484K/s  eta 2m 14s  "
       ]
      }, 
      {
       "output_type": "stream", 
       "stream": "stdout", 
       "text": [
        "", 
        "34% [============>                          ] 41,652,127   489K/s  eta 2m 14s  "
       ]
      }, 
      {
       "output_type": "stream", 
       "stream": "stdout", 
       "text": [
        "", 
        "34% [============>                          ] 41,766,815   488K/s  eta 2m 14s  "
       ]
      }, 
      {
       "output_type": "stream", 
       "stream": "stdout", 
       "text": [
        "", 
        "34% [============>                          ] 41,897,887   578K/s  eta 2m 13s  "
       ]
      }, 
      {
       "output_type": "stream", 
       "stream": "stdout", 
       "text": [
        "", 
        "34% [============>                          ] 42,028,959   528K/s  eta 2m 13s  "
       ]
      }, 
      {
       "output_type": "stream", 
       "stream": "stdout", 
       "text": [
        "", 
        "34% [============>                          ] 42,160,031   540K/s  eta 2m 13s  "
       ]
      }, 
      {
       "output_type": "stream", 
       "stream": "stdout", 
       "text": [
        "", 
        "34% [============>                          ] 42,291,103   548K/s  eta 2m 13s  "
       ]
      }, 
      {
       "output_type": "stream", 
       "stream": "stdout", 
       "text": [
        "", 
        "34% [============>                          ] 42,405,791   550K/s  eta 2m 13s  "
       ]
      }, 
      {
       "output_type": "stream", 
       "stream": "stdout", 
       "text": [
        "", 
        "35% [============>                          ] 42,536,863   548K/s  eta 2m 12s  "
       ]
      }, 
      {
       "output_type": "stream", 
       "stream": "stdout", 
       "text": [
        "", 
        "35% [============>                          ] 42,667,935   550K/s  eta 2m 12s  "
       ]
      }, 
      {
       "output_type": "stream", 
       "stream": "stdout", 
       "text": [
        "", 
        "35% [============>                          ] 42,815,391   551K/s  eta 2m 12s  "
       ]
      }, 
      {
       "output_type": "stream", 
       "stream": "stdout", 
       "text": [
        "", 
        "35% [============>                          ] 42,962,847   557K/s  eta 2m 12s  "
       ]
      }, 
      {
       "output_type": "stream", 
       "stream": "stdout", 
       "text": [
        "", 
        "35% [============>                          ] 43,126,687   564K/s  eta 2m 12s  "
       ]
      }, 
      {
       "output_type": "stream", 
       "stream": "stdout", 
       "text": [
        "", 
        "35% [============>                          ] 43,274,143   562K/s  eta 2m 11s  "
       ]
      }, 
      {
       "output_type": "stream", 
       "stream": "stdout", 
       "text": [
        "", 
        "35% [============>                          ] 43,388,831   565K/s  eta 2m 11s  "
       ]
      }, 
      {
       "output_type": "stream", 
       "stream": "stdout", 
       "text": [
        "", 
        "35% [============>                          ] 43,519,903   560K/s  eta 2m 11s  "
       ]
      }, 
      {
       "output_type": "stream", 
       "stream": "stdout", 
       "text": [
        "", 
        "35% [=============>                         ] 43,667,359   559K/s  eta 2m 11s  "
       ]
      }, 
      {
       "output_type": "stream", 
       "stream": "stdout", 
       "text": [
        "", 
        "36% [=============>                         ] 43,782,047   549K/s  eta 2m 10s  "
       ]
      }, 
      {
       "output_type": "stream", 
       "stream": "stdout", 
       "text": [
        "", 
        "36% [=============>                         ] 43,929,503   552K/s  eta 2m 10s  "
       ]
      }, 
      {
       "output_type": "stream", 
       "stream": "stdout", 
       "text": [
        "", 
        "36% [=============>                         ] 44,044,191   528K/s  eta 2m 10s  "
       ]
      }, 
      {
       "output_type": "stream", 
       "stream": "stdout", 
       "text": [
        "", 
        "36% [=============>                         ] 44,175,263   534K/s  eta 2m 10s  "
       ]
      }, 
      {
       "output_type": "stream", 
       "stream": "stdout", 
       "text": [
        "", 
        "36% [=============>                         ] 44,257,183   524K/s  eta 2m 10s  "
       ]
      }, 
      {
       "output_type": "stream", 
       "stream": "stdout", 
       "text": [
        "", 
        "36% [=============>                         ] 44,355,487   509K/s  eta 2m 10s  "
       ]
      }, 
      {
       "output_type": "stream", 
       "stream": "stdout", 
       "text": [
        "", 
        "36% [=============>                         ] 44,453,791   496K/s  eta 2m 10s  "
       ]
      }, 
      {
       "output_type": "stream", 
       "stream": "stdout", 
       "text": [
        "", 
        "36% [=============>                         ] 44,535,711   491K/s  eta 2m 10s  "
       ]
      }, 
      {
       "output_type": "stream", 
       "stream": "stdout", 
       "text": [
        "", 
        "36% [=============>                         ] 44,634,015   478K/s  eta 2m 10s  "
       ]
      }, 
      {
       "output_type": "stream", 
       "stream": "stdout", 
       "text": [
        "", 
        "36% [=============>                         ] 44,732,319   462K/s  eta 2m 10s  "
       ]
      }, 
      {
       "output_type": "stream", 
       "stream": "stdout", 
       "text": [
        "", 
        "36% [=============>                         ] 44,830,623   454K/s  eta 2m 10s  "
       ]
      }, 
      {
       "output_type": "stream", 
       "stream": "stdout", 
       "text": [
        "", 
        "37% [=============>                         ] 44,928,927   453K/s  eta 2m 10s  "
       ]
      }, 
      {
       "output_type": "stream", 
       "stream": "stdout", 
       "text": [
        "", 
        "37% [=============>                         ] 45,027,231   431K/s  eta 2m 10s  "
       ]
      }, 
      {
       "output_type": "stream", 
       "stream": "stdout", 
       "text": [
        "", 
        "37% [=============>                         ] 45,109,151   424K/s  eta 2m 10s  "
       ]
      }, 
      {
       "output_type": "stream", 
       "stream": "stdout", 
       "text": [
        "", 
        "37% [=============>                         ] 45,174,687   409K/s  eta 2m 10s  "
       ]
      }, 
      {
       "output_type": "stream", 
       "stream": "stdout", 
       "text": [
        "", 
        "37% [=============>                         ] 45,240,223   399K/s  eta 2m 10s  "
       ]
      }, 
      {
       "output_type": "stream", 
       "stream": "stdout", 
       "text": [
        "", 
        "37% [=============>                         ] 45,322,143   381K/s  eta 2m 10s  "
       ]
      }, 
      {
       "output_type": "stream", 
       "stream": "stdout", 
       "text": [
        "", 
        "37% [=============>                         ] 45,387,679   374K/s  eta 2m 10s  "
       ]
      }, 
      {
       "output_type": "stream", 
       "stream": "stdout", 
       "text": [
        "", 
        "37% [=============>                         ] 45,469,599   383K/s  eta 2m 10s  "
       ]
      }, 
      {
       "output_type": "stream", 
       "stream": "stdout", 
       "text": [
        "", 
        "37% [=============>                         ] 45,567,903   370K/s  eta 2m 10s  "
       ]
      }, 
      {
       "output_type": "stream", 
       "stream": "stdout", 
       "text": [
        "", 
        "37% [=============>                         ] 45,649,823   370K/s  eta 2m 10s  "
       ]
      }, 
      {
       "output_type": "stream", 
       "stream": "stdout", 
       "text": [
        "", 
        "37% [=============>                         ] 45,748,127   371K/s  eta 2m 10s  "
       ]
      }, 
      {
       "output_type": "stream", 
       "stream": "stdout", 
       "text": [
        "", 
        "37% [=============>                         ] 45,846,431   372K/s  eta 2m 10s  "
       ]
      }, 
      {
       "output_type": "stream", 
       "stream": "stdout", 
       "text": [
        "", 
        "37% [=============>                         ] 45,944,735   373K/s  eta 2m 10s  "
       ]
      }, 
      {
       "output_type": "stream", 
       "stream": "stdout", 
       "text": [
        "", 
        "37% [=============>                         ] 46,043,039   372K/s  eta 2m 9s   "
       ]
      }, 
      {
       "output_type": "stream", 
       "stream": "stdout", 
       "text": [
        "", 
        "38% [=============>                         ] 46,141,343   373K/s  eta 2m 9s   "
       ]
      }, 
      {
       "output_type": "stream", 
       "stream": "stdout", 
       "text": [
        "", 
        "38% [=============>                         ] 46,239,647   372K/s  eta 2m 9s   "
       ]
      }, 
      {
       "output_type": "stream", 
       "stream": "stdout", 
       "text": [
        "", 
        "38% [=============>                         ] 46,337,951   372K/s  eta 2m 9s   "
       ]
      }, 
      {
       "output_type": "stream", 
       "stream": "stdout", 
       "text": [
        "", 
        "38% [=============>                         ] 46,436,255   372K/s  eta 2m 9s   "
       ]
      }, 
      {
       "output_type": "stream", 
       "stream": "stdout", 
       "text": [
        "", 
        "38% [=============>                         ] 46,534,559   377K/s  eta 2m 9s   "
       ]
      }, 
      {
       "output_type": "stream", 
       "stream": "stdout", 
       "text": [
        "", 
        "38% [=============>                         ] 46,632,863   381K/s  eta 2m 9s   "
       ]
      }, 
      {
       "output_type": "stream", 
       "stream": "stdout", 
       "text": [
        "", 
        "38% [==============>                        ] 46,731,167   387K/s  eta 2m 9s   "
       ]
      }, 
      {
       "output_type": "stream", 
       "stream": "stdout", 
       "text": [
        "", 
        "38% [==============>                        ] 46,796,703   382K/s  eta 2m 9s   "
       ]
      }, 
      {
       "output_type": "stream", 
       "stream": "stdout", 
       "text": [
        "", 
        "38% [==============>                        ] 46,878,623   384K/s  eta 2m 9s   "
       ]
      }, 
      {
       "output_type": "stream", 
       "stream": "stdout", 
       "text": [
        "", 
        "38% [==============>                        ] 46,976,927   378K/s  eta 2m 9s   "
       ]
      }, 
      {
       "output_type": "stream", 
       "stream": "stdout", 
       "text": [
        "", 
        "38% [==============>                        ] 47,091,615   388K/s  eta 2m 9s   "
       ]
      }, 
      {
       "output_type": "stream", 
       "stream": "stdout", 
       "text": [
        "", 
        "38% [==============>                        ] 47,173,535   380K/s  eta 2m 9s   "
       ]
      }, 
      {
       "output_type": "stream", 
       "stream": "stdout", 
       "text": [
        "", 
        "38% [==============>                        ] 47,255,455   383K/s  eta 2m 9s   "
       ]
      }, 
      {
       "output_type": "stream", 
       "stream": "stdout", 
       "text": [
        "", 
        "39% [==============>                        ] 47,337,375   377K/s  eta 2m 9s   "
       ]
      }, 
      {
       "output_type": "stream", 
       "stream": "stdout", 
       "text": [
        "", 
        "39% [==============>                        ] 47,386,527   363K/s  eta 2m 9s   "
       ]
      }, 
      {
       "output_type": "stream", 
       "stream": "stdout", 
       "text": [
        "", 
        "39% [==============>                        ] 47,484,831   362K/s  eta 2m 9s   "
       ]
      }, 
      {
       "output_type": "stream", 
       "stream": "stdout", 
       "text": [
        "", 
        "39% [==============>                        ] 47,583,135   356K/s  eta 2m 9s   "
       ]
      }, 
      {
       "output_type": "stream", 
       "stream": "stdout", 
       "text": [
        "", 
        "39% [==============>                        ] 47,632,287   342K/s  eta 2m 9s   "
       ]
      }, 
      {
       "output_type": "stream", 
       "stream": "stdout", 
       "text": [
        "", 
        "39% [==============>                        ] 47,681,439   328K/s  eta 2m 10s  "
       ]
      }, 
      {
       "output_type": "stream", 
       "stream": "stdout", 
       "text": [
        "", 
        "39% [==============>                        ] 47,730,591   313K/s  eta 2m 10s  "
       ]
      }, 
      {
       "output_type": "stream", 
       "stream": "stdout", 
       "text": [
        "", 
        "39% [==============>                        ] 47,779,743   306K/s  eta 2m 10s  "
       ]
      }, 
      {
       "output_type": "stream", 
       "stream": "stdout", 
       "text": [
        "", 
        "39% [==============>                        ] 47,828,895   291K/s  eta 2m 10s  "
       ]
      }, 
      {
       "output_type": "stream", 
       "stream": "stdout", 
       "text": [
        "", 
        "39% [==============>                        ] 47,878,047   284K/s  eta 2m 10s  "
       ]
      }, 
      {
       "output_type": "stream", 
       "stream": "stdout", 
       "text": [
        "", 
        "39% [==============>                        ] 47,927,199   273K/s  eta 2m 10s  "
       ]
      }, 
      {
       "output_type": "stream", 
       "stream": "stdout", 
       "text": [
        "", 
        "39% [==============>                        ] 47,976,351   268K/s  eta 2m 10s  "
       ]
      }, 
      {
       "output_type": "stream", 
       "stream": "stdout", 
       "text": [
        "", 
        "39% [==============>                        ] 48,025,503   263K/s  eta 2m 10s  "
       ]
      }, 
      {
       "output_type": "stream", 
       "stream": "stdout", 
       "text": [
        "", 
        "39% [==============>                        ] 48,074,655   252K/s  eta 2m 10s  "
       ]
      }, 
      {
       "output_type": "stream", 
       "stream": "stdout", 
       "text": [
        "", 
        "39% [==============>                        ] 48,123,807   247K/s  eta 2m 10s  "
       ]
      }, 
      {
       "output_type": "stream", 
       "stream": "stdout", 
       "text": [
        "", 
        "39% [==============>                        ] 48,189,343   238K/s  eta 2m 11s  "
       ]
      }, 
      {
       "output_type": "stream", 
       "stream": "stdout", 
       "text": [
        "", 
        "39% [==============>                        ] 48,254,879   233K/s  eta 2m 11s  "
       ]
      }, 
      {
       "output_type": "stream", 
       "stream": "stdout", 
       "text": [
        "", 
        "39% [==============>                        ] 48,304,031   227K/s  eta 2m 11s  "
       ]
      }, 
      {
       "output_type": "stream", 
       "stream": "stdout", 
       "text": [
        "", 
        "39% [==============>                        ] 48,369,567   226K/s  eta 2m 11s  "
       ]
      }, 
      {
       "output_type": "stream", 
       "stream": "stdout", 
       "text": [
        "", 
        "39% [==============>                        ] 48,435,103   222K/s  eta 2m 11s  "
       ]
      }, 
      {
       "output_type": "stream", 
       "stream": "stdout", 
       "text": [
        "", 
        "39% [==============>                        ] 48,500,639   215K/s  eta 2m 11s  "
       ]
      }, 
      {
       "output_type": "stream", 
       "stream": "stdout", 
       "text": [
        "", 
        "40% [==============>                        ] 48,566,175   222K/s  eta 2m 11s  "
       ]
      }, 
      {
       "output_type": "stream", 
       "stream": "stdout", 
       "text": [
        "", 
        "40% [==============>                        ] 48,631,711   227K/s  eta 2m 11s  "
       ]
      }, 
      {
       "output_type": "stream", 
       "stream": "stdout", 
       "text": [
        "", 
        "40% [==============>                        ] 48,697,247   233K/s  eta 2m 11s  "
       ]
      }, 
      {
       "output_type": "stream", 
       "stream": "stdout", 
       "text": [
        "", 
        "40% [==============>                        ] 48,779,167   243K/s  eta 2m 11s  "
       ]
      }, 
      {
       "output_type": "stream", 
       "stream": "stdout", 
       "text": [
        "", 
        "40% [==============>                        ] 48,861,087   253K/s  eta 2m 11s  "
       ]
      }, 
      {
       "output_type": "stream", 
       "stream": "stdout", 
       "text": [
        "", 
        "40% [==============>                        ] 48,959,391   265K/s  eta 2m 11s  "
       ]
      }, 
      {
       "output_type": "stream", 
       "stream": "stdout", 
       "text": [
        "", 
        "40% [==============>                        ] 49,057,695   281K/s  eta 2m 11s  "
       ]
      }, 
      {
       "output_type": "stream", 
       "stream": "stdout", 
       "text": [
        "", 
        "40% [==============>                        ] 49,139,615   284K/s  eta 2m 11s  "
       ]
      }, 
      {
       "output_type": "stream", 
       "stream": "stdout", 
       "text": [
        "", 
        "40% [==============>                        ] 49,270,687   306K/s  eta 2m 11s  "
       ]
      }, 
      {
       "output_type": "stream", 
       "stream": "stdout", 
       "text": [
        "", 
        "40% [==============>                        ] 49,368,991   314K/s  eta 2m 11s  "
       ]
      }, 
      {
       "output_type": "stream", 
       "stream": "stdout", 
       "text": [
        "", 
        "40% [==============>                        ] 49,450,911   324K/s  eta 2m 11s  "
       ]
      }, 
      {
       "output_type": "stream", 
       "stream": "stdout", 
       "text": [
        "", 
        "40% [==============>                        ] 49,549,215   338K/s  eta 2m 11s  "
       ]
      }, 
      {
       "output_type": "stream", 
       "stream": "stdout", 
       "text": [
        "", 
        "40% [==============>                        ] 49,663,903   347K/s  eta 2m 11s  "
       ]
      }, 
      {
       "output_type": "stream", 
       "stream": "stdout", 
       "text": [
        "", 
        "41% [==============>                        ] 49,778,591   364K/s  eta 2m 10s  "
       ]
      }, 
      {
       "output_type": "stream", 
       "stream": "stdout", 
       "text": [
        "", 
        "41% [===============>                       ] 49,893,279   381K/s  eta 2m 10s  "
       ]
      }, 
      {
       "output_type": "stream", 
       "stream": "stdout", 
       "text": [
        "", 
        "41% [===============>                       ] 50,024,351   395K/s  eta 2m 10s  "
       ]
      }, 
      {
       "output_type": "stream", 
       "stream": "stdout", 
       "text": [
        "", 
        "41% [===============>                       ] 50,139,039   407K/s  eta 2m 10s  "
       ]
      }, 
      {
       "output_type": "stream", 
       "stream": "stdout", 
       "text": [
        "", 
        "41% [===============>                       ] 50,270,111   427K/s  eta 2m 10s  "
       ]
      }, 
      {
       "output_type": "stream", 
       "stream": "stdout", 
       "text": [
        "", 
        "41% [===============>                       ] 50,384,799   434K/s  eta 2m 10s  "
       ]
      }, 
      {
       "output_type": "stream", 
       "stream": "stdout", 
       "text": [
        "", 
        "41% [===============>                       ] 50,515,871   444K/s  eta 2m 10s  "
       ]
      }, 
      {
       "output_type": "stream", 
       "stream": "stdout", 
       "text": [
        "", 
        "41% [===============>                       ] 50,630,559   454K/s  eta 2m 10s  "
       ]
      }, 
      {
       "output_type": "stream", 
       "stream": "stdout", 
       "text": [
        "", 
        "41% [===============>                       ] 50,761,631   461K/s  eta 2m 10s  "
       ]
      }, 
      {
       "output_type": "stream", 
       "stream": "stdout", 
       "text": [
        "", 
        "41% [===============>                       ] 50,876,319   463K/s  eta 2m 10s  "
       ]
      }, 
      {
       "output_type": "stream", 
       "stream": "stdout", 
       "text": [
        "", 
        "42% [===============>                       ] 51,007,391   474K/s  eta 2m 8s   "
       ]
      }, 
      {
       "output_type": "stream", 
       "stream": "stdout", 
       "text": [
        "", 
        "42% [===============>                       ] 51,122,079   477K/s  eta 2m 8s   "
       ]
      }, 
      {
       "output_type": "stream", 
       "stream": "stdout", 
       "text": [
        "", 
        "42% [===============>                       ] 51,236,767   486K/s  eta 2m 8s   "
       ]
      }, 
      {
       "output_type": "stream", 
       "stream": "stdout", 
       "text": [
        "", 
        "42% [===============>                       ] 51,351,455   495K/s  eta 2m 8s   "
       ]
      }, 
      {
       "output_type": "stream", 
       "stream": "stdout", 
       "text": [
        "", 
        "42% [===============>                       ] 51,466,143   494K/s  eta 2m 8s   "
       ]
      }, 
      {
       "output_type": "stream", 
       "stream": "stdout", 
       "text": [
        "", 
        "42% [===============>                       ] 51,580,831   499K/s  eta 2m 8s   "
       ]
      }, 
      {
       "output_type": "stream", 
       "stream": "stdout", 
       "text": [
        "", 
        "42% [===============>                       ] 51,679,135   501K/s  eta 2m 8s   "
       ]
      }, 
      {
       "output_type": "stream", 
       "stream": "stdout", 
       "text": [
        "", 
        "42% [===============>                       ] 51,810,207   505K/s  eta 2m 8s   "
       ]
      }, 
      {
       "output_type": "stream", 
       "stream": "stdout", 
       "text": [
        "", 
        "42% [===============>                       ] 51,941,279   510K/s  eta 2m 8s   "
       ]
      }, 
      {
       "output_type": "stream", 
       "stream": "stdout", 
       "text": [
        "", 
        "42% [===============>                       ] 52,072,351   512K/s  eta 2m 8s   "
       ]
      }, 
      {
       "output_type": "stream", 
       "stream": "stdout", 
       "text": [
        "", 
        "43% [===============>                       ] 52,203,423   521K/s  eta 2m 6s   "
       ]
      }, 
      {
       "output_type": "stream", 
       "stream": "stdout", 
       "text": [
        "", 
        "43% [===============>                       ] 52,334,495   530K/s  eta 2m 6s   "
       ]
      }, 
      {
       "output_type": "stream", 
       "stream": "stdout", 
       "text": [
        "", 
        "43% [===============>                       ] 52,465,567   533K/s  eta 2m 6s   "
       ]
      }, 
      {
       "output_type": "stream", 
       "stream": "stdout", 
       "text": [
        "", 
        "43% [===============>                       ] 52,613,023   532K/s  eta 2m 6s   ", 
        "43% [===============>                       ] 52,621,215   505K/s  eta 2m 6s   "
       ]
      }, 
      {
       "output_type": "stream", 
       "stream": "stdout", 
       "text": [
        "", 
        "43% [===============>                       ] 52,826,015   528K/s  eta 2m 5s   "
       ]
      }, 
      {
       "output_type": "stream", 
       "stream": "stdout", 
       "text": [
        "", 
        "43% [================>                      ] 52,924,319   525K/s  eta 2m 5s   "
       ]
      }, 
      {
       "output_type": "stream", 
       "stream": "stdout", 
       "text": [
        "", 
        "43% [================>                      ] 53,071,775   535K/s  eta 2m 5s   "
       ]
      }, 
      {
       "output_type": "stream", 
       "stream": "stdout", 
       "text": [
        "", 
        "43% [================>                      ] 53,219,231   544K/s  eta 2m 5s   "
       ]
      }, 
      {
       "output_type": "stream", 
       "stream": "stdout", 
       "text": [
        "", 
        "43% [================>                      ] 53,383,071   549K/s  eta 2m 5s   "
       ]
      }, 
      {
       "output_type": "stream", 
       "stream": "stdout", 
       "text": [
        "", 
        "44% [================>                      ] 53,464,991   539K/s  eta 2m 4s   "
       ]
      }, 
      {
       "output_type": "stream", 
       "stream": "stdout", 
       "text": [
        "", 
        "44% [================>                      ] 53,645,215   553K/s  eta 2m 4s   "
       ]
      }, 
      {
       "output_type": "stream", 
       "stream": "stdout", 
       "text": [
        "", 
        "44% [================>                      ] 53,776,287   549K/s  eta 2m 4s   "
       ]
      }, 
      {
       "output_type": "stream", 
       "stream": "stdout", 
       "text": [
        "", 
        "44% [================>                      ] 53,890,975   548K/s  eta 2m 4s   "
       ]
      }, 
      {
       "output_type": "stream", 
       "stream": "stdout", 
       "text": [
        "", 
        "44% [================>                      ] 54,005,663   550K/s  eta 2m 4s   "
       ]
      }, 
      {
       "output_type": "stream", 
       "stream": "stdout", 
       "text": [
        "", 
        "44% [================>                      ] 54,120,351   546K/s  eta 2m 3s   "
       ]
      }, 
      {
       "output_type": "stream", 
       "stream": "stdout", 
       "text": [
        "", 
        "44% [================>                      ] 54,251,423   527K/s  eta 2m 3s   "
       ]
      }, 
      {
       "output_type": "stream", 
       "stream": "stdout", 
       "text": [
        "", 
        "44% [================>                      ] 54,382,495   526K/s  eta 2m 3s   "
       ]
      }, 
      {
       "output_type": "stream", 
       "stream": "stdout", 
       "text": [
        "", 
        "44% [================>                      ] 54,529,951   523K/s  eta 2m 3s   "
       ]
      }, 
      {
       "output_type": "stream", 
       "stream": "stdout", 
       "text": [
        "", 
        "45% [================>                      ] 54,661,023   518K/s  eta 2m 2s   "
       ]
      }, 
      {
       "output_type": "stream", 
       "stream": "stdout", 
       "text": [
        "", 
        "45% [================>                      ] 54,808,479   560K/s  eta 2m 2s   "
       ]
      }, 
      {
       "output_type": "stream", 
       "stream": "stdout", 
       "text": [
        "", 
        "45% [================>                      ] 54,939,551   539K/s  eta 2m 2s   "
       ]
      }, 
      {
       "output_type": "stream", 
       "stream": "stdout", 
       "text": [
        "", 
        "45% [================>                      ] 55,087,007   545K/s  eta 2m 2s   "
       ]
      }, 
      {
       "output_type": "stream", 
       "stream": "stdout", 
       "text": [
        "", 
        "45% [================>                      ] 55,218,079   537K/s  eta 2m 2s   "
       ]
      }, 
      {
       "output_type": "stream", 
       "stream": "stdout", 
       "text": [
        "", 
        "45% [================>                      ] 55,349,151   538K/s  eta 2m 1s   "
       ]
      }, 
      {
       "output_type": "stream", 
       "stream": "stdout", 
       "text": [
        "", 
        "45% [================>                      ] 55,480,223   538K/s  eta 2m 1s   "
       ]
      }, 
      {
       "output_type": "stream", 
       "stream": "stdout", 
       "text": [
        "", 
        "45% [================>                      ] 55,578,527   528K/s  eta 2m 1s   "
       ]
      }, 
      {
       "output_type": "stream", 
       "stream": "stdout", 
       "text": [
        "", 
        "45% [================>                      ] 55,676,831   523K/s  eta 2m 1s   "
       ]
      }, 
      {
       "output_type": "stream", 
       "stream": "stdout", 
       "text": [
        "", 
        "45% [================>                      ] 55,775,135   516K/s  eta 2m 1s   "
       ]
      }, 
      {
       "output_type": "stream", 
       "stream": "stdout", 
       "text": [
        "", 
        "46% [================>                      ] 55,889,823   513K/s  eta 2m 0s   "
       ]
      }, 
      {
       "output_type": "stream", 
       "stream": "stdout", 
       "text": [
        "", 
        "46% [================>                      ] 56,004,511   507K/s  eta 2m 0s   "
       ]
      }, 
      {
       "output_type": "stream", 
       "stream": "stdout", 
       "text": [
        "", 
        "46% [=================>                     ] 56,135,583   506K/s  eta 2m 0s   "
       ]
      }, 
      {
       "output_type": "stream", 
       "stream": "stdout", 
       "text": [
        "", 
        "46% [=================>                     ] 56,266,655   514K/s  eta 2m 0s   "
       ]
      }, 
      {
       "output_type": "stream", 
       "stream": "stdout", 
       "text": [
        "", 
        "46% [=================>                     ] 56,348,575   487K/s  eta 1m 59s  "
       ]
      }, 
      {
       "output_type": "stream", 
       "stream": "stdout", 
       "text": [
        "", 
        "46% [=================>                     ] 56,446,879   491K/s  eta 1m 59s  "
       ]
      }, 
      {
       "output_type": "stream", 
       "stream": "stdout", 
       "text": [
        "", 
        "46% [=================>                     ] 56,545,183   478K/s  eta 1m 59s  "
       ]
      }, 
      {
       "output_type": "stream", 
       "stream": "stdout", 
       "text": [
        "", 
        "46% [=================>                     ] 56,659,871   469K/s  eta 1m 59s  "
       ]
      }, 
      {
       "output_type": "stream", 
       "stream": "stdout", 
       "text": [
        "", 
        "46% [=================>                     ] 56,758,175   462K/s  eta 1m 59s  "
       ]
      }, 
      {
       "output_type": "stream", 
       "stream": "stdout", 
       "text": [
        "", 
        "46% [=================>                     ] 56,872,863   450K/s  eta 1m 58s  "
       ]
      }, 
      {
       "output_type": "stream", 
       "stream": "stdout", 
       "text": [
        "", 
        "46% [=================>                     ] 56,987,551   449K/s  eta 1m 58s  "
       ]
      }, 
      {
       "output_type": "stream", 
       "stream": "stdout", 
       "text": [
        "", 
        "47% [=================>                     ] 57,102,239   437K/s  eta 1m 58s  "
       ]
      }, 
      {
       "output_type": "stream", 
       "stream": "stdout", 
       "text": [
        "", 
        "47% [=================>                     ] 57,200,543   435K/s  eta 1m 58s  "
       ]
      }, 
      {
       "output_type": "stream", 
       "stream": "stdout", 
       "text": [
        "", 
        "47% [=================>                     ] 57,315,231   434K/s  eta 1m 58s  "
       ]
      }, 
      {
       "output_type": "stream", 
       "stream": "stdout", 
       "text": [
        "", 
        "47% [=================>                     ] 57,429,919   443K/s  eta 1m 58s  "
       ]
      }, 
      {
       "output_type": "stream", 
       "stream": "stdout", 
       "text": [
        "", 
        "47% [=================>                     ] 57,544,607   433K/s  eta 1m 58s  "
       ]
      }, 
      {
       "output_type": "stream", 
       "stream": "stdout", 
       "text": [
        "", 
        "47% [=================>                     ] 57,642,911   434K/s  eta 1m 58s  "
       ]
      }, 
      {
       "output_type": "stream", 
       "stream": "stdout", 
       "text": [
        "", 
        "47% [=================>                     ] 57,757,599   435K/s  eta 1m 58s  "
       ]
      }, 
      {
       "output_type": "stream", 
       "stream": "stdout", 
       "text": [
        "", 
        "47% [=================>                     ] 57,855,903   429K/s  eta 1m 58s  "
       ]
      }, 
      {
       "output_type": "stream", 
       "stream": "stdout", 
       "text": [
        "", 
        "47% [=================>                     ] 57,937,823   423K/s  eta 1m 57s  "
       ]
      }, 
      {
       "output_type": "stream", 
       "stream": "stdout", 
       "text": [
        "", 
        "47% [=================>                     ] 58,036,127   417K/s  eta 1m 57s  "
       ]
      }, 
      {
       "output_type": "stream", 
       "stream": "stdout", 
       "text": [
        "", 
        "47% [=================>                     ] 58,134,431   416K/s  eta 1m 57s  "
       ]
      }, 
      {
       "output_type": "stream", 
       "stream": "stdout", 
       "text": [
        "", 
        "47% [=================>                     ] 58,249,119   417K/s  eta 1m 57s  "
       ]
      }, 
      {
       "output_type": "stream", 
       "stream": "stdout", 
       "text": [
        "", 
        "48% [=================>                     ] 58,347,423   418K/s  eta 1m 56s  "
       ]
      }, 
      {
       "output_type": "stream", 
       "stream": "stdout", 
       "text": [
        "", 
        "48% [=================>                     ] 58,462,111   421K/s  eta 1m 56s  "
       ]
      }, 
      {
       "output_type": "stream", 
       "stream": "stdout", 
       "text": [
        "", 
        "48% [=================>                     ] 58,560,415   420K/s  eta 1m 56s  "
       ]
      }, 
      {
       "output_type": "stream", 
       "stream": "stdout", 
       "text": [
        "", 
        "48% [=================>                     ] 58,675,103   421K/s  eta 1m 56s  "
       ]
      }, 
      {
       "output_type": "stream", 
       "stream": "stdout", 
       "text": [
        "", 
        "48% [=================>                     ] 58,789,791   419K/s  eta 1m 56s  "
       ]
      }, 
      {
       "output_type": "stream", 
       "stream": "stdout", 
       "text": [
        "", 
        "48% [=================>                     ] 58,904,479   419K/s  eta 1m 56s  "
       ]
      }, 
      {
       "output_type": "stream", 
       "stream": "stdout", 
       "text": [
        "", 
        "48% [=================>                     ] 59,002,783   419K/s  eta 1m 56s  "
       ]
      }, 
      {
       "output_type": "stream", 
       "stream": "stdout", 
       "text": [
        "", 
        "48% [=================>                     ] 59,117,471   422K/s  eta 1m 56s  "
       ]
      }, 
      {
       "output_type": "stream", 
       "stream": "stdout", 
       "text": [
        "", 
        "48% [==================>                    ] 59,232,159   418K/s  eta 1m 55s  "
       ]
      }, 
      {
       "output_type": "stream", 
       "stream": "stdout", 
       "text": [
        "", 
        "48% [==================>                    ] 59,346,847   418K/s  eta 1m 55s  "
       ]
      }, 
      {
       "output_type": "stream", 
       "stream": "stdout", 
       "text": [
        "", 
        "48% [==================>                    ] 59,461,535   426K/s  eta 1m 55s  "
       ]
      }, 
      {
       "output_type": "stream", 
       "stream": "stdout", 
       "text": [
        "", 
        "49% [==================>                    ] 59,576,223   425K/s  eta 1m 55s  "
       ]
      }, 
      {
       "output_type": "stream", 
       "stream": "stdout", 
       "text": [
        "", 
        "49% [==================>                    ] 59,690,911   432K/s  eta 1m 55s  "
       ]
      }, 
      {
       "output_type": "stream", 
       "stream": "stdout", 
       "text": [
        "", 
        "49% [==================>                    ] 59,805,599   430K/s  eta 1m 55s  "
       ]
      }, 
      {
       "output_type": "stream", 
       "stream": "stdout", 
       "text": [
        "", 
        "49% [==================>                    ] 59,920,287   433K/s  eta 1m 55s  "
       ]
      }, 
      {
       "output_type": "stream", 
       "stream": "stdout", 
       "text": [
        "", 
        "49% [==================>                    ] 60,034,975   441K/s  eta 1m 55s  "
       ]
      }, 
      {
       "output_type": "stream", 
       "stream": "stdout", 
       "text": [
        "", 
        "49% [==================>                    ] 60,149,663   442K/s  eta 1m 55s  "
       ]
      }, 
      {
       "output_type": "stream", 
       "stream": "stdout", 
       "text": [
        "", 
        "49% [==================>                    ] 60,280,735   451K/s  eta 1m 54s  "
       ]
      }, 
      {
       "output_type": "stream", 
       "stream": "stdout", 
       "text": [
        "", 
        "49% [==================>                    ] 60,411,807   451K/s  eta 1m 54s  "
       ]
      }, 
      {
       "output_type": "stream", 
       "stream": "stdout", 
       "text": [
        "", 
        "49% [==================>                    ] 60,542,879   462K/s  eta 1m 54s  "
       ]
      }, 
      {
       "output_type": "stream", 
       "stream": "stdout", 
       "text": [
        "", 
        "49% [==================>                    ] 60,673,951   465K/s  eta 1m 54s  "
       ]
      }, 
      {
       "output_type": "stream", 
       "stream": "stdout", 
       "text": [
        "", 
        "50% [==================>                    ] 60,805,023   483K/s  eta 1m 54s  "
       ]
      }, 
      {
       "output_type": "stream", 
       "stream": "stdout", 
       "text": [
        "", 
        "50% [==================>                    ] 60,870,559   472K/s  eta 1m 53s  "
       ]
      }, 
      {
       "output_type": "stream", 
       "stream": "stdout", 
       "text": [
        "", 
        "50% [==================>                    ] 61,034,399   490K/s  eta 1m 53s  "
       ]
      }, 
      {
       "output_type": "stream", 
       "stream": "stdout", 
       "text": [
        "", 
        "50% [==================>                    ] 61,165,471   491K/s  eta 1m 53s  "
       ]
      }, 
      {
       "output_type": "stream", 
       "stream": "stdout", 
       "text": [
        "", 
        "50% [==================>                    ] 61,296,543   506K/s  eta 1m 53s  "
       ]
      }, 
      {
       "output_type": "stream", 
       "stream": "stdout", 
       "text": [
        "", 
        "50% [==================>                    ] 61,443,999   510K/s  eta 1m 53s  "
       ]
      }, 
      {
       "output_type": "stream", 
       "stream": "stdout", 
       "text": [
        "", 
        "50% [==================>                    ] 61,591,455   523K/s  eta 1m 51s  "
       ]
      }, 
      {
       "output_type": "stream", 
       "stream": "stdout", 
       "text": [
        "", 
        "50% [==================>                    ] 61,738,911   528K/s  eta 1m 51s  "
       ]
      }, 
      {
       "output_type": "stream", 
       "stream": "stdout", 
       "text": [
        "", 
        "50% [==================>                    ] 61,886,367   538K/s  eta 1m 51s  "
       ]
      }, 
      {
       "output_type": "stream", 
       "stream": "stdout", 
       "text": [
        "", 
        "51% [==================>                    ] 62,050,207   551K/s  eta 1m 51s  "
       ]
      }, 
      {
       "output_type": "stream", 
       "stream": "stdout", 
       "text": [
        "", 
        "51% [==================>                    ] 62,214,047   568K/s  eta 1m 51s  "
       ]
      }, 
      {
       "output_type": "stream", 
       "stream": "stdout", 
       "text": [
        "", 
        "51% [===================>                   ] 62,361,503   572K/s  eta 1m 49s  "
       ]
      }, 
      {
       "output_type": "stream", 
       "stream": "stdout", 
       "text": [
        "", 
        "51% [===================>                   ] 62,525,343   583K/s  eta 1m 49s  "
       ]
      }, 
      {
       "output_type": "stream", 
       "stream": "stdout", 
       "text": [
        "", 
        "51% [===================>                   ] 62,689,183   591K/s  eta 1m 49s  "
       ]
      }, 
      {
       "output_type": "stream", 
       "stream": "stdout", 
       "text": [
        "", 
        "51% [===================>                   ] 62,853,023   590K/s  eta 1m 49s  "
       ]
      }, 
      {
       "output_type": "stream", 
       "stream": "stdout", 
       "text": [
        "", 
        "51% [===================>                   ] 63,016,863   614K/s  eta 1m 48s  "
       ]
      }, 
      {
       "output_type": "stream", 
       "stream": "stdout", 
       "text": [
        "", 
        "52% [===================>                   ] 63,180,703   607K/s  eta 1m 48s  "
       ]
      }, 
      {
       "output_type": "stream", 
       "stream": "stdout", 
       "text": [
        "", 
        "52% [===================>                   ] 63,328,159   613K/s  eta 1m 48s  "
       ]
      }, 
      {
       "output_type": "stream", 
       "stream": "stdout", 
       "text": [
        "", 
        "52% [===================>                   ] 63,475,615   628K/s  eta 1m 48s  "
       ]
      }, 
      {
       "output_type": "stream", 
       "stream": "stdout", 
       "text": [
        "", 
        "52% [===================>                   ] 63,606,687   629K/s  eta 1m 48s  "
       ]
      }, 
      {
       "output_type": "stream", 
       "stream": "stdout", 
       "text": [
        "", 
        "52% [===================>                   ] 63,737,759   631K/s  eta 1m 46s  "
       ]
      }, 
      {
       "output_type": "stream", 
       "stream": "stdout", 
       "text": [
        "", 
        "52% [===================>                   ] 63,852,447   621K/s  eta 1m 46s  "
       ]
      }, 
      {
       "output_type": "stream", 
       "stream": "stdout", 
       "text": [
        "", 
        "52% [===================>                   ] 63,983,519   615K/s  eta 1m 46s  "
       ]
      }, 
      {
       "output_type": "stream", 
       "stream": "stdout", 
       "text": [
        "", 
        "52% [===================>                   ] 64,114,591   611K/s  eta 1m 46s  "
       ]
      }, 
      {
       "output_type": "stream", 
       "stream": "stdout", 
       "text": [
        "", 
        "52% [===================>                   ] 64,245,663   610K/s  eta 1m 46s  "
       ]
      }, 
      {
       "output_type": "stream", 
       "stream": "stdout", 
       "text": [
        "", 
        "53% [===================>                   ] 64,376,735   605K/s  eta 1m 45s  "
       ]
      }, 
      {
       "output_type": "stream", 
       "stream": "stdout", 
       "text": [
        "", 
        "53% [===================>                   ] 64,507,807   607K/s  eta 1m 45s  "
       ]
      }, 
      {
       "output_type": "stream", 
       "stream": "stdout", 
       "text": [
        "", 
        "53% [===================>                   ] 64,589,727   578K/s  eta 1m 45s  "
       ]
      }, 
      {
       "output_type": "stream", 
       "stream": "stdout", 
       "text": [
        "", 
        "53% [===================>                   ] 64,753,567   592K/s  eta 1m 45s  "
       ]
      }, 
      {
       "output_type": "stream", 
       "stream": "stdout", 
       "text": [
        "", 
        "53% [===================>                   ] 64,851,871   580K/s  eta 1m 45s  "
       ]
      }, 
      {
       "output_type": "stream", 
       "stream": "stdout", 
       "text": [
        "", 
        "53% [===================>                   ] 64,966,559   567K/s  eta 1m 44s  "
       ]
      }, 
      {
       "output_type": "stream", 
       "stream": "stdout", 
       "text": [
        "", 
        "53% [===================>                   ] 65,081,247   561K/s  eta 1m 44s  "
       ]
      }, 
      {
       "output_type": "stream", 
       "stream": "stdout", 
       "text": [
        "", 
        "53% [===================>                   ] 65,195,935   551K/s  eta 1m 44s  "
       ]
      }, 
      {
       "output_type": "stream", 
       "stream": "stdout", 
       "text": [
        "", 
        "53% [===================>                   ] 65,327,007   536K/s  eta 1m 44s  "
       ]
      }, 
      {
       "output_type": "stream", 
       "stream": "stdout", 
       "text": [
        "", 
        "53% [====================>                  ] 65,441,695   536K/s  eta 1m 44s  "
       ]
      }, 
      {
       "output_type": "stream", 
       "stream": "stdout", 
       "text": [
        "", 
        "54% [====================>                  ] 65,539,999   542K/s  eta 1m 43s  "
       ]
      }, 
      {
       "output_type": "stream", 
       "stream": "stdout", 
       "text": [
        "", 
        "54% [====================>                  ] 65,671,071   523K/s  eta 1m 43s  "
       ]
      }, 
      {
       "output_type": "stream", 
       "stream": "stdout", 
       "text": [
        "", 
        "54% [====================>                  ] 65,802,143   523K/s  eta 1m 43s  "
       ]
      }, 
      {
       "output_type": "stream", 
       "stream": "stdout", 
       "text": [
        "", 
        "54% [====================>                  ] 65,933,215   523K/s  eta 1m 43s  "
       ]
      }, 
      {
       "output_type": "stream", 
       "stream": "stdout", 
       "text": [
        "", 
        "54% [====================>                  ] 66,064,287   516K/s  eta 1m 42s  "
       ]
      }, 
      {
       "output_type": "stream", 
       "stream": "stdout", 
       "text": [
        "", 
        "54% [====================>                  ] 66,195,359   516K/s  eta 1m 42s  "
       ]
      }, 
      {
       "output_type": "stream", 
       "stream": "stdout", 
       "text": [
        "", 
        "54% [====================>                  ] 66,326,431   508K/s  eta 1m 42s  "
       ]
      }, 
      {
       "output_type": "stream", 
       "stream": "stdout", 
       "text": [
        "", 
        "54% [====================>                  ] 66,441,119   516K/s  eta 1m 42s  "
       ]
      }, 
      {
       "output_type": "stream", 
       "stream": "stdout", 
       "text": [
        "", 
        "54% [====================>                  ] 66,572,191   500K/s  eta 1m 42s  "
       ]
      }, 
      {
       "output_type": "stream", 
       "stream": "stdout", 
       "text": [
        "", 
        "54% [====================>                  ] 66,703,263   502K/s  eta 1m 41s  "
       ]
      }, 
      {
       "output_type": "stream", 
       "stream": "stdout", 
       "text": [
        "", 
        "55% [====================>                  ] 66,834,335   504K/s  eta 1m 41s  "
       ]
      }, 
      {
       "output_type": "stream", 
       "stream": "stdout", 
       "text": [
        "", 
        "55% [====================>                  ] 66,965,407   506K/s  eta 1m 41s  "
       ]
      }, 
      {
       "output_type": "stream", 
       "stream": "stdout", 
       "text": [
        "", 
        "55% [====================>                  ] 67,096,479   497K/s  eta 1m 41s  "
       ]
      }, 
      {
       "output_type": "stream", 
       "stream": "stdout", 
       "text": [
        "", 
        "55% [====================>                  ] 67,260,319   509K/s  eta 1m 40s  "
       ]
      }, 
      {
       "output_type": "stream", 
       "stream": "stdout", 
       "text": [
        "", 
        "55% [====================>                  ] 67,358,623   500K/s  eta 1m 40s  "
       ]
      }, 
      {
       "output_type": "stream", 
       "stream": "stdout", 
       "text": [
        "", 
        "55% [====================>                  ] 67,456,927   499K/s  eta 1m 40s  "
       ]
      }, 
      {
       "output_type": "stream", 
       "stream": "stdout", 
       "text": [
        "", 
        "55% [====================>                  ] 67,571,615   498K/s  eta 1m 40s  "
       ]
      }, 
      {
       "output_type": "stream", 
       "stream": "stdout", 
       "text": [
        "", 
        "55% [====================>                  ] 67,686,303   501K/s  eta 1m 40s  "
       ]
      }, 
      {
       "output_type": "stream", 
       "stream": "stdout", 
       "text": [
        "", 
        "55% [====================>                  ] 67,784,607   496K/s  eta 99s     "
       ]
      }, 
      {
       "output_type": "stream", 
       "stream": "stdout", 
       "text": [
        "", 
        "55% [====================>                  ] 67,915,679   497K/s  eta 99s     "
       ]
      }, 
      {
       "output_type": "stream", 
       "stream": "stdout", 
       "text": [
        "", 
        "56% [====================>                  ] 68,046,751   502K/s  eta 99s     "
       ]
      }, 
      {
       "output_type": "stream", 
       "stream": "stdout", 
       "text": [
        "", 
        "56% [====================>                  ] 68,169,631   480K/s  eta 99s     "
       ]
      }, 
      {
       "output_type": "stream", 
       "stream": "stdout", 
       "text": [
        "", 
        "56% [====================>                  ] 68,202,399   433K/s  eta 99s     "
       ]
      }, 
      {
       "output_type": "stream", 
       "stream": "stdout", 
       "text": [
        "", 
        "56% [=====================>                 ] 68,554,655   493K/s  eta 99s     "
       ]
      }, 
      {
       "output_type": "stream", 
       "stream": "stdout", 
       "text": [
        "", 
        "56% [=====================>                 ] 68,652,959   487K/s  eta 99s     "
       ]
      }, 
      {
       "output_type": "stream", 
       "stream": "stdout", 
       "text": [
        "", 
        "56% [=====================>                 ] 68,800,415   490K/s  eta 99s     "
       ]
      }, 
      {
       "output_type": "stream", 
       "stream": "stdout", 
       "text": [
        "", 
        "56% [=====================>                 ] 68,898,719   484K/s  eta 99s     "
       ]
      }, 
      {
       "output_type": "stream", 
       "stream": "stdout", 
       "text": [
        "", 
        "56% [=====================>                 ] 68,915,103   451K/s  eta 97s     "
       ]
      }, 
      {
       "output_type": "stream", 
       "stream": "stdout", 
       "text": [
        "", 
        "56% [=====================>                 ] 69,095,327   478K/s  eta 97s     "
       ]
      }, 
      {
       "output_type": "stream", 
       "stream": "stdout", 
       "text": [
        "", 
        "57% [=====================>                 ] 69,177,247   457K/s  eta 97s     "
       ]
      }, 
      {
       "output_type": "stream", 
       "stream": "stdout", 
       "text": [
        "", 
        "57% [=====================>                 ] 69,275,551   456K/s  eta 97s     "
       ]
      }, 
      {
       "output_type": "stream", 
       "stream": "stdout", 
       "text": [
        "", 
        "57% [=====================>                 ] 69,373,855   449K/s  eta 97s     "
       ]
      }, 
      {
       "output_type": "stream", 
       "stream": "stdout", 
       "text": [
        "", 
        "57% [=====================>                 ] 69,472,159   443K/s  eta 97s     "
       ]
      }, 
      {
       "output_type": "stream", 
       "stream": "stdout", 
       "text": [
        "", 
        "57% [=====================>                 ] 69,554,079   435K/s  eta 97s     "
       ]
      }, 
      {
       "output_type": "stream", 
       "stream": "stdout", 
       "text": [
        "", 
        "57% [=====================>                 ] 69,652,383   428K/s  eta 97s     "
       ]
      }, 
      {
       "output_type": "stream", 
       "stream": "stdout", 
       "text": [
        "", 
        "57% [=====================>                 ] 69,750,687   421K/s  eta 97s     "
       ]
      }, 
      {
       "output_type": "stream", 
       "stream": "stdout", 
       "text": [
        "", 
        "57% [=====================>                 ] 69,848,991   409K/s  eta 96s     "
       ]
      }, 
      {
       "output_type": "stream", 
       "stream": "stdout", 
       "text": [
        "", 
        "57% [=====================>                 ] 69,947,295   460K/s  eta 96s     "
       ]
      }, 
      {
       "output_type": "stream", 
       "stream": "stdout", 
       "text": [
        "", 
        "57% [=====================>                 ] 70,045,599   394K/s  eta 96s     "
       ]
      }, 
      {
       "output_type": "stream", 
       "stream": "stdout", 
       "text": [
        "", 
        "57% [=====================>                 ] 70,143,903   394K/s  eta 96s     "
       ]
      }, 
      {
       "output_type": "stream", 
       "stream": "stdout", 
       "text": [
        "", 
        "57% [=====================>                 ] 70,242,207   382K/s  eta 96s     "
       ]
      }, 
      {
       "output_type": "stream", 
       "stream": "stdout", 
       "text": [
        "", 
        "57% [=====================>                 ] 70,340,511   402K/s  eta 95s     "
       ]
      }, 
      {
       "output_type": "stream", 
       "stream": "stdout", 
       "text": [
        "", 
        "58% [=====================>                 ] 70,438,815   381K/s  eta 95s     "
       ]
      }, 
      {
       "output_type": "stream", 
       "stream": "stdout", 
       "text": [
        "", 
        "58% [=====================>                 ] 70,537,119   388K/s  eta 95s     "
       ]
      }, 
      {
       "output_type": "stream", 
       "stream": "stdout", 
       "text": [
        "", 
        "58% [=====================>                 ] 70,619,039   388K/s  eta 95s     "
       ]
      }, 
      {
       "output_type": "stream", 
       "stream": "stdout", 
       "text": [
        "", 
        "58% [=====================>                 ] 70,717,343   392K/s  eta 95s     "
       ]
      }, 
      {
       "output_type": "stream", 
       "stream": "stdout", 
       "text": [
        "", 
        "58% [=====================>                 ] 70,832,031   396K/s  eta 95s     "
       ]
      }, 
      {
       "output_type": "stream", 
       "stream": "stdout", 
       "text": [
        "", 
        "58% [=====================>                 ] 70,930,335   401K/s  eta 95s     "
       ]
      }, 
      {
       "output_type": "stream", 
       "stream": "stdout", 
       "text": [
        "", 
        "58% [=====================>                 ] 71,045,023   404K/s  eta 95s     "
       ]
      }, 
      {
       "output_type": "stream", 
       "stream": "stdout", 
       "text": [
        "", 
        "58% [=====================>                 ] 71,159,711   412K/s  eta 95s     "
       ]
      }, 
      {
       "output_type": "stream", 
       "stream": "stdout", 
       "text": [
        "", 
        "58% [=====================>                 ] 71,274,399   422K/s  eta 95s     "
       ]
      }, 
      {
       "output_type": "stream", 
       "stream": "stdout", 
       "text": [
        "", 
        "58% [=====================>                 ] 71,372,703   426K/s  eta 94s     "
       ]
      }, 
      {
       "output_type": "stream", 
       "stream": "stdout", 
       "text": [
        "", 
        "58% [=====================>                 ] 71,520,159   438K/s  eta 94s     "
       ]
      }, 
      {
       "output_type": "stream", 
       "stream": "stdout", 
       "text": [
        "", 
        "59% [======================>                ] 71,651,231   453K/s  eta 94s     "
       ]
      }, 
      {
       "output_type": "stream", 
       "stream": "stdout", 
       "text": [
        "", 
        "59% [======================>                ] 71,815,071   476K/s  eta 94s     "
       ]
      }, 
      {
       "output_type": "stream", 
       "stream": "stdout", 
       "text": [
        "", 
        "59% [======================>                ] 71,946,143   487K/s  eta 94s     "
       ]
      }, 
      {
       "output_type": "stream", 
       "stream": "stdout", 
       "text": [
        "", 
        "59% [======================>                ] 72,109,983   519K/s  eta 92s     "
       ]
      }, 
      {
       "output_type": "stream", 
       "stream": "stdout", 
       "text": [
        "", 
        "59% [======================>                ] 72,306,591   540K/s  eta 92s     "
       ]
      }, 
      {
       "output_type": "stream", 
       "stream": "stdout", 
       "text": [
        "", 
        "59% [======================>                ] 72,503,199   573K/s  eta 92s     "
       ]
      }, 
      {
       "output_type": "stream", 
       "stream": "stdout", 
       "text": [
        "", 
        "59% [======================>                ] 72,683,423   600K/s  eta 92s     "
       ]
      }, 
      {
       "output_type": "stream", 
       "stream": "stdout", 
       "text": [
        "", 
        "60% [======================>                ] 72,912,799   641K/s  eta 92s     "
       ]
      }, 
      {
       "output_type": "stream", 
       "stream": "stdout", 
       "text": [
        "", 
        "60% [======================>                ] 73,158,559   688K/s  eta 90s     "
       ]
      }, 
      {
       "output_type": "stream", 
       "stream": "stdout", 
       "text": [
        "", 
        "60% [======================>                ] 73,371,551   715K/s  eta 90s     "
       ]
      }, 
      {
       "output_type": "stream", 
       "stream": "stdout", 
       "text": [
        "", 
        "60% [======================>                ] 73,666,463   784K/s  eta 90s     "
       ]
      }, 
      {
       "output_type": "stream", 
       "stream": "stdout", 
       "text": [
        "", 
        "60% [======================>                ] 73,944,991   834K/s  eta 90s     "
       ]
      }, 
      {
       "output_type": "stream", 
       "stream": "stdout", 
       "text": [
        "", 
        "61% [======================>                ] 74,043,295   553K/s  eta 88s     "
       ]
      }, 
      {
       "output_type": "stream", 
       "stream": "stdout", 
       "text": [
        "", 
        "61% [======================>                ] 74,157,983   541K/s  eta 88s     "
       ]
      }, 
      {
       "output_type": "stream", 
       "stream": "stdout", 
       "text": [
        "", 
        "61% [======================>                ] 74,223,519   486K/s  eta 89s     "
       ]
      }, 
      {
       "output_type": "stream", 
       "stream": "stdout", 
       "text": [
        "", 
        "61% [======================>                ] 74,289,055   453K/s  eta 89s     "
       ]
      }, 
      {
       "output_type": "stream", 
       "stream": "stdout", 
       "text": [
        "", 
        "61% [======================>                ] 74,387,359   353K/s  eta 90s     "
       ]
      }, 
      {
       "output_type": "stream", 
       "stream": "stdout", 
       "text": [
        "", 
        "61% [======================>                ] 74,403,743   298K/s  eta 90s     "
       ]
      }, 
      {
       "output_type": "stream", 
       "stream": "stdout", 
       "text": [
        "", 
        "61% [======================>                ] 74,485,663   250K/s  eta 91s     "
       ]
      }, 
      {
       "output_type": "stream", 
       "stream": "stdout", 
       "text": [
        "", 
        "61% [======================>                ] 74,502,047   238K/s  eta 91s     "
       ]
      }, 
      {
       "output_type": "stream", 
       "stream": "stdout", 
       "text": [
        "", 
        "61% [======================>                ] 74,567,583   232K/s  eta 91s     "
       ]
      }, 
      {
       "output_type": "stream", 
       "stream": "stdout", 
       "text": [
        "", 
        "61% [======================>                ] 74,633,119   226K/s  eta 91s     "
       ]
      }, 
      {
       "output_type": "stream", 
       "stream": "stdout", 
       "text": [
        "", 
        "61% [=======================>               ] 74,731,423   220K/s  eta 91s     "
       ]
      }, 
      {
       "output_type": "stream", 
       "stream": "stdout", 
       "text": [
        "", 
        "61% [=======================>               ] 74,813,343   213K/s  eta 91s     "
       ]
      }, 
      {
       "output_type": "stream", 
       "stream": "stdout", 
       "text": [
        "", 
        "61% [=======================>               ] 74,911,647   195K/s  eta 91s     "
       ]
      }, 
      {
       "output_type": "stream", 
       "stream": "stdout", 
       "text": [
        "", 
        "61% [=======================>               ] 75,026,335   189K/s  eta 91s     "
       ]
      }, 
      {
       "output_type": "stream", 
       "stream": "stdout", 
       "text": [
        "", 
        "61% [=======================>               ] 75,157,407   171K/s  eta 91s     "
       ]
      }, 
      {
       "output_type": "stream", 
       "stream": "stdout", 
       "text": [
        "", 
        "62% [=======================>               ] 75,288,479   164K/s  eta 90s     "
       ]
      }, 
      {
       "output_type": "stream", 
       "stream": "stdout", 
       "text": [
        "", 
        "62% [=======================>               ] 75,435,935   157K/s  eta 90s     "
       ]
      }, 
      {
       "output_type": "stream", 
       "stream": "stdout", 
       "text": [
        "", 
        "62% [=======================>               ] 75,567,007   162K/s  eta 90s     "
       ]
      }, 
      {
       "output_type": "stream", 
       "stream": "stdout", 
       "text": [
        "", 
        "62% [=======================>               ] 75,730,847   169K/s  eta 90s     "
       ]
      }, 
      {
       "output_type": "stream", 
       "stream": "stdout", 
       "text": [
        "", 
        "62% [=======================>               ] 75,927,455   193K/s  eta 90s     "
       ]
      }, 
      {
       "output_type": "stream", 
       "stream": "stdout", 
       "text": [
        "", 
        "62% [=======================>               ] 76,156,831   271K/s  eta 88s     "
       ]
      }, 
      {
       "output_type": "stream", 
       "stream": "stdout", 
       "text": [
        "", 
        "62% [=======================>               ] 76,337,055   360K/s  eta 88s     "
       ]
      }, 
      {
       "output_type": "stream", 
       "stream": "stdout", 
       "text": [
        "", 
        "63% [=======================>               ] 76,599,199   558K/s  eta 88s     "
       ]
      }, 
      {
       "output_type": "stream", 
       "stream": "stdout", 
       "text": [
        "", 
        "63% [=======================>               ] 76,713,887   617K/s  eta 88s     "
       ]
      }, 
      {
       "output_type": "stream", 
       "stream": "stdout", 
       "text": [
        "", 
        "63% [=======================>               ] 77,057,951   703K/s  eta 88s     "
       ]
      }, 
      {
       "output_type": "stream", 
       "stream": "stdout", 
       "text": [
        "", 
        "63% [=======================>               ] 77,254,559   726K/s  eta 85s     "
       ]
      }, 
      {
       "output_type": "stream", 
       "stream": "stdout", 
       "text": [
        "", 
        "63% [=======================>               ] 77,483,935   775K/s  eta 85s     "
       ]
      }, 
      {
       "output_type": "stream", 
       "stream": "stdout", 
       "text": [
        "", 
        "64% [=======================>               ] 77,729,695   840K/s  eta 85s     "
       ]
      }, 
      {
       "output_type": "stream", 
       "stream": "stdout", 
       "text": [
        "", 
        "64% [========================>              ] 77,959,071   876K/s  eta 85s     "
       ]
      }, 
      {
       "output_type": "stream", 
       "stream": "stdout", 
       "text": [
        "", 
        "64% [========================>              ] 78,213,023   913K/s  eta 85s     "
       ]
      }, 
      {
       "output_type": "stream", 
       "stream": "stdout", 
       "text": [
        "", 
        "64% [========================>              ] 78,450,591   977K/s  eta 82s     "
       ]
      }, 
      {
       "output_type": "stream", 
       "stream": "stdout", 
       "text": [
        "", 
        "64% [========================>              ] 78,712,735  1004K/s  eta 82s     "
       ]
      }, 
      {
       "output_type": "stream", 
       "stream": "stdout", 
       "text": [
        "", 
        "65% [========================>              ] 78,925,727  1.01M/s  eta 82s     "
       ]
      }, 
      {
       "output_type": "stream", 
       "stream": "stdout", 
       "text": [
        "", 
        "65% [========================>              ] 79,204,255  1.04M/s  eta 82s     "
       ]
      }, 
      {
       "output_type": "stream", 
       "stream": "stdout", 
       "text": [
        "", 
        "65% [========================>              ] 79,466,399  1.08M/s  eta 82s     "
       ]
      }, 
      {
       "output_type": "stream", 
       "stream": "stdout", 
       "text": [
        "", 
        "65% [========================>              ] 79,712,159  1.10M/s  eta 79s     "
       ]
      }, 
      {
       "output_type": "stream", 
       "stream": "stdout", 
       "text": [
        "", 
        "65% [========================>              ] 80,039,839  1.12M/s  eta 79s     "
       ]
      }, 
      {
       "output_type": "stream", 
       "stream": "stdout", 
       "text": [
        "", 
        "66% [========================>              ] 80,285,599  1.10M/s  eta 79s     "
       ]
      }, 
      {
       "output_type": "stream", 
       "stream": "stdout", 
       "text": [
        "", 
        "66% [========================>              ] 80,646,047  1.12M/s  eta 79s     "
       ]
      }, 
      {
       "output_type": "stream", 
       "stream": "stdout", 
       "text": [
        "", 
        "66% [========================>              ] 80,875,423  1.16M/s  eta 79s     "
       ]
      }, 
      {
       "output_type": "stream", 
       "stream": "stdout", 
       "text": [
        "", 
        "66% [=========================>             ] 81,072,031  1.11M/s  eta 76s     "
       ]
      }, 
      {
       "output_type": "stream", 
       "stream": "stdout", 
       "text": [
        "", 
        "66% [=========================>             ] 81,285,023  1.12M/s  eta 76s     "
       ]
      }, 
      {
       "output_type": "stream", 
       "stream": "stdout", 
       "text": [
        "", 
        "67% [=========================>             ] 81,530,783  1.13M/s  eta 76s     "
       ]
      }, 
      {
       "output_type": "stream", 
       "stream": "stdout", 
       "text": [
        "", 
        "67% [=========================>             ] 81,743,775  1.12M/s  eta 76s     "
       ]
      }, 
      {
       "output_type": "stream", 
       "stream": "stdout", 
       "text": [
        "", 
        "67% [=========================>             ] 81,973,151  1.11M/s  eta 76s     "
       ]
      }, 
      {
       "output_type": "stream", 
       "stream": "stdout", 
       "text": [
        "", 
        "67% [=========================>             ] 82,235,295  1.11M/s  eta 73s     "
       ]
      }, 
      {
       "output_type": "stream", 
       "stream": "stdout", 
       "text": [
        "", 
        "67% [=========================>             ] 82,464,671  1.11M/s  eta 73s     "
       ]
      }, 
      {
       "output_type": "stream", 
       "stream": "stdout", 
       "text": [
        "", 
        "68% [=========================>             ] 82,661,279  1.10M/s  eta 73s     "
       ]
      }, 
      {
       "output_type": "stream", 
       "stream": "stdout", 
       "text": [
        "", 
        "68% [=========================>             ] 82,939,807  1.10M/s  eta 73s     "
       ]
      }, 
      {
       "output_type": "stream", 
       "stream": "stdout", 
       "text": [
        "", 
        "68% [=========================>             ] 83,218,335  1.08M/s  eta 73s     "
       ]
      }, 
      {
       "output_type": "stream", 
       "stream": "stdout", 
       "text": [
        "", 
        "68% [=========================>             ] 83,480,479  1.08M/s  eta 70s     "
       ]
      }, 
      {
       "output_type": "stream", 
       "stream": "stdout", 
       "text": [
        "", 
        "68% [=========================>             ] 83,677,087  1.07M/s  eta 70s     "
       ]
      }, 
      {
       "output_type": "stream", 
       "stream": "stdout", 
       "text": [
        "", 
        "69% [=========================>             ] 83,922,847  1.09M/s  eta 70s     "
       ]
      }, 
      {
       "output_type": "stream", 
       "stream": "stdout", 
       "text": [
        "", 
        "69% [==========================>            ] 84,070,303  1.02M/s  eta 70s     "
       ]
      }, 
      {
       "output_type": "stream", 
       "stream": "stdout", 
       "text": [
        "", 
        "69% [==========================>            ] 84,365,215  1.03M/s  eta 70s     "
       ]
      }, 
      {
       "output_type": "stream", 
       "stream": "stdout", 
       "text": [
        "", 
        "69% [==========================>            ] 84,643,743  1.03M/s  eta 68s     "
       ]
      }, 
      {
       "output_type": "stream", 
       "stream": "stdout", 
       "text": [
        "", 
        "69% [==========================>            ] 84,791,199   986K/s  eta 68s     "
       ]
      }, 
      {
       "output_type": "stream", 
       "stream": "stdout", 
       "text": [
        "", 
        "70% [==========================>            ] 85,004,191   977K/s  eta 68s     "
       ]
      }, 
      {
       "output_type": "stream", 
       "stream": "stdout", 
       "text": [
        "", 
        "70% [==========================>            ] 85,184,415   942K/s  eta 68s     "
       ]
      }, 
      {
       "output_type": "stream", 
       "stream": "stdout", 
       "text": [
        "", 
        "70% [==========================>            ] 85,397,407   930K/s  eta 66s     "
       ]
      }, 
      {
       "output_type": "stream", 
       "stream": "stdout", 
       "text": [
        "", 
        "70% [==========================>            ] 85,610,399   908K/s  eta 66s     "
       ]
      }, 
      {
       "output_type": "stream", 
       "stream": "stdout", 
       "text": [
        "", 
        "70% [==========================>            ] 85,839,775   900K/s  eta 66s     "
       ]
      }, 
      {
       "output_type": "stream", 
       "stream": "stdout", 
       "text": [
        "", 
        "70% [==========================>            ] 86,052,767   900K/s  eta 66s     "
       ]
      }, 
      {
       "output_type": "stream", 
       "stream": "stdout", 
       "text": [
        "", 
        "71% [==========================>            ] 86,232,991   859K/s  eta 66s     "
       ]
      }, 
      {
       "output_type": "stream", 
       "stream": "stdout", 
       "text": [
        "", 
        "71% [==========================>            ] 86,413,215   843K/s  eta 64s     "
       ]
      }, 
      {
       "output_type": "stream", 
       "stream": "stdout", 
       "text": [
        "", 
        "71% [==========================>            ] 86,593,439   825K/s  eta 64s     "
       ]
      }, 
      {
       "output_type": "stream", 
       "stream": "stdout", 
       "text": [
        "", 
        "71% [==========================>            ] 86,724,511   786K/s  eta 64s     "
       ]
      }, 
      {
       "output_type": "stream", 
       "stream": "stdout", 
       "text": [
        "", 
        "71% [==========================>            ] 86,921,119   779K/s  eta 64s     "
       ]
      }, 
      {
       "output_type": "stream", 
       "stream": "stdout", 
       "text": [
        "", 
        "71% [==========================>            ] 87,101,343   787K/s  eta 64s     "
       ]
      }, 
      {
       "output_type": "stream", 
       "stream": "stdout", 
       "text": [
        "", 
        "71% [===========================>           ] 87,297,951   753K/s  eta 62s     "
       ]
      }, 
      {
       "output_type": "stream", 
       "stream": "stdout", 
       "text": [
        "", 
        "72% [===========================>           ] 87,396,255   719K/s  eta 62s     "
       ]
      }, 
      {
       "output_type": "stream", 
       "stream": "stdout", 
       "text": [
        "", 
        "72% [===========================>           ] 87,642,015   780K/s  eta 62s     "
       ]
      }, 
      {
       "output_type": "stream", 
       "stream": "stdout", 
       "text": [
        "", 
        "72% [===========================>           ] 87,740,319   740K/s  eta 62s     "
       ]
      }, 
      {
       "output_type": "stream", 
       "stream": "stdout", 
       "text": [
        "", 
        "72% [===========================>           ] 87,904,159   751K/s  eta 62s     "
       ]
      }, 
      {
       "output_type": "stream", 
       "stream": "stdout", 
       "text": [
        "", 
        "72% [===========================>           ] 88,067,999   746K/s  eta 61s     "
       ]
      }, 
      {
       "output_type": "stream", 
       "stream": "stdout", 
       "text": [
        "", 
        "72% [===========================>           ] 88,199,071   730K/s  eta 61s     "
       ]
      }, 
      {
       "output_type": "stream", 
       "stream": "stdout", 
       "text": [
        "", 
        "72% [===========================>           ] 88,362,911   720K/s  eta 61s     "
       ]
      }, 
      {
       "output_type": "stream", 
       "stream": "stdout", 
       "text": [
        "", 
        "72% [===========================>           ] 88,543,135   740K/s  eta 61s     "
       ]
      }, 
      {
       "output_type": "stream", 
       "stream": "stdout", 
       "text": [
        "", 
        "73% [===========================>           ] 88,690,591   698K/s  eta 61s     "
       ]
      }, 
      {
       "output_type": "stream", 
       "stream": "stdout", 
       "text": [
        "", 
        "73% [===========================>           ] 88,821,663   685K/s  eta 59s     "
       ]
      }, 
      {
       "output_type": "stream", 
       "stream": "stdout", 
       "text": [
        "", 
        "73% [===========================>           ] 88,969,119   680K/s  eta 59s     "
       ]
      }, 
      {
       "output_type": "stream", 
       "stream": "stdout", 
       "text": [
        "", 
        "73% [===========================>           ] 89,116,575   674K/s  eta 59s     "
       ]
      }, 
      {
       "output_type": "stream", 
       "stream": "stdout", 
       "text": [
        "", 
        "73% [===========================>           ] 89,264,031   677K/s  eta 59s     "
       ]
      }, 
      {
       "output_type": "stream", 
       "stream": "stdout", 
       "text": [
        "", 
        "73% [===========================>           ] 89,378,719   649K/s  eta 59s     "
       ]
      }, 
      {
       "output_type": "stream", 
       "stream": "stdout", 
       "text": [
        "", 
        "73% [===========================>           ] 89,526,175   652K/s  eta 58s     "
       ]
      }, 
      {
       "output_type": "stream", 
       "stream": "stdout", 
       "text": [
        "", 
        "73% [===========================>           ] 89,608,095   617K/s  eta 58s     "
       ]
      }, 
      {
       "output_type": "stream", 
       "stream": "stdout", 
       "text": [
        "", 
        "73% [===========================>           ] 89,804,703   644K/s  eta 58s     "
       ]
      }, 
      {
       "output_type": "stream", 
       "stream": "stdout", 
       "text": [
        "", 
        "74% [===========================>           ] 89,935,775   629K/s  eta 58s     "
       ]
      }, 
      {
       "output_type": "stream", 
       "stream": "stdout", 
       "text": [
        "", 
        "74% [===========================>           ] 90,034,079   596K/s  eta 57s     "
       ]
      }, 
      {
       "output_type": "stream", 
       "stream": "stdout", 
       "text": [
        "", 
        "74% [===========================>           ] 90,181,535   601K/s  eta 57s     "
       ]
      }, 
      {
       "output_type": "stream", 
       "stream": "stdout", 
       "text": [
        "", 
        "74% [============================>          ] 90,279,839   594K/s  eta 57s     "
       ]
      }, 
      {
       "output_type": "stream", 
       "stream": "stdout", 
       "text": [
        "", 
        "74% [============================>          ] 90,378,143   544K/s  eta 57s     "
       ]
      }, 
      {
       "output_type": "stream", 
       "stream": "stdout", 
       "text": [
        "", 
        "74% [============================>          ] 90,525,599   542K/s  eta 56s     "
       ]
      }, 
      {
       "output_type": "stream", 
       "stream": "stdout", 
       "text": [
        "", 
        "74% [============================>          ] 90,607,519   539K/s  eta 56s     "
       ]
      }, 
      {
       "output_type": "stream", 
       "stream": "stdout", 
       "text": [
        "", 
        "74% [============================>          ] 90,705,823   504K/s  eta 56s     "
       ]
      }, 
      {
       "output_type": "stream", 
       "stream": "stdout", 
       "text": [
        "", 
        "74% [============================>          ] 90,804,127   500K/s  eta 56s     "
       ]
      }, 
      {
       "output_type": "stream", 
       "stream": "stdout", 
       "text": [
        "", 
        "74% [============================>          ] 90,902,431   482K/s  eta 56s     "
       ]
      }, 
      {
       "output_type": "stream", 
       "stream": "stdout", 
       "text": [
        "", 
        "74% [============================>          ] 91,000,735   466K/s  eta 55s     "
       ]
      }, 
      {
       "output_type": "stream", 
       "stream": "stdout", 
       "text": [
        "", 
        "75% [============================>          ] 91,099,039   453K/s  eta 55s     "
       ]
      }, 
      {
       "output_type": "stream", 
       "stream": "stdout", 
       "text": [
        "", 
        "75% [============================>          ] 91,197,343   431K/s  eta 55s     "
       ]
      }, 
      {
       "output_type": "stream", 
       "stream": "stdout", 
       "text": [
        "", 
        "75% [============================>          ] 91,295,647   437K/s  eta 55s     "
       ]
      }, 
      {
       "output_type": "stream", 
       "stream": "stdout", 
       "text": [
        "", 
        "75% [============================>          ] 91,393,951   408K/s  eta 55s     "
       ]
      }, 
      {
       "output_type": "stream", 
       "stream": "stdout", 
       "text": [
        "", 
        "75% [============================>          ] 91,492,255   405K/s  eta 55s     "
       ]
      }, 
      {
       "output_type": "stream", 
       "stream": "stdout", 
       "text": [
        "", 
        "75% [============================>          ] 91,574,175   407K/s  eta 55s     "
       ]
      }, 
      {
       "output_type": "stream", 
       "stream": "stdout", 
       "text": [
        "", 
        "75% [============================>          ] 91,672,479   393K/s  eta 55s     "
       ]
      }, 
      {
       "output_type": "stream", 
       "stream": "stdout", 
       "text": [
        "", 
        "75% [============================>          ] 91,770,783   388K/s  eta 55s     "
       ]
      }, 
      {
       "output_type": "stream", 
       "stream": "stdout", 
       "text": [
        "", 
        "75% [============================>          ] 91,869,087   404K/s  eta 55s     "
       ]
      }, 
      {
       "output_type": "stream", 
       "stream": "stdout", 
       "text": [
        "", 
        "75% [============================>          ] 91,951,007   392K/s  eta 54s     "
       ]
      }, 
      {
       "output_type": "stream", 
       "stream": "stdout", 
       "text": [
        "", 
        "75% [============================>          ] 92,049,311   398K/s  eta 54s     "
       ]
      }, 
      {
       "output_type": "stream", 
       "stream": "stdout", 
       "text": [
        "", 
        "75% [============================>          ] 92,147,615   400K/s  eta 54s     "
       ]
      }, 
      {
       "output_type": "stream", 
       "stream": "stdout", 
       "text": [
        "", 
        "76% [============================>          ] 92,245,919   397K/s  eta 54s     "
       ]
      }, 
      {
       "output_type": "stream", 
       "stream": "stdout", 
       "text": [
        "", 
        "76% [============================>          ] 92,360,607   402K/s  eta 54s     "
       ]
      }, 
      {
       "output_type": "stream", 
       "stream": "stdout", 
       "text": [
        "", 
        "76% [============================>          ] 92,475,295   406K/s  eta 53s     "
       ]
      }, 
      {
       "output_type": "stream", 
       "stream": "stdout", 
       "text": [
        "", 
        "76% [============================>          ] 92,589,983   412K/s  eta 53s     "
       ]
      }, 
      {
       "output_type": "stream", 
       "stream": "stdout", 
       "text": [
        "", 
        "76% [============================>          ] 92,721,055   421K/s  eta 53s     "
       ]
      }, 
      {
       "output_type": "stream", 
       "stream": "stdout", 
       "text": [
        "", 
        "76% [============================>          ] 92,852,127   433K/s  eta 53s     "
       ]
      }, 
      {
       "output_type": "stream", 
       "stream": "stdout", 
       "text": [
        "", 
        "76% [============================>          ] 92,999,583   447K/s  eta 53s     "
       ]
      }, 
      {
       "output_type": "stream", 
       "stream": "stdout", 
       "text": [
        "", 
        "76% [============================>          ] 93,147,039   464K/s  eta 52s     "
       ]
      }, 
      {
       "output_type": "stream", 
       "stream": "stdout", 
       "text": [
        "", 
        "76% [============================>          ] 93,294,495   482K/s  eta 52s     "
       ]
      }, 
      {
       "output_type": "stream", 
       "stream": "stdout", 
       "text": [
        "", 
        "76% [=============================>         ] 93,425,567   495K/s  eta 52s     "
       ]
      }, 
      {
       "output_type": "stream", 
       "stream": "stdout", 
       "text": [
        "", 
        "77% [=============================>         ] 93,605,791   517K/s  eta 52s     "
       ]
      }, 
      {
       "output_type": "stream", 
       "stream": "stdout", 
       "text": [
        "", 
        "77% [=============================>         ] 93,704,095   519K/s  eta 52s     "
       ]
      }, 
      {
       "output_type": "stream", 
       "stream": "stdout", 
       "text": [
        "", 
        "77% [=============================>         ] 93,949,855   559K/s  eta 50s     "
       ]
      }, 
      {
       "output_type": "stream", 
       "stream": "stdout", 
       "text": [
        "", 
        "77% [=============================>         ] 94,113,695   570K/s  eta 50s     "
       ]
      }, 
      {
       "output_type": "stream", 
       "stream": "stdout", 
       "text": [
        "", 
        "77% [=============================>         ] 94,277,535   595K/s  eta 50s     "
       ]
      }, 
      {
       "output_type": "stream", 
       "stream": "stdout", 
       "text": [
        "", 
        "77% [=============================>         ] 94,326,687   585K/s  eta 50s     "
       ]
      }, 
      {
       "output_type": "stream", 
       "stream": "stdout", 
       "text": [
        "", 
        "77% [=============================>         ] 94,523,295   614K/s  eta 50s     "
       ]
      }, 
      {
       "output_type": "stream", 
       "stream": "stdout", 
       "text": [
        "", 
        "77% [=============================>         ] 94,654,367   625K/s  eta 49s     "
       ]
      }, 
      {
       "output_type": "stream", 
       "stream": "stdout", 
       "text": [
        "", 
        "78% [=============================>         ] 94,785,439   638K/s  eta 49s     "
       ]
      }, 
      {
       "output_type": "stream", 
       "stream": "stdout", 
       "text": [
        "", 
        "78% [=============================>         ] 94,900,127   642K/s  eta 49s     "
       ]
      }, 
      {
       "output_type": "stream", 
       "stream": "stdout", 
       "text": [
        "", 
        "78% [=============================>         ] 95,031,199   640K/s  eta 49s     "
       ]
      }, 
      {
       "output_type": "stream", 
       "stream": "stdout", 
       "text": [
        "", 
        "78% [=============================>         ] 95,178,655   644K/s  eta 49s     "
       ]
      }, 
      {
       "output_type": "stream", 
       "stream": "stdout", 
       "text": [
        "", 
        "78% [=============================>         ] 95,326,111   655K/s  eta 47s     "
       ]
      }, 
      {
       "output_type": "stream", 
       "stream": "stdout", 
       "text": [
        "", 
        "78% [=============================>         ] 95,457,183   650K/s  eta 47s     "
       ]
      }, 
      {
       "output_type": "stream", 
       "stream": "stdout", 
       "text": [
        "", 
        "78% [=============================>         ] 95,588,255   647K/s  eta 47s     "
       ]
      }, 
      {
       "output_type": "stream", 
       "stream": "stdout", 
       "text": [
        "", 
        "78% [=============================>         ] 95,719,327   638K/s  eta 47s     "
       ]
      }, 
      {
       "output_type": "stream", 
       "stream": "stdout", 
       "text": [
        "", 
        "78% [=============================>         ] 95,866,783   630K/s  eta 47s     "
       ]
      }, 
      {
       "output_type": "stream", 
       "stream": "stdout", 
       "text": [
        "", 
        "79% [=============================>         ] 96,014,239   648K/s  eta 46s     "
       ]
      }, 
      {
       "output_type": "stream", 
       "stream": "stdout", 
       "text": [
        "", 
        "79% [=============================>         ] 96,161,695   621K/s  eta 46s     "
       ]
      }, 
      {
       "output_type": "stream", 
       "stream": "stdout", 
       "text": [
        "", 
        "79% [=============================>         ] 96,292,767   614K/s  eta 46s     "
       ]
      }, 
      {
       "output_type": "stream", 
       "stream": "stdout", 
       "text": [
        "", 
        "79% [=============================>         ] 96,423,839   631K/s  eta 46s     "
       ]
      }, 
      {
       "output_type": "stream", 
       "stream": "stdout", 
       "text": [
        "", 
        "79% [==============================>        ] 96,554,911   607K/s  eta 46s     "
       ]
      }, 
      {
       "output_type": "stream", 
       "stream": "stdout", 
       "text": [
        "", 
        "79% [==============================>        ] 96,685,983   612K/s  eta 45s     "
       ]
      }, 
      {
       "output_type": "stream", 
       "stream": "stdout", 
       "text": [
        "", 
        "79% [==============================>        ] 96,817,055   617K/s  eta 45s     "
       ]
      }, 
      {
       "output_type": "stream", 
       "stream": "stdout", 
       "text": [
        "", 
        "79% [==============================>        ] 96,931,743   617K/s  eta 45s     "
       ]
      }, 
      {
       "output_type": "stream", 
       "stream": "stdout", 
       "text": [
        "", 
        "79% [==============================>        ] 97,079,199   618K/s  eta 45s     "
       ]
      }, 
      {
       "output_type": "stream", 
       "stream": "stdout", 
       "text": [
        "", 
        "80% [==============================>        ] 97,210,271   616K/s  eta 45s     "
       ]
      }, 
      {
       "output_type": "stream", 
       "stream": "stdout", 
       "text": [
        "", 
        "80% [==============================>        ] 97,357,727   623K/s  eta 44s     "
       ]
      }, 
      {
       "output_type": "stream", 
       "stream": "stdout", 
       "text": [
        "", 
        "80% [==============================>        ] 97,521,567   619K/s  eta 44s     "
       ]
      }, 
      {
       "output_type": "stream", 
       "stream": "stdout", 
       "text": [
        "", 
        "80% [==============================>        ] 97,685,407   629K/s  eta 44s     "
       ]
      }, 
      {
       "output_type": "stream", 
       "stream": "stdout", 
       "text": [
        "", 
        "80% [==============================>        ] 97,865,631   635K/s  eta 44s     "
       ]
      }, 
      {
       "output_type": "stream", 
       "stream": "stdout", 
       "text": [
        "", 
        "80% [==============================>        ] 98,029,471   643K/s  eta 44s     "
       ]
      }, 
      {
       "output_type": "stream", 
       "stream": "stdout", 
       "text": [
        "", 
        "80% [==============================>        ] 98,176,927   646K/s  eta 42s     "
       ]
      }, 
      {
       "output_type": "stream", 
       "stream": "stdout", 
       "text": [
        "", 
        "81% [==============================>        ] 98,340,767   657K/s  eta 42s     "
       ]
      }, 
      {
       "output_type": "stream", 
       "stream": "stdout", 
       "text": [
        "", 
        "81% [==============================>        ] 98,520,991   671K/s  eta 42s     "
       ]
      }, 
      {
       "output_type": "stream", 
       "stream": "stdout", 
       "text": [
        "", 
        "81% [==============================>        ] 98,717,599   683K/s  eta 42s     "
       ]
      }, 
      {
       "output_type": "stream", 
       "stream": "stdout", 
       "text": [
        "", 
        "81% [==============================>        ] 98,914,207   701K/s  eta 42s     "
       ]
      }, 
      {
       "output_type": "stream", 
       "stream": "stdout", 
       "text": [
        "", 
        "81% [==============================>        ] 99,110,815   723K/s  eta 40s     "
       ]
      }, 
      {
       "output_type": "stream", 
       "stream": "stdout", 
       "text": [
        "", 
        "81% [==============================>        ] 99,307,423   740K/s  eta 40s     "
       ]
      }, 
      {
       "output_type": "stream", 
       "stream": "stdout", 
       "text": [
        "", 
        "82% [==============================>        ] 99,536,799   767K/s  eta 40s     "
       ]
      }, 
      {
       "output_type": "stream", 
       "stream": "stdout", 
       "text": [
        "", 
        "82% [===============================>       ] 99,766,175   802K/s  eta 40s     "
       ]
      }, 
      {
       "output_type": "stream", 
       "stream": "stdout", 
       "text": [
        "", 
        "82% [===============================>       ] 99,995,551   824K/s  eta 40s     "
       ]
      }, 
      {
       "output_type": "stream", 
       "stream": "stdout", 
       "text": [
        "", 
        "82% [===============================>       ] 100,257,695  854K/s  eta 38s     "
       ]
      }, 
      {
       "output_type": "stream", 
       "stream": "stdout", 
       "text": [
        "", 
        "82% [===============================>       ] 100,355,999  845K/s  eta 38s     "
       ]
      }, 
      {
       "output_type": "stream", 
       "stream": "stdout", 
       "text": [
        "", 
        "82% [===============================>       ] 100,667,295  901K/s  eta 38s     "
       ]
      }, 
      {
       "output_type": "stream", 
       "stream": "stdout", 
       "text": [
        "", 
        "83% [===============================>       ] 100,831,135  891K/s  eta 38s     "
       ]
      }, 
      {
       "output_type": "stream", 
       "stream": "stdout", 
       "text": [
        "", 
        "83% [===============================>       ] 101,224,351  963K/s  eta 38s     "
       ]
      }, 
      {
       "output_type": "stream", 
       "stream": "stdout", 
       "text": [
        "", 
        "83% [===============================>       ] 101,470,111  985K/s  eta 36s     "
       ]
      }, 
      {
       "output_type": "stream", 
       "stream": "stdout", 
       "text": [
        "", 
        "83% [===============================>       ] 101,715,871 1010K/s  eta 36s     "
       ]
      }, 
      {
       "output_type": "stream", 
       "stream": "stdout", 
       "text": [
        "", 
        "84% [===============================>       ] 101,961,631 1.02M/s  eta 36s     "
       ]
      }, 
      {
       "output_type": "stream", 
       "stream": "stdout", 
       "text": [
        "", 
        "84% [===============================>       ] 102,240,159 1.04M/s  eta 36s     "
       ]
      }, 
      {
       "output_type": "stream", 
       "stream": "stdout", 
       "text": [
        "", 
        "84% [===============================>       ] 102,535,071 1.07M/s  eta 36s     "
       ]
      }, 
      {
       "output_type": "stream", 
       "stream": "stdout", 
       "text": [
        "", 
        "84% [================================>      ] 102,797,215 1.10M/s  eta 33s     "
       ]
      }, 
      {
       "output_type": "stream", 
       "stream": "stdout", 
       "text": [
        "", 
        "84% [================================>      ] 103,075,743 1.12M/s  eta 33s     "
       ]
      }, 
      {
       "output_type": "stream", 
       "stream": "stdout", 
       "text": [
        "", 
        "84% [================================>      ] 103,092,127 1.05M/s  eta 33s     "
       ]
      }, 
      {
       "output_type": "stream", 
       "stream": "stdout", 
       "text": [
        "", 
        "85% [================================>      ] 103,387,039 1.06M/s  eta 33s     "
       ]
      }, 
      {
       "output_type": "stream", 
       "stream": "stdout", 
       "text": [
        "", 
        "85% [================================>      ] 103,567,263 1.04M/s  eta 33s     "
       ]
      }, 
      {
       "output_type": "stream", 
       "stream": "stdout", 
       "text": [
        "", 
        "85% [================================>      ] 103,763,871 1.02M/s  eta 31s     "
       ]
      }, 
      {
       "output_type": "stream", 
       "stream": "stdout", 
       "text": [
        "", 
        "85% [================================>      ] 103,960,479 1.01M/s  eta 31s     "
       ]
      }, 
      {
       "output_type": "stream", 
       "stream": "stdout", 
       "text": [
        "", 
        "85% [================================>      ] 104,157,087 1.01M/s  eta 31s     "
       ]
      }, 
      {
       "output_type": "stream", 
       "stream": "stdout", 
       "text": [
        "", 
        "85% [================================>      ] 104,353,695 1001K/s  eta 31s     "
       ]
      }, 
      {
       "output_type": "stream", 
       "stream": "stdout", 
       "text": [
        "", 
        "86% [================================>      ] 104,566,687  956K/s  eta 30s     "
       ]
      }, 
      {
       "output_type": "stream", 
       "stream": "stdout", 
       "text": [
        "", 
        "86% [================================>      ] 104,763,295  943K/s  eta 30s     "
       ]
      }, 
      {
       "output_type": "stream", 
       "stream": "stdout", 
       "text": [
        "", 
        "86% [================================>      ] 104,976,287  911K/s  eta 30s     "
       ]
      }, 
      {
       "output_type": "stream", 
       "stream": "stdout", 
       "text": [
        "", 
        "86% [================================>      ] 105,189,279  896K/s  eta 30s     "
       ]
      }, 
      {
       "output_type": "stream", 
       "stream": "stdout", 
       "text": [
        "", 
        "86% [================================>      ] 105,385,887  877K/s  eta 30s     "
       ]
      }, 
      {
       "output_type": "stream", 
       "stream": "stdout", 
       "text": [
        "", 
        "86% [================================>      ] 105,533,343  844K/s  eta 28s     "
       ]
      }, 
      {
       "output_type": "stream", 
       "stream": "stdout", 
       "text": [
        "", 
        "87% [================================>      ] 105,713,567  798K/s  eta 28s     "
       ]
      }, 
      {
       "output_type": "stream", 
       "stream": "stdout", 
       "text": [
        "", 
        "87% [=================================>     ] 105,910,175  809K/s  eta 28s     "
       ]
      }, 
      {
       "output_type": "stream", 
       "stream": "stdout", 
       "text": [
        "", 
        "87% [=================================>     ] 106,123,167  786K/s  eta 28s     "
       ]
      }, 
      {
       "output_type": "stream", 
       "stream": "stdout", 
       "text": [
        "", 
        "87% [=================================>     ] 106,221,471  754K/s  eta 27s     "
       ]
      }, 
      {
       "output_type": "stream", 
       "stream": "stdout", 
       "text": [
        "", 
        "87% [=================================>     ] 106,450,847  781K/s  eta 27s     "
       ]
      }, 
      {
       "output_type": "stream", 
       "stream": "stdout", 
       "text": [
        "", 
        "87% [=================================>     ] 106,532,767  753K/s  eta 27s     "
       ]
      }, 
      {
       "output_type": "stream", 
       "stream": "stdout", 
       "text": [
        "", 
        "87% [=================================>     ] 106,598,303  725K/s  eta 27s     "
       ]
      }, 
      {
       "output_type": "stream", 
       "stream": "stdout", 
       "text": [
        "", 
        "87% [=================================>     ] 106,680,223  701K/s  eta 27s     "
       ]
      }, 
      {
       "output_type": "stream", 
       "stream": "stdout", 
       "text": [
        "", 
        "87% [=================================>     ] 106,762,143  670K/s  eta 26s     "
       ]
      }, 
      {
       "output_type": "stream", 
       "stream": "stdout", 
       "text": [
        "", 
        "88% [=================================>     ] 106,860,447  639K/s  eta 26s     "
       ]
      }, 
      {
       "output_type": "stream", 
       "stream": "stdout", 
       "text": [
        "", 
        "88% [=================================>     ] 106,942,367  615K/s  eta 26s     "
       ]
      }, 
      {
       "output_type": "stream", 
       "stream": "stdout", 
       "text": [
        "", 
        "88% [=================================>     ] 107,040,671  581K/s  eta 26s     "
       ]
      }, 
      {
       "output_type": "stream", 
       "stream": "stdout", 
       "text": [
        "", 
        "88% [=================================>     ] 107,138,975  558K/s  eta 25s     "
       ]
      }, 
      {
       "output_type": "stream", 
       "stream": "stdout", 
       "text": [
        "", 
        "88% [=================================>     ] 107,220,895  534K/s  eta 25s     "
       ]
      }, 
      {
       "output_type": "stream", 
       "stream": "stdout", 
       "text": [
        "", 
        "88% [=================================>     ] 107,302,815  513K/s  eta 25s     "
       ]
      }, 
      {
       "output_type": "stream", 
       "stream": "stdout", 
       "text": [
        "", 
        "88% [=================================>     ] 107,351,967  463K/s  eta 25s     "
       ]
      }, 
      {
       "output_type": "stream", 
       "stream": "stdout", 
       "text": [
        "", 
        "88% [=================================>     ] 107,450,271  444K/s  eta 25s     "
       ]
      }, 
      {
       "output_type": "stream", 
       "stream": "stdout", 
       "text": [
        "", 
        "88% [=================================>     ] 107,515,807  428K/s  eta 24s     "
       ]
      }, 
      {
       "output_type": "stream", 
       "stream": "stdout", 
       "text": [
        "", 
        "88% [=================================>     ] 107,581,343  398K/s  eta 24s     "
       ]
      }, 
      {
       "output_type": "stream", 
       "stream": "stdout", 
       "text": [
        "", 
        "88% [=================================>     ] 107,614,111  373K/s  eta 24s     "
       ]
      }, 
      {
       "output_type": "stream", 
       "stream": "stdout", 
       "text": [
        "", 
        "88% [=================================>     ] 107,712,415  344K/s  eta 24s     "
       ]
      }, 
      {
       "output_type": "stream", 
       "stream": "stdout", 
       "text": [
        "", 
        "88% [=================================>     ] 107,794,335  332K/s  eta 24s     "
       ]
      }, 
      {
       "output_type": "stream", 
       "stream": "stdout", 
       "text": [
        "", 
        "88% [=================================>     ] 107,843,487  315K/s  eta 24s     "
       ]
      }, 
      {
       "output_type": "stream", 
       "stream": "stdout", 
       "text": [
        "", 
        "88% [=================================>     ] 107,892,639  306K/s  eta 24s     "
       ]
      }, 
      {
       "output_type": "stream", 
       "stream": "stdout", 
       "text": [
        "", 
        "88% [=================================>     ] 107,941,791  298K/s  eta 24s     "
       ]
      }, 
      {
       "output_type": "stream", 
       "stream": "stdout", 
       "text": [
        "", 
        "88% [=================================>     ] 107,990,943  290K/s  eta 24s     "
       ]
      }, 
      {
       "output_type": "stream", 
       "stream": "stdout", 
       "text": [
        "", 
        "89% [=================================>     ] 108,040,095  283K/s  eta 24s     "
       ]
      }, 
      {
       "output_type": "stream", 
       "stream": "stdout", 
       "text": [
        "", 
        "89% [=================================>     ] 108,089,247  275K/s  eta 24s     "
       ]
      }, 
      {
       "output_type": "stream", 
       "stream": "stdout", 
       "text": [
        "", 
        "89% [=================================>     ] 108,154,783  268K/s  eta 24s     "
       ]
      }, 
      {
       "output_type": "stream", 
       "stream": "stdout", 
       "text": [
        "", 
        "89% [=================================>     ] 108,203,935  255K/s  eta 24s     "
       ]
      }, 
      {
       "output_type": "stream", 
       "stream": "stdout", 
       "text": [
        "", 
        "89% [=================================>     ] 108,269,471  251K/s  eta 24s     "
       ]
      }, 
      {
       "output_type": "stream", 
       "stream": "stdout", 
       "text": [
        "", 
        "89% [=================================>     ] 108,318,623  243K/s  eta 23s     "
       ]
      }, 
      {
       "output_type": "stream", 
       "stream": "stdout", 
       "text": [
        "", 
        "89% [=================================>     ] 108,384,159  230K/s  eta 23s     "
       ]
      }, 
      {
       "output_type": "stream", 
       "stream": "stdout", 
       "text": [
        "", 
        "89% [=================================>     ] 108,466,079  234K/s  eta 23s     "
       ]
      }, 
      {
       "output_type": "stream", 
       "stream": "stdout", 
       "text": [
        "", 
        "89% [=================================>     ] 108,515,231  229K/s  eta 23s     "
       ]
      }, 
      {
       "output_type": "stream", 
       "stream": "stdout", 
       "text": [
        "", 
        "89% [=================================>     ] 108,564,383  231K/s  eta 23s     "
       ]
      }, 
      {
       "output_type": "stream", 
       "stream": "stdout", 
       "text": [
        "", 
        "89% [=================================>     ] 108,613,535  221K/s  eta 23s     "
       ]
      }, 
      {
       "output_type": "stream", 
       "stream": "stdout", 
       "text": [
        "", 
        "89% [=================================>     ] 108,679,071  223K/s  eta 23s     "
       ]
      }, 
      {
       "output_type": "stream", 
       "stream": "stdout", 
       "text": [
        "", 
        "89% [=================================>     ] 108,744,607  225K/s  eta 23s     "
       ]
      }, 
      {
       "output_type": "stream", 
       "stream": "stdout", 
       "text": [
        "", 
        "89% [=================================>     ] 108,810,143  228K/s  eta 23s     "
       ]
      }, 
      {
       "output_type": "stream", 
       "stream": "stdout", 
       "text": [
        "", 
        "89% [=================================>     ] 108,859,295  229K/s  eta 22s     "
       ]
      }, 
      {
       "output_type": "stream", 
       "stream": "stdout", 
       "text": [
        "", 
        "89% [=================================>     ] 108,908,447  231K/s  eta 22s     "
       ]
      }, 
      {
       "output_type": "stream", 
       "stream": "stdout", 
       "text": [
        "", 
        "89% [==================================>    ] 108,957,599  225K/s  eta 22s     "
       ]
      }, 
      {
       "output_type": "stream", 
       "stream": "stdout", 
       "text": [
        "", 
        "89% [==================================>    ] 109,039,519  229K/s  eta 22s     "
       ]
      }, 
      {
       "output_type": "stream", 
       "stream": "stdout", 
       "text": [
        "", 
        "89% [==================================>    ] 109,064,095  197K/s  eta 22s     "
       ]
      }, 
      {
       "output_type": "stream", 
       "stream": "stdout", 
       "text": [
        "", 
        "90% [==================================>    ] 109,236,127  224K/s  eta 22s     "
       ]
      }, 
      {
       "output_type": "stream", 
       "stream": "stdout", 
       "text": [
        "", 
        "90% [==================================>    ] 109,301,663  224K/s  eta 22s     "
       ]
      }, 
      {
       "output_type": "stream", 
       "stream": "stdout", 
       "text": [
        "", 
        "90% [==================================>    ] 109,334,431  218K/s  eta 22s     "
       ]
      }, 
      {
       "output_type": "stream", 
       "stream": "stdout", 
       "text": [
        "", 
        "90% [==================================>    ] 109,416,351  228K/s  eta 22s     "
       ]
      }, 
      {
       "output_type": "stream", 
       "stream": "stdout", 
       "text": [
        "", 
        "90% [==================================>    ] 109,465,503  224K/s  eta 22s     "
       ]
      }, 
      {
       "output_type": "stream", 
       "stream": "stdout", 
       "text": [
        "", 
        "90% [==================================>    ] 109,514,655  225K/s  eta 22s     "
       ]
      }, 
      {
       "output_type": "stream", 
       "stream": "stdout", 
       "text": [
        "", 
        "90% [==================================>    ] 109,563,807  224K/s  eta 22s     "
       ]
      }, 
      {
       "output_type": "stream", 
       "stream": "stdout", 
       "text": [
        "", 
        "90% [==================================>    ] 109,629,343  226K/s  eta 22s     "
       ]
      }, 
      {
       "output_type": "stream", 
       "stream": "stdout", 
       "text": [
        "", 
        "90% [==================================>    ] 109,694,879  228K/s  eta 21s     "
       ]
      }, 
      {
       "output_type": "stream", 
       "stream": "stdout", 
       "text": [
        "", 
        "90% [==================================>    ] 109,760,415  226K/s  eta 21s     "
       ]
      }, 
      {
       "output_type": "stream", 
       "stream": "stdout", 
       "text": [
        "", 
        "90% [==================================>    ] 109,825,951  226K/s  eta 21s     "
       ]
      }, 
      {
       "output_type": "stream", 
       "stream": "stdout", 
       "text": [
        "", 
        "90% [==================================>    ] 109,891,487  228K/s  eta 21s     "
       ]
      }, 
      {
       "output_type": "stream", 
       "stream": "stdout", 
       "text": [
        "", 
        "90% [==================================>    ] 109,957,023  230K/s  eta 21s     "
       ]
      }, 
      {
       "output_type": "stream", 
       "stream": "stdout", 
       "text": [
        "", 
        "90% [==================================>    ] 110,022,559  232K/s  eta 21s     "
       ]
      }, 
      {
       "output_type": "stream", 
       "stream": "stdout", 
       "text": [
        "", 
        "90% [==================================>    ] 110,088,095  236K/s  eta 21s     "
       ]
      }, 
      {
       "output_type": "stream", 
       "stream": "stdout", 
       "text": [
        "", 
        "90% [==================================>    ] 110,153,631  275K/s  eta 21s     "
       ]
      }, 
      {
       "output_type": "stream", 
       "stream": "stdout", 
       "text": [
        "", 
        "90% [==================================>    ] 110,202,783  241K/s  eta 20s     "
       ]
      }, 
      {
       "output_type": "stream", 
       "stream": "stdout", 
       "text": [
        "", 
        "90% [==================================>    ] 110,268,319  244K/s  eta 20s     "
       ]
      }, 
      {
       "output_type": "stream", 
       "stream": "stdout", 
       "text": [
        "", 
        "90% [==================================>    ] 110,317,471  249K/s  eta 20s     "
       ]
      }, 
      {
       "output_type": "stream", 
       "stream": "stdout", 
       "text": [
        "", 
        "90% [==================================>    ] 110,383,007  245K/s  eta 20s     "
       ]
      }, 
      {
       "output_type": "stream", 
       "stream": "stdout", 
       "text": [
        "", 
        "91% [==================================>    ] 110,448,543  249K/s  eta 20s     "
       ]
      }, 
      {
       "output_type": "stream", 
       "stream": "stdout", 
       "text": [
        "", 
        "91% [==================================>    ] 110,497,695  249K/s  eta 20s     "
       ]
      }, 
      {
       "output_type": "stream", 
       "stream": "stdout", 
       "text": [
        "", 
        "91% [==================================>    ] 110,563,231  252K/s  eta 20s     "
       ]
      }, 
      {
       "output_type": "stream", 
       "stream": "stdout", 
       "text": [
        "", 
        "91% [==================================>    ] 110,628,767  250K/s  eta 20s     "
       ]
      }, 
      {
       "output_type": "stream", 
       "stream": "stdout", 
       "text": [
        "", 
        "91% [==================================>    ] 110,694,303  251K/s  eta 20s     "
       ]
      }, 
      {
       "output_type": "stream", 
       "stream": "stdout", 
       "text": [
        "", 
        "91% [==================================>    ] 110,759,839  254K/s  eta 20s     "
       ]
      }, 
      {
       "output_type": "stream", 
       "stream": "stdout", 
       "text": [
        "", 
        "91% [==================================>    ] 110,825,375  253K/s  eta 19s     "
       ]
      }, 
      {
       "output_type": "stream", 
       "stream": "stdout", 
       "text": [
        "", 
        "91% [==================================>    ] 110,890,911  253K/s  eta 19s     "
       ]
      }, 
      {
       "output_type": "stream", 
       "stream": "stdout", 
       "text": [
        "", 
        "91% [==================================>    ] 110,956,447  253K/s  eta 19s     "
       ]
      }, 
      {
       "output_type": "stream", 
       "stream": "stdout", 
       "text": [
        "", 
        "91% [==================================>    ] 111,021,983  254K/s  eta 19s     "
       ]
      }, 
      {
       "output_type": "stream", 
       "stream": "stdout", 
       "text": [
        "", 
        "91% [==================================>    ] 111,087,519  253K/s  eta 19s     "
       ]
      }, 
      {
       "output_type": "stream", 
       "stream": "stdout", 
       "text": [
        "", 
        "91% [==================================>    ] 111,153,055  255K/s  eta 19s     "
       ]
      }, 
      {
       "output_type": "stream", 
       "stream": "stdout", 
       "text": [
        "", 
        "91% [==================================>    ] 111,185,823  248K/s  eta 19s     "
       ]
      }, 
      {
       "output_type": "stream", 
       "stream": "stdout", 
       "text": [
        "", 
        "91% [==================================>    ] 111,251,359  253K/s  eta 19s     "
       ]
      }, 
      {
       "output_type": "stream", 
       "stream": "stdout", 
       "text": [
        "", 
        "91% [==================================>    ] 111,316,895  251K/s  eta 19s     "
       ]
      }, 
      {
       "output_type": "stream", 
       "stream": "stdout", 
       "text": [
        "", 
        "91% [==================================>    ] 111,366,047  252K/s  eta 19s     "
       ]
      }, 
      {
       "output_type": "stream", 
       "stream": "stdout", 
       "text": [
        "", 
        "91% [==================================>    ] 111,431,583  251K/s  eta 18s     "
       ]
      }, 
      {
       "output_type": "stream", 
       "stream": "stdout", 
       "text": [
        "", 
        "91% [==================================>    ] 111,497,119  252K/s  eta 18s     "
       ]
      }, 
      {
       "output_type": "stream", 
       "stream": "stdout", 
       "text": [
        "", 
        "91% [==================================>    ] 111,562,655  255K/s  eta 18s     "
       ]
      }, 
      {
       "output_type": "stream", 
       "stream": "stdout", 
       "text": [
        "", 
        "91% [==================================>    ] 111,628,191  255K/s  eta 18s     "
       ]
      }, 
      {
       "output_type": "stream", 
       "stream": "stdout", 
       "text": [
        "", 
        "92% [==================================>    ] 111,693,727  257K/s  eta 18s     "
       ]
      }, 
      {
       "output_type": "stream", 
       "stream": "stdout", 
       "text": [
        "", 
        "92% [==================================>    ] 111,759,263  259K/s  eta 18s     "
       ]
      }, 
      {
       "output_type": "stream", 
       "stream": "stdout", 
       "text": [
        "", 
        "92% [==================================>    ] 111,808,415  247K/s  eta 18s     "
       ]
      }, 
      {
       "output_type": "stream", 
       "stream": "stdout", 
       "text": [
        "", 
        "92% [==================================>    ] 111,890,335  251K/s  eta 18s     "
       ]
      }, 
      {
       "output_type": "stream", 
       "stream": "stdout", 
       "text": [
        "", 
        "92% [==================================>    ] 111,955,871  254K/s  eta 18s     "
       ]
      }, 
      {
       "output_type": "stream", 
       "stream": "stdout", 
       "text": [
        "", 
        "92% [==================================>    ] 112,005,023  250K/s  eta 17s     "
       ]
      }, 
      {
       "output_type": "stream", 
       "stream": "stdout", 
       "text": [
        "", 
        "92% [===================================>   ] 112,070,559  250K/s  eta 17s     "
       ]
      }, 
      {
       "output_type": "stream", 
       "stream": "stdout", 
       "text": [
        "", 
        "92% [===================================>   ] 112,136,095  251K/s  eta 17s     "
       ]
      }, 
      {
       "output_type": "stream", 
       "stream": "stdout", 
       "text": [
        "", 
        "92% [===================================>   ] 112,201,631  250K/s  eta 17s     "
       ]
      }, 
      {
       "output_type": "stream", 
       "stream": "stdout", 
       "text": [
        "", 
        "92% [===================================>   ] 112,267,167  258K/s  eta 17s     "
       ]
      }, 
      {
       "output_type": "stream", 
       "stream": "stdout", 
       "text": [
        "", 
        "92% [===================================>   ] 112,332,703  261K/s  eta 17s     "
       ]
      }, 
      {
       "output_type": "stream", 
       "stream": "stdout", 
       "text": [
        "", 
        "92% [===================================>   ] 112,398,239  261K/s  eta 17s     "
       ]
      }, 
      {
       "output_type": "stream", 
       "stream": "stdout", 
       "text": [
        "", 
        "92% [===================================>   ] 112,463,775  262K/s  eta 17s     "
       ]
      }, 
      {
       "output_type": "stream", 
       "stream": "stdout", 
       "text": [
        "", 
        "92% [===================================>   ] 112,529,311  264K/s  eta 17s     "
       ]
      }, 
      {
       "output_type": "stream", 
       "stream": "stdout", 
       "text": [
        "", 
        "92% [===================================>   ] 112,594,847  263K/s  eta 17s     "
       ]
      }, 
      {
       "output_type": "stream", 
       "stream": "stdout", 
       "text": [
        "", 
        "92% [===================================>   ] 112,660,383  262K/s  eta 16s     "
       ]
      }, 
      {
       "output_type": "stream", 
       "stream": "stdout", 
       "text": [
        "", 
        "92% [===================================>   ] 112,725,919  264K/s  eta 16s     "
       ]
      }, 
      {
       "output_type": "stream", 
       "stream": "stdout", 
       "text": [
        "", 
        "92% [===================================>   ] 112,791,455  263K/s  eta 16s     "
       ]
      }, 
      {
       "output_type": "stream", 
       "stream": "stdout", 
       "text": [
        "", 
        "92% [===================================>   ] 112,856,991  274K/s  eta 16s     "
       ]
      }, 
      {
       "output_type": "stream", 
       "stream": "stdout", 
       "text": [
        "", 
        "93% [===================================>   ] 112,922,527  271K/s  eta 16s     "
       ]
      }, 
      {
       "output_type": "stream", 
       "stream": "stdout", 
       "text": [
        "", 
        "93% [===================================>   ] 112,988,063  275K/s  eta 16s     "
       ]
      }, 
      {
       "output_type": "stream", 
       "stream": "stdout", 
       "text": [
        "", 
        "93% [===================================>   ] 113,053,599  272K/s  eta 16s     "
       ]
      }, 
      {
       "output_type": "stream", 
       "stream": "stdout", 
       "text": [
        "", 
        "93% [===================================>   ] 113,119,135  276K/s  eta 16s     "
       ]
      }, 
      {
       "output_type": "stream", 
       "stream": "stdout", 
       "text": [
        "", 
        "93% [===================================>   ] 113,201,055  279K/s  eta 16s     "
       ]
      }, 
      {
       "output_type": "stream", 
       "stream": "stdout", 
       "text": [
        "", 
        "93% [===================================>   ] 113,282,975  284K/s  eta 16s     "
       ]
      }, 
      {
       "output_type": "stream", 
       "stream": "stdout", 
       "text": [
        "", 
        "93% [===================================>   ] 113,364,895  290K/s  eta 15s     "
       ]
      }, 
      {
       "output_type": "stream", 
       "stream": "stdout", 
       "text": [
        "", 
        "93% [===================================>   ] 113,446,815  295K/s  eta 15s     "
       ]
      }, 
      {
       "output_type": "stream", 
       "stream": "stdout", 
       "text": [
        "", 
        "93% [===================================>   ] 113,528,735  303K/s  eta 15s     "
       ]
      }, 
      {
       "output_type": "stream", 
       "stream": "stdout", 
       "text": [
        "", 
        "93% [===================================>   ] 113,627,039  311K/s  eta 15s     "
       ]
      }, 
      {
       "output_type": "stream", 
       "stream": "stdout", 
       "text": [
        "", 
        "93% [===================================>   ] 113,676,191  309K/s  eta 15s     "
       ]
      }, 
      {
       "output_type": "stream", 
       "stream": "stdout", 
       "text": [
        "", 
        "93% [===================================>   ] 113,807,263  326K/s  eta 14s     "
       ]
      }, 
      {
       "output_type": "stream", 
       "stream": "stdout", 
       "text": [
        "", 
        "93% [===================================>   ] 113,905,567  334K/s  eta 14s     "
       ]
      }, 
      {
       "output_type": "stream", 
       "stream": "stdout", 
       "text": [
        "", 
        "93% [===================================>   ] 114,003,871  342K/s  eta 14s     "
       ]
      }, 
      {
       "output_type": "stream", 
       "stream": "stdout", 
       "text": [
        "", 
        "94% [===================================>   ] 114,102,175  349K/s  eta 14s     "
       ]
      }, 
      {
       "output_type": "stream", 
       "stream": "stdout", 
       "text": [
        "", 
        "94% [===================================>   ] 114,200,479  359K/s  eta 14s     "
       ]
      }, 
      {
       "output_type": "stream", 
       "stream": "stdout", 
       "text": [
        "", 
        "94% [===================================>   ] 114,298,783  369K/s  eta 13s     "
       ]
      }, 
      {
       "output_type": "stream", 
       "stream": "stdout", 
       "text": [
        "", 
        "94% [===================================>   ] 114,397,087  377K/s  eta 13s     "
       ]
      }, 
      {
       "output_type": "stream", 
       "stream": "stdout", 
       "text": [
        "", 
        "94% [===================================>   ] 114,462,623  375K/s  eta 13s     "
       ]
      }, 
      {
       "output_type": "stream", 
       "stream": "stdout", 
       "text": [
        "", 
        "94% [===================================>   ] 114,593,695  391K/s  eta 13s     "
       ]
      }, 
      {
       "output_type": "stream", 
       "stream": "stdout", 
       "text": [
        "", 
        "94% [===================================>   ] 114,675,615  394K/s  eta 13s     "
       ]
      }, 
      {
       "output_type": "stream", 
       "stream": "stdout", 
       "text": [
        "", 
        "94% [===================================>   ] 114,773,919  394K/s  eta 12s     "
       ]
      }, 
      {
       "output_type": "stream", 
       "stream": "stdout", 
       "text": [
        "", 
        "94% [===================================>   ] 114,888,607  404K/s  eta 12s     "
       ]
      }, 
      {
       "output_type": "stream", 
       "stream": "stdout", 
       "text": [
        "", 
        "94% [===================================>   ] 114,986,911  410K/s  eta 12s     "
       ]
      }, 
      {
       "output_type": "stream", 
       "stream": "stdout", 
       "text": [
        "", 
        "94% [===================================>   ] 115,052,447  399K/s  eta 12s     "
       ]
      }, 
      {
       "output_type": "stream", 
       "stream": "stdout", 
       "text": [
        "", 
        "94% [====================================>  ] 115,183,519  407K/s  eta 12s     "
       ]
      }, 
      {
       "output_type": "stream", 
       "stream": "stdout", 
       "text": [
        "", 
        "94% [====================================>  ] 115,265,439  406K/s  eta 11s     "
       ]
      }, 
      {
       "output_type": "stream", 
       "stream": "stdout", 
       "text": [
        "", 
        "95% [====================================>  ] 115,347,359  413K/s  eta 11s     "
       ]
      }, 
      {
       "output_type": "stream", 
       "stream": "stdout", 
       "text": [
        "", 
        "95% [====================================>  ] 115,429,279  403K/s  eta 11s     "
       ]
      }, 
      {
       "output_type": "stream", 
       "stream": "stdout", 
       "text": [
        "", 
        "95% [====================================>  ] 115,511,199  402K/s  eta 11s     "
       ]
      }, 
      {
       "output_type": "stream", 
       "stream": "stdout", 
       "text": [
        "", 
        "95% [====================================>  ] 115,609,503  402K/s  eta 11s     "
       ]
      }, 
      {
       "output_type": "stream", 
       "stream": "stdout", 
       "text": [
        "", 
        "95% [====================================>  ] 115,707,807  402K/s  eta 11s     "
       ]
      }, 
      {
       "output_type": "stream", 
       "stream": "stdout", 
       "text": [
        "", 
        "95% [====================================>  ] 115,789,727  383K/s  eta 11s     "
       ]
      }, 
      {
       "output_type": "stream", 
       "stream": "stdout", 
       "text": [
        "", 
        "95% [====================================>  ] 115,871,647  378K/s  eta 11s     "
       ]
      }, 
      {
       "output_type": "stream", 
       "stream": "stdout", 
       "text": [
        "", 
        "95% [====================================>  ] 115,920,799  366K/s  eta 11s     "
       ]
      }, 
      {
       "output_type": "stream", 
       "stream": "stdout", 
       "text": [
        "", 
        "95% [====================================>  ] 115,969,951  340K/s  eta 10s     "
       ]
      }, 
      {
       "output_type": "stream", 
       "stream": "stdout", 
       "text": [
        "", 
        "95% [====================================>  ] 116,019,103  324K/s  eta 10s     "
       ]
      }, 
      {
       "output_type": "stream", 
       "stream": "stdout", 
       "text": [
        "", 
        "95% [====================================>  ] 116,068,255  305K/s  eta 10s     "
       ]
      }, 
      {
       "output_type": "stream", 
       "stream": "stdout", 
       "text": [
        "", 
        "95% [====================================>  ] 116,117,407  290K/s  eta 10s     "
       ]
      }, 
      {
       "output_type": "stream", 
       "stream": "stdout", 
       "text": [
        "", 
        "95% [====================================>  ] 116,166,559  282K/s  eta 10s     "
       ]
      }, 
      {
       "output_type": "stream", 
       "stream": "stdout", 
       "text": [
        "", 
        "95% [====================================>  ] 116,215,711  261K/s  eta 10s     "
       ]
      }, 
      {
       "output_type": "stream", 
       "stream": "stdout", 
       "text": [
        "", 
        "95% [====================================>  ] 116,264,863  249K/s  eta 10s     "
       ]
      }, 
      {
       "output_type": "stream", 
       "stream": "stdout", 
       "text": [
        "", 
        "95% [====================================>  ] 116,314,015  240K/s  eta 10s     "
       ]
      }, 
      {
       "output_type": "stream", 
       "stream": "stdout", 
       "text": [
        "", 
        "95% [====================================>  ] 116,363,167  223K/s  eta 10s     "
       ]
      }, 
      {
       "output_type": "stream", 
       "stream": "stdout", 
       "text": [
        "", 
        "95% [====================================>  ] 116,412,319  215K/s  eta 9s      "
       ]
      }, 
      {
       "output_type": "stream", 
       "stream": "stdout", 
       "text": [
        "", 
        "95% [====================================>  ] 116,461,471  203K/s  eta 9s      "
       ]
      }, 
      {
       "output_type": "stream", 
       "stream": "stdout", 
       "text": [
        "", 
        "96% [====================================>  ] 116,527,007  206K/s  eta 9s      "
       ]
      }, 
      {
       "output_type": "stream", 
       "stream": "stdout", 
       "text": [
        "", 
        "96% [====================================>  ] 116,576,159  200K/s  eta 9s      "
       ]
      }, 
      {
       "output_type": "stream", 
       "stream": "stdout", 
       "text": [
        "", 
        "96% [====================================>  ] 116,641,695  197K/s  eta 9s      "
       ]
      }, 
      {
       "output_type": "stream", 
       "stream": "stdout", 
       "text": [
        "", 
        "96% [====================================>  ] 116,690,847  199K/s  eta 9s      "
       ]
      }, 
      {
       "output_type": "stream", 
       "stream": "stdout", 
       "text": [
        "", 
        "96% [====================================>  ] 116,756,383  203K/s  eta 9s      "
       ]
      }, 
      {
       "output_type": "stream", 
       "stream": "stdout", 
       "text": [
        "", 
        "96% [====================================>  ] 116,789,151  203K/s  eta 9s      "
       ]
      }, 
      {
       "output_type": "stream", 
       "stream": "stdout", 
       "text": [
        "", 
        "96% [====================================>  ] 116,838,303  203K/s  eta 9s      "
       ]
      }, 
      {
       "output_type": "stream", 
       "stream": "stdout", 
       "text": [
        "", 
        "96% [====================================>  ] 116,903,839  209K/s  eta 9s      "
       ]
      }, 
      {
       "output_type": "stream", 
       "stream": "stdout", 
       "text": [
        "", 
        "96% [====================================>  ] 116,936,607  205K/s  eta 8s      "
       ]
      }, 
      {
       "output_type": "stream", 
       "stream": "stdout", 
       "text": [
        "", 
        "96% [====================================>  ] 116,985,759  207K/s  eta 8s      "
       ]
      }, 
      {
       "output_type": "stream", 
       "stream": "stdout", 
       "text": [
        "", 
        "96% [====================================>  ] 117,034,911  206K/s  eta 8s      "
       ]
      }, 
      {
       "output_type": "stream", 
       "stream": "stdout", 
       "text": [
        "", 
        "96% [====================================>  ] 117,084,063  208K/s  eta 8s      "
       ]
      }, 
      {
       "output_type": "stream", 
       "stream": "stdout", 
       "text": [
        "", 
        "96% [====================================>  ] 117,116,831  206K/s  eta 8s      "
       ]
      }, 
      {
       "output_type": "stream", 
       "stream": "stdout", 
       "text": [
        "", 
        "96% [====================================>  ] 117,165,983  205K/s  eta 8s      "
       ]
      }, 
      {
       "output_type": "stream", 
       "stream": "stdout", 
       "text": [
        "", 
        "96% [====================================>  ] 117,215,135  206K/s  eta 8s      "
       ]
      }, 
      {
       "output_type": "stream", 
       "stream": "stdout", 
       "text": [
        "", 
        "96% [====================================>  ] 117,264,287  205K/s  eta 8s      "
       ]
      }, 
      {
       "output_type": "stream", 
       "stream": "stdout", 
       "text": [
        "", 
        "96% [====================================>  ] 117,313,439  207K/s  eta 8s      "
       ]
      }, 
      {
       "output_type": "stream", 
       "stream": "stdout", 
       "text": [
        "", 
        "96% [====================================>  ] 117,378,975  208K/s  eta 8s      "
       ]
      }, 
      {
       "output_type": "stream", 
       "stream": "stdout", 
       "text": [
        "", 
        "96% [====================================>  ] 117,428,127  206K/s  eta 8s      "
       ]
      }, 
      {
       "output_type": "stream", 
       "stream": "stdout", 
       "text": [
        "", 
        "96% [====================================>  ] 117,493,663  210K/s  eta 8s      "
       ]
      }, 
      {
       "output_type": "stream", 
       "stream": "stdout", 
       "text": [
        "", 
        "96% [====================================>  ] 117,542,815  207K/s  eta 8s      "
       ]
      }, 
      {
       "output_type": "stream", 
       "stream": "stdout", 
       "text": [
        "", 
        "96% [====================================>  ] 117,608,351  208K/s  eta 8s      "
       ]
      }, 
      {
       "output_type": "stream", 
       "stream": "stdout", 
       "text": [
        "", 
        "96% [====================================>  ] 117,673,887  209K/s  eta 8s      "
       ]
      }, 
      {
       "output_type": "stream", 
       "stream": "stdout", 
       "text": [
        "", 
        "97% [====================================>  ] 117,723,039  211K/s  eta 7s      "
       ]
      }, 
      {
       "output_type": "stream", 
       "stream": "stdout", 
       "text": [
        "", 
        "97% [====================================>  ] 117,788,575  216K/s  eta 7s      "
       ]
      }, 
      {
       "output_type": "stream", 
       "stream": "stdout", 
       "text": [
        "", 
        "97% [====================================>  ] 117,854,111  218K/s  eta 7s      "
       ]
      }, 
      {
       "output_type": "stream", 
       "stream": "stdout", 
       "text": [
        "", 
        "97% [====================================>  ] 117,919,647  227K/s  eta 7s      "
       ]
      }, 
      {
       "output_type": "stream", 
       "stream": "stdout", 
       "text": [
        "", 
        "97% [====================================>  ] 118,001,567  226K/s  eta 7s      "
       ]
      }, 
      {
       "output_type": "stream", 
       "stream": "stdout", 
       "text": [
        ""
       ]
      }, 
      {
       "output_type": "stream", 
       "stream": "stdout", 
       "text": [
        "97% [====================================>  ] 118,116,255  242K/s  eta 7s      "
       ]
      }, 
      {
       "output_type": "stream", 
       "stream": "stdout", 
       "text": [
        "", 
        "97% [====================================>  ] 118,181,791  246K/s  eta 7s      "
       ]
      }, 
      {
       "output_type": "stream", 
       "stream": "stdout", 
       "text": [
        "", 
        "97% [=====================================> ] 118,247,327  247K/s  eta 7s      "
       ]
      }, 
      {
       "output_type": "stream", 
       "stream": "stdout", 
       "text": [
        "", 
        "97% [=====================================> ] 118,329,247  257K/s  eta 6s      "
       ]
      }, 
      {
       "output_type": "stream", 
       "stream": "stdout", 
       "text": [
        "", 
        "97% [=====================================> ] 118,394,783  258K/s  eta 6s      "
       ]
      }, 
      {
       "output_type": "stream", 
       "stream": "stdout", 
       "text": [
        "", 
        "97% [=====================================> ] 118,460,319  259K/s  eta 6s      "
       ]
      }, 
      {
       "output_type": "stream", 
       "stream": "stdout", 
       "text": [
        "", 
        "97% [=====================================> ] 118,525,855  261K/s  eta 6s      "
       ]
      }, 
      {
       "output_type": "stream", 
       "stream": "stdout", 
       "text": [
        "", 
        "97% [=====================================> ] 118,575,007  260K/s  eta 5s      "
       ]
      }, 
      {
       "output_type": "stream", 
       "stream": "stdout", 
       "text": [
        "", 
        "97% [=====================================> ] 118,640,543  252K/s  eta 5s      ", 
        "97% [=====================================> ] 118,648,735  236K/s  eta 5s      "
       ]
      }, 
      {
       "output_type": "stream", 
       "stream": "stdout", 
       "text": [
        "", 
        "97% [=====================================> ] 118,738,847  244K/s  eta 5s      "
       ]
      }, 
      {
       "output_type": "stream", 
       "stream": "stdout", 
       "text": [
        "", 
        "97% [=====================================> ] 118,787,999  243K/s  eta 5s      "
       ]
      }, 
      {
       "output_type": "stream", 
       "stream": "stdout", 
       "text": [
        "", 
        "97% [=====================================> ] 118,853,535  242K/s  eta 5s      "
       ]
      }, 
      {
       "output_type": "stream", 
       "stream": "stdout", 
       "text": [
        "", 
        "97% [=====================================> ] 118,902,687  234K/s  eta 5s      "
       ]
      }, 
      {
       "output_type": "stream", 
       "stream": "stdout", 
       "text": [
        "", 
        "98% [=====================================> ] 118,968,223  233K/s  eta 5s      "
       ]
      }, 
      {
       "output_type": "stream", 
       "stream": "stdout", 
       "text": [
        "", 
        "98% [=====================================> ] 119,033,759  240K/s  eta 5s      "
       ]
      }, 
      {
       "output_type": "stream", 
       "stream": "stdout", 
       "text": [
        "", 
        "98% [=====================================> ] 119,099,295  228K/s  eta 5s      "
       ]
      }, 
      {
       "output_type": "stream", 
       "stream": "stdout", 
       "text": [
        "", 
        "98% [=====================================> ] 119,164,831  227K/s  eta 5s      "
       ]
      }, 
      {
       "output_type": "stream", 
       "stream": "stdout", 
       "text": [
        "", 
        "98% [=====================================> ] 119,213,983  232K/s  eta 5s      "
       ]
      }, 
      {
       "output_type": "stream", 
       "stream": "stdout", 
       "text": [
        "", 
        "98% [=====================================> ] 119,279,519  227K/s  eta 5s      "
       ]
      }, 
      {
       "output_type": "stream", 
       "stream": "stdout", 
       "text": [
        "", 
        "98% [=====================================> ] 119,345,055  230K/s  eta 4s      "
       ]
      }, 
      {
       "output_type": "stream", 
       "stream": "stdout", 
       "text": [
        "", 
        "98% [=====================================> ] 119,410,591  228K/s  eta 4s      "
       ]
      }, 
      {
       "output_type": "stream", 
       "stream": "stdout", 
       "text": [
        "", 
        "98% [=====================================> ] 119,476,127  228K/s  eta 4s      "
       ]
      }, 
      {
       "output_type": "stream", 
       "stream": "stdout", 
       "text": [
        "", 
        "98% [=====================================> ] 119,541,663  231K/s  eta 4s      "
       ]
      }, 
      {
       "output_type": "stream", 
       "stream": "stdout", 
       "text": [
        "", 
        "98% [=====================================> ] 119,574,431  233K/s  eta 4s      "
       ]
      }, 
      {
       "output_type": "stream", 
       "stream": "stdout", 
       "text": [
        "", 
        "98% [=====================================> ] 119,639,967  246K/s  eta 4s      "
       ]
      }, 
      {
       "output_type": "stream", 
       "stream": "stdout", 
       "text": [
        "", 
        "98% [=====================================> ] 119,705,503  237K/s  eta 4s      "
       ]
      }, 
      {
       "output_type": "stream", 
       "stream": "stdout", 
       "text": [
        "", 
        "98% [=====================================> ] 119,754,655  235K/s  eta 4s      "
       ]
      }, 
      {
       "output_type": "stream", 
       "stream": "stdout", 
       "text": [
        "", 
        "98% [=====================================> ] 119,803,807  229K/s  eta 3s      "
       ]
      }, 
      {
       "output_type": "stream", 
       "stream": "stdout", 
       "text": [
        "", 
        "98% [=====================================> ] 119,852,959  230K/s  eta 3s      "
       ]
      }, 
      {
       "output_type": "stream", 
       "stream": "stdout", 
       "text": [
        "", 
        "98% [=====================================> ] 119,902,111  226K/s  eta 3s      "
       ]
      }, 
      {
       "output_type": "stream", 
       "stream": "stdout", 
       "text": [
        "", 
        "98% [=====================================> ] 119,934,879  220K/s  eta 3s      "
       ]
      }, 
      {
       "output_type": "stream", 
       "stream": "stdout", 
       "text": [
        "", 
        "98% [=====================================> ] 119,984,031  215K/s  eta 3s      "
       ]
      }, 
      {
       "output_type": "stream", 
       "stream": "stdout", 
       "text": [
        "", 
        "98% [=====================================> ] 120,000,415  205K/s  eta 3s      "
       ]
      }, 
      {
       "output_type": "stream", 
       "stream": "stdout", 
       "text": [
        "", 
        "98% [=====================================> ] 120,049,567  204K/s  eta 3s      "
       ]
      }, 
      {
       "output_type": "stream", 
       "stream": "stdout", 
       "text": [
        "", 
        "98% [=====================================> ] 120,082,335  202K/s  eta 3s      "
       ]
      }, 
      {
       "output_type": "stream", 
       "stream": "stdout", 
       "text": [
        "", 
        "98% [=====================================> ] 120,131,487  197K/s  eta 3s      "
       ]
      }, 
      {
       "output_type": "stream", 
       "stream": "stdout", 
       "text": [
        "", 
        "99% [=====================================> ] 120,180,639  194K/s  eta 3s      "
       ]
      }, 
      {
       "output_type": "stream", 
       "stream": "stdout", 
       "text": [
        "", 
        "99% [=====================================> ] 120,213,407  190K/s  eta 2s      "
       ]
      }, 
      {
       "output_type": "stream", 
       "stream": "stdout", 
       "text": [
        "", 
        "99% [=====================================> ] 120,262,559  184K/s  eta 2s      "
       ]
      }, 
      {
       "output_type": "stream", 
       "stream": "stdout", 
       "text": [
        "", 
        "99% [=====================================> ] 120,311,711  180K/s  eta 2s      "
       ]
      }, 
      {
       "output_type": "stream", 
       "stream": "stdout", 
       "text": [
        "", 
        "99% [=====================================> ] 120,360,863  181K/s  eta 2s      "
       ]
      }, 
      {
       "output_type": "stream", 
       "stream": "stdout", 
       "text": [
        "", 
        "99% [=====================================> ] 120,410,015  175K/s  eta 2s      "
       ]
      }, 
      {
       "output_type": "stream", 
       "stream": "stdout", 
       "text": [
        "", 
        "99% [=====================================> ] 120,459,167  177K/s  eta 2s      "
       ]
      }, 
      {
       "output_type": "stream", 
       "stream": "stdout", 
       "text": [
        "", 
        "99% [=====================================> ] 120,508,319  169K/s  eta 2s      "
       ]
      }, 
      {
       "output_type": "stream", 
       "stream": "stdout", 
       "text": [
        "", 
        "99% [=====================================> ] 120,573,855  174K/s  eta 2s      "
       ]
      }, 
      {
       "output_type": "stream", 
       "stream": "stdout", 
       "text": [
        "", 
        "99% [=====================================> ] 120,606,623  173K/s  eta 2s      "
       ]
      }, 
      {
       "output_type": "stream", 
       "stream": "stdout", 
       "text": [
        "", 
        "99% [=====================================> ] 120,655,775  172K/s  eta 2s      "
       ]
      }, 
      {
       "output_type": "stream", 
       "stream": "stdout", 
       "text": [
        "", 
        "99% [=====================================> ] 120,704,927  173K/s  eta 2s      "
       ]
      }, 
      {
       "output_type": "stream", 
       "stream": "stdout", 
       "text": [
        "", 
        "99% [=====================================> ] 120,754,079  176K/s  eta 2s      "
       ]
      }, 
      {
       "output_type": "stream", 
       "stream": "stdout", 
       "text": [
        "", 
        "99% [=====================================> ] 120,803,231  179K/s  eta 1s      "
       ]
      }, 
      {
       "output_type": "stream", 
       "stream": "stdout", 
       "text": [
        "", 
        "99% [=====================================> ] 120,852,383  180K/s  eta 1s      "
       ]
      }, 
      {
       "output_type": "stream", 
       "stream": "stdout", 
       "text": [
        "", 
        "99% [=====================================> ] 120,901,535  179K/s  eta 1s      "
       ]
      }, 
      {
       "output_type": "stream", 
       "stream": "stdout", 
       "text": [
        "", 
        "99% [=====================================> ] 120,950,687  179K/s  eta 1s      "
       ]
      }, 
      {
       "output_type": "stream", 
       "stream": "stdout", 
       "text": [
        "", 
        "99% [=====================================> ] 120,999,839  177K/s  eta 1s      "
       ]
      }, 
      {
       "output_type": "stream", 
       "stream": "stdout", 
       "text": [
        "", 
        "99% [=====================================> ] 121,048,991  178K/s  eta 1s      "
       ]
      }, 
      {
       "output_type": "stream", 
       "stream": "stdout", 
       "text": [
        "", 
        "99% [=====================================> ] 121,114,527  180K/s  eta 1s      "
       ]
      }, 
      {
       "output_type": "stream", 
       "stream": "stdout", 
       "text": [
        "", 
        "99% [=====================================> ] 121,163,679  181K/s  eta 1s      "
       ]
      }, 
      {
       "output_type": "stream", 
       "stream": "stdout", 
       "text": [
        "", 
        "99% [=====================================> ] 121,229,215  184K/s  eta 0s      "
       ]
      }, 
      {
       "output_type": "stream", 
       "stream": "stdout", 
       "text": [
        "", 
        "99% [=====================================> ] 121,278,367  193K/s  eta 0s      "
       ]
      }, 
      {
       "output_type": "stream", 
       "stream": "stdout", 
       "text": [
        "", 
        "99% [=====================================> ] 121,327,519  193K/s  eta 0s      "
       ]
      }, 
      {
       "output_type": "stream", 
       "stream": "stdout", 
       "text": [
        "", 
        "100%[======================================>] 121,358,426  198K/s   in 4m 5s   ", 
        "", 
        "2013-05-13 11:14:29 (484 KB/s) - `trento.zip' saved [121358426/121358426]", 
        ""
       ]
      }
     ], 
     "prompt_number": 18
    }, 
    {
     "cell_type": "code", 
     "collapsed": false, 
     "input": [
      "!ls trento/trento/anatomy/"
     ], 
     "language": "python", 
     "outputs": [
      {
       "output_type": "stream", 
       "stream": "stdout", 
       "text": [
        "highres001_brain_mask.nii.gz  highres001_brain.nii.gz  highres001.nii.gz"
       ]
      }, 
      {
       "output_type": "stream", 
       "stream": "stdout", 
       "text": [
        "", 
        "Caching the list of root modules, please wait!"
       ]
      }, 
      {
       "output_type": "stream", 
       "stream": "stdout", 
       "text": [
        "", 
        "(This will only be done once - type '%rehashx' to reset cache!)", 
        ""
       ]
      }
     ], 
     "prompt_number": 20
    }, 
    {
     "cell_type": "code", 
     "collapsed": false, 
     "input": [
      "import nipype.interfaces.fsl as fsl"
     ], 
     "language": "python", 
     "outputs": [], 
     "prompt_number": 22
    }, 
    {
     "cell_type": "code", 
     "collapsed": true, 
     "input": [
      "bet = fsl.BET()"
     ], 
     "language": "python", 
     "outputs": [], 
     "prompt_number": 23
    }, 
    {
     "cell_type": "code", 
     "collapsed": false, 
     "input": [
      "bet.help()"
     ], 
     "language": "python", 
     "outputs": [
      {
       "output_type": "stream", 
       "stream": "stdout", 
       "text": [
        "Wraps command **bet**", 
        "", 
        "Use FSL BET command for skull stripping.", 
        "", 
        "For complete details, see the `BET Documentation.", 
        "<http://www.fmrib.ox.ac.uk/fsl/bet2/index.html>`_", 
        "", 
        "Examples", 
        "--------", 
        ">>> from nipype.interfaces import fsl", 
        ">>> from nipype.testing import  example_data", 
        ">>> btr = fsl.BET()", 
        ">>> btr.inputs.in_file = example_data('structural.nii')", 
        ">>> btr.inputs.frac = 0.7", 
        ">>> res = btr.run() # doctest: +SKIP", 
        "", 
        "Inputs::", 
        "", 
        "\t[Mandatory]", 
        "\tin_file: (an existing file name)", 
        "\t\tinput file to skull strip", 
        "\tterminal_output: ('stream' or 'allatonce' or 'file' or 'none')", 
        "\t\tControl terminal output", 
        "", 
        "\t[Optional]", 
        "\targs: (a string)", 
        "\t\tAdditional parameters to the command", 
        "\tcenter: (a list of at most 3 items which are an integer)", 
        "\t\tcenter of gravity in voxels", 
        "\tenviron: (a dictionary with keys which are a value of type 'str' and with values which", 
        "\t\t are a value of type 'str', nipype default value: {})", 
        "\t\tEnvironment variables", 
        "\tfrac: (a float)", 
        "\t\tfractional intensity threshold", 
        "\tfunctional: (a boolean)", 
        "\t\tapply to 4D fMRI data", 
        "\t\tmutually_exclusive: functional, reduce_bias, robust, padding, remove_eyes, surfaces,", 
        "\t\t t2_guided", 
        "\tignore_exception: (a boolean, nipype default value: False)", 
        "\t\tPrint an error message instead of throwing an exception in case the interface fails to", 
        "\t\trun", 
        "\tmask: (a boolean)", 
        "\t\tcreate binary mask image", 
        "\tmesh: (a boolean)", 
        "\t\tgenerate a vtk mesh brain surface", 
        "\tno_output: (a boolean)", 
        "\t\tDon't generate segmented output", 
        "\tout_file: (a file name)", 
        "\t\tname of output skull stripped image", 
        "\toutline: (a boolean)", 
        "\t\tcreate surface outline image", 
        "\toutput_type: ('NIFTI_PAIR' or 'NIFTI_PAIR_GZ' or 'NIFTI_GZ' or 'NIFTI')", 
        "\t\tFSL output type", 
        "\tpadding: (a boolean)", 
        "\t\timprove BET if FOV is very small in Z (by temporarily padding end slices)", 
        "\t\tmutually_exclusive: functional, reduce_bias, robust, padding, remove_eyes, surfaces,", 
        "\t\t t2_guided", 
        "\tradius: (an integer)", 
        "\t\thead radius", 
        "\treduce_bias: (a boolean)", 
        "\t\tbias field and neck cleanup", 
        "\t\tmutually_exclusive: functional, reduce_bias, robust, padding, remove_eyes, surfaces,", 
        "\t\t t2_guided", 
        "\tremove_eyes: (a boolean)", 
        "\t\teye & optic nerve cleanup (can be useful in SIENA)", 
        "\t\tmutually_exclusive: functional, reduce_bias, robust, padding, remove_eyes, surfaces,", 
        "\t\t t2_guided", 
        "\trobust: (a boolean)", 
        "\t\trobust brain centre estimation (iterates BET several times)", 
        "\t\tmutually_exclusive: functional, reduce_bias, robust, padding, remove_eyes, surfaces,", 
        "\t\t t2_guided", 
        "\tskull: (a boolean)", 
        "\t\tcreate skull image", 
        "\tsurfaces: (a boolean)", 
        "\t\trun bet2 and then betsurf to get additional skull and scalp surfaces (includes", 
        "\t\tregistrations)", 
        "\t\tmutually_exclusive: functional, reduce_bias, robust, padding, remove_eyes, surfaces,", 
        "\t\t t2_guided", 
        "\tt2_guided: (a file name)", 
        "\t\tas with creating surfaces, when also feeding in non-brain-extracted T2 (includes", 
        "\t\tregistrations)", 
        "\t\tmutually_exclusive: functional, reduce_bias, robust, padding, remove_eyes, surfaces,", 
        "\t\t t2_guided", 
        "\tthreshold: (a boolean)", 
        "\t\tapply thresholding to segmented brain image and mask", 
        "\tvertical_gradient: (a float)", 
        "\t\tvertical gradient in fractional intensity threshold (-1, 1)", 
        "", 
        "Outputs::", 
        "", 
        "\tinskull_mask_file: (a file name)", 
        "\t\tpath/name of inskull mask (if generated)", 
        "\tinskull_mesh_file: (a file name)", 
        "\t\tpath/name of inskull mesh outline (if generated)", 
        "\tmask_file: (a file name)", 
        "\t\tpath/name of binary brain mask (if generated)", 
        "\tmeshfile: (a file name)", 
        "\t\tpath/name of vtk mesh file (if generated)", 
        "\tout_file: (a file name)", 
        "\t\tpath/name of skullstripped file (if generated)", 
        "\toutline_file: (a file name)", 
        "\t\tpath/name of outline file (if generated)", 
        "\toutskin_mask_file: (a file name)", 
        "\t\tpath/name of outskin mask (if generated)", 
        "\toutskin_mesh_file: (a file name)", 
        "\t\tpath/name of outskin mesh outline (if generated)", 
        "\toutskull_mask_file: (a file name)", 
        "\t\tpath/name of outskull mask (if generated)", 
        "\toutskull_mesh_file: (a file name)", 
        "\t\tpath/name of outskull mesh outline (if generated)", 
        "\tskull_mask_file: (a file name)", 
        "\t\tpath/name of skull mask (if generated)", 
        ""
       ]
      }
     ], 
     "prompt_number": 24
    }, 
    {
     "cell_type": "code", 
     "collapsed": false, 
     "input": [
      "bet.inputs.in_file = 'trento/trento/anatomy/highres001.nii.gz'", 
      "res = bet.run()"
     ], 
     "language": "python", 
     "outputs": [
      {
       "output_type": "stream", 
       "stream": "stdout", 
       "text": [
        "130513-11:40:31,46 interface INFO:", 
        "\t stdout 2013-05-13T11:40:31.046246:"
       ]
      }, 
      {
       "output_type": "stream", 
       "stream": "stdout", 
       "text": [
        "130513-11:40:31,48 interface INFO:", 
        "\t stdout 2013-05-13T11:40:31.046246:Usage:    bet <input> <output> [options]"
       ]
      }, 
      {
       "output_type": "stream", 
       "stream": "stdout", 
       "text": [
        "130513-11:40:31,53 interface INFO:", 
        "\t stdout 2013-05-13T11:40:31.046246:"
       ]
      }, 
      {
       "output_type": "stream", 
       "stream": "stdout", 
       "text": [
        "130513-11:40:31,55 interface INFO:", 
        "\t stdout 2013-05-13T11:40:31.046246:Main bet2 options:"
       ]
      }, 
      {
       "output_type": "stream", 
       "stream": "stdout", 
       "text": [
        "130513-11:40:31,57 interface INFO:", 
        "\t stdout 2013-05-13T11:40:31.046246:  -o          generate brain surface outline overlaid onto original image"
       ]
      }, 
      {
       "output_type": "stream", 
       "stream": "stdout", 
       "text": [
        "130513-11:40:31,59 interface INFO:", 
        "\t stdout 2013-05-13T11:40:31.046246:  -m          generate binary brain mask"
       ]
      }, 
      {
       "output_type": "stream", 
       "stream": "stdout", 
       "text": [
        "130513-11:40:31,66 interface INFO:", 
        "\t stdout 2013-05-13T11:40:31.046246:  -s          generate approximate skull image"
       ]
      }, 
      {
       "output_type": "stream", 
       "stream": "stdout", 
       "text": [
        "130513-11:40:31,68 interface INFO:", 
        "\t stdout 2013-05-13T11:40:31.046246:  -n          don't generate segmented brain image output"
       ]
      }, 
      {
       "output_type": "stream", 
       "stream": "stdout", 
       "text": [
        "130513-11:40:31,71 interface INFO:", 
        "\t stdout 2013-05-13T11:40:31.046246:  -f <f>      fractional intensity threshold (0->1); default=0.5; smaller values give larger brain outline estimates"
       ]
      }, 
      {
       "output_type": "stream", 
       "stream": "stdout", 
       "text": [
        "130513-11:40:31,73 interface INFO:", 
        "\t stdout 2013-05-13T11:40:31.046246:  -g <g>      vertical gradient in fractional intensity threshold (-1->1); default=0; positive values give larger brain outline at bottom, smaller at top"
       ]
      }, 
      {
       "output_type": "stream", 
       "stream": "stdout", 
       "text": [
        "130513-11:40:31,75 interface INFO:", 
        "\t stdout 2013-05-13T11:40:31.046246:  -r <r>      head radius (mm not voxels); initial surface sphere is set to half of this"
       ]
      }, 
      {
       "output_type": "stream", 
       "stream": "stdout", 
       "text": [
        "130513-11:40:31,77 interface INFO:", 
        "\t stdout 2013-05-13T11:40:31.046246:  -c <x y z>  centre-of-gravity (voxels not mm) of initial mesh surface."
       ]
      }, 
      {
       "output_type": "stream", 
       "stream": "stdout", 
       "text": [
        "130513-11:40:31,79 interface INFO:", 
        "\t stdout 2013-05-13T11:40:31.046246:  -t          apply thresholding to segmented brain image and mask"
       ]
      }, 
      {
       "output_type": "stream", 
       "stream": "stdout", 
       "text": [
        "130513-11:40:31,81 interface INFO:", 
        "\t stdout 2013-05-13T11:40:31.046246:  -e          generates brain surface as mesh in .vtk format"
       ]
      }, 
      {
       "output_type": "stream", 
       "stream": "stdout", 
       "text": [
        "130513-11:40:31,84 interface INFO:", 
        "\t stdout 2013-05-13T11:40:31.046246:"
       ]
      }, 
      {
       "output_type": "stream", 
       "stream": "stdout", 
       "text": [
        "130513-11:40:31,86 interface INFO:", 
        "\t stdout 2013-05-13T11:40:31.046246:Variations on default bet2 functionality (mutually exclusive options):"
       ]
      }, 
      {
       "output_type": "stream", 
       "stream": "stdout", 
       "text": [
        "130513-11:40:31,88 interface INFO:", 
        "\t stdout 2013-05-13T11:40:31.046246:  (default)   just run bet2"
       ]
      }, 
      {
       "output_type": "stream", 
       "stream": "stdout", 
       "text": [
        "130513-11:40:31,90 interface INFO:", 
        "\t stdout 2013-05-13T11:40:31.046246:  -R          robust brain centre estimation (iterates BET several times)"
       ]
      }, 
      {
       "output_type": "stream", 
       "stream": "stdout", 
       "text": [
        "130513-11:40:31,95 interface INFO:", 
        "\t stdout 2013-05-13T11:40:31.046246:  -S          eye & optic nerve cleanup (can be useful in SIENA)"
       ]
      }, 
      {
       "output_type": "stream", 
       "stream": "stdout", 
       "text": [
        "130513-11:40:31,97 interface INFO:", 
        "\t stdout 2013-05-13T11:40:31.046246:  -B          bias field & neck cleanup (can be useful in SIENA)"
       ]
      }, 
      {
       "output_type": "stream", 
       "stream": "stdout", 
       "text": [
        "130513-11:40:31,100 interface INFO:", 
        "\t stdout 2013-05-13T11:40:31.046246:  -Z          improve BET if FOV is very small in Z (by temporarily padding end slices)"
       ]
      }, 
      {
       "output_type": "stream", 
       "stream": "stdout", 
       "text": [
        "130513-11:40:31,103 interface INFO:", 
        "\t stdout 2013-05-13T11:40:31.046246:  -F          apply to 4D FMRI data (uses -f 0.3 and dilates brain mask slightly)"
       ]
      }, 
      {
       "output_type": "stream", 
       "stream": "stdout", 
       "text": [
        "130513-11:40:31,105 interface INFO:", 
        "\t stdout 2013-05-13T11:40:31.046246:  -A          run bet2 and then betsurf to get additional skull and scalp surfaces (includes registrations)"
       ]
      }, 
      {
       "output_type": "stream", 
       "stream": "stdout", 
       "text": [
        "130513-11:40:31,107 interface INFO:", 
        "\t stdout 2013-05-13T11:40:31.046246:  -A2 <T2>    as with -A, when also feeding in non-brain-extracted T2 (includes registrations)"
       ]
      }, 
      {
       "output_type": "stream", 
       "stream": "stdout", 
       "text": [
        "130513-11:40:31,109 interface INFO:", 
        "\t stdout 2013-05-13T11:40:31.046246:"
       ]
      }, 
      {
       "output_type": "stream", 
       "stream": "stdout", 
       "text": [
        "130513-11:40:31,111 interface INFO:", 
        "\t stdout 2013-05-13T11:40:31.046246:Miscellaneous options:"
       ]
      }, 
      {
       "output_type": "stream", 
       "stream": "stdout", 
       "text": [
        "130513-11:40:31,114 interface INFO:", 
        "\t stdout 2013-05-13T11:40:31.046246:  -v          verbose (switch on diagnostic messages)"
       ]
      }, 
      {
       "output_type": "stream", 
       "stream": "stdout", 
       "text": [
        "130513-11:40:31,115 interface INFO:", 
        "\t stdout 2013-05-13T11:40:31.046246:  -h          display this help, then exits"
       ]
      }, 
      {
       "output_type": "stream", 
       "stream": "stdout", 
       "text": [
        "130513-11:40:31,117 interface INFO:", 
        "\t stdout 2013-05-13T11:40:31.046246:  -d          debug (don't delete temporary intermediate images)"
       ]
      }, 
      {
       "output_type": "stream", 
       "stream": "stdout", 
       "text": [
        "130513-11:40:31,119 interface INFO:", 
        "\t stdout 2013-05-13T11:40:31.046246:"
       ]
      }, 
      {
       "ename": "RuntimeError", 
       "evalue": "Command:\nbet trento/trento/anatomy/highres001.nii.gz /home/bao/PhD_Trento/Nipype tutorial/highres001_brain.nii.gz\nStandard output:\n\nUsage:    bet <input> <output> [options]\n\nMain bet2 options:\n  -o          generate brain surface outline overlaid onto original image\n  -m          generate binary brain mask\n  -s          generate approximate skull image\n  -n          don't generate segmented brain image output\n  -f <f>      fractional intensity threshold (0->1); default=0.5; smaller values give larger brain outline estimates\n  -g <g>      vertical gradient in fractional intensity threshold (-1->1); default=0; positive values give larger brain outline at bottom, smaller at top\n  -r <r>      head radius (mm not voxels); initial surface sphere is set to half of this\n  -c <x y z>  centre-of-gravity (voxels not mm) of initial mesh surface.\n  -t          apply thresholding to segmented brain image and mask\n  -e          generates brain surface as mesh in .vtk format\n\nVariations on default bet2 functionality (mutually exclusive options):\n  (default)   just run bet2\n  -R          robust brain centre estimation (iterates BET several times)\n  -S          eye & optic nerve cleanup (can be useful in SIENA)\n  -B          bias field & neck cleanup (can be useful in SIENA)\n  -Z          improve BET if FOV is very small in Z (by temporarily padding end slices)\n  -F          apply to 4D FMRI data (uses -f 0.3 and dilates brain mask slightly)\n  -A          run bet2 and then betsurf to get additional skull and scalp surfaces (includes registrations)\n  -A2 <T2>    as with -A, when also feeding in non-brain-extracted T2 (includes registrations)\n\nMiscellaneous options:\n  -v          verbose (switch on diagnostic messages)\n  -h          display this help, then exits\n  -d          debug (don't delete temporary intermediate images)\n\nStandard error:\n\nReturn code: 1\nInterface BET failed to run. ", 
       "output_type": "pyerr", 
       "traceback": [
        "\u001b[0;31m---------------------------------------------------------------------------\u001b[0m\n\u001b[0;31mRuntimeError\u001b[0m                              Traceback (most recent call last)", 
        "\u001b[0;32m/home/bao/PhD_Trento/Nipype tutorial/<ipython-input-26-053d7185500f>\u001b[0m in \u001b[0;36m<module>\u001b[0;34m()\u001b[0m\n\u001b[1;32m      1\u001b[0m \u001b[0mbet\u001b[0m\u001b[0;34m.\u001b[0m\u001b[0minputs\u001b[0m\u001b[0;34m.\u001b[0m\u001b[0min_file\u001b[0m \u001b[0;34m=\u001b[0m \u001b[0;34m'trento/trento/anatomy/highres001.nii.gz'\u001b[0m\u001b[0;34m\u001b[0m\u001b[0m\n\u001b[0;32m----> 2\u001b[0;31m \u001b[0mres\u001b[0m \u001b[0;34m=\u001b[0m \u001b[0mbet\u001b[0m\u001b[0;34m.\u001b[0m\u001b[0mrun\u001b[0m\u001b[0;34m(\u001b[0m\u001b[0;34m)\u001b[0m\u001b[0;34m\u001b[0m\u001b[0m\n\u001b[0m", 
        "\u001b[0;32m/usr/local/lib/python2.7/dist-packages/nipype/interfaces/base.pyc\u001b[0m in \u001b[0;36mrun\u001b[0;34m(self, **inputs)\u001b[0m\n\u001b[1;32m    893\u001b[0m         \u001b[0mt\u001b[0m \u001b[0;34m=\u001b[0m \u001b[0mtime\u001b[0m\u001b[0;34m(\u001b[0m\u001b[0;34m)\u001b[0m\u001b[0;34m\u001b[0m\u001b[0m\n\u001b[1;32m    894\u001b[0m         \u001b[0;32mtry\u001b[0m\u001b[0;34m:\u001b[0m\u001b[0;34m\u001b[0m\u001b[0m\n\u001b[0;32m--> 895\u001b[0;31m             \u001b[0mruntime\u001b[0m \u001b[0;34m=\u001b[0m \u001b[0mself\u001b[0m\u001b[0;34m.\u001b[0m\u001b[0m_run_interface\u001b[0m\u001b[0;34m(\u001b[0m\u001b[0mruntime\u001b[0m\u001b[0;34m)\u001b[0m\u001b[0;34m\u001b[0m\u001b[0m\n\u001b[0m\u001b[1;32m    896\u001b[0m             \u001b[0mruntime\u001b[0m\u001b[0;34m.\u001b[0m\u001b[0mduration\u001b[0m \u001b[0;34m=\u001b[0m \u001b[0mtime\u001b[0m\u001b[0;34m(\u001b[0m\u001b[0;34m)\u001b[0m \u001b[0;34m-\u001b[0m \u001b[0mt\u001b[0m\u001b[0;34m\u001b[0m\u001b[0m\n\u001b[1;32m    897\u001b[0m             results = InterfaceResult(interface, runtime,\n", 
        "\u001b[0;32m/usr/local/lib/python2.7/dist-packages/nipype/interfaces/fsl/preprocess.pyc\u001b[0m in \u001b[0;36m_run_interface\u001b[0;34m(self, runtime)\u001b[0m\n\u001b[1;32m    140\u001b[0m         \u001b[0;31m# in stderr and if it's set, then update the returncode\u001b[0m\n\u001b[0;34m\u001b[0m\u001b[0m\n\u001b[1;32m    141\u001b[0m         \u001b[0;31m# accordingly.\u001b[0m\n\u001b[0;34m\u001b[0m\u001b[0m\n\u001b[0;32m--> 142\u001b[0;31m         \u001b[0mruntime\u001b[0m \u001b[0;34m=\u001b[0m \u001b[0msuper\u001b[0m\u001b[0;34m(\u001b[0m\u001b[0mBET\u001b[0m\u001b[0;34m,\u001b[0m \u001b[0mself\u001b[0m\u001b[0;34m)\u001b[0m\u001b[0;34m.\u001b[0m\u001b[0m_run_interface\u001b[0m\u001b[0;34m(\u001b[0m\u001b[0mruntime\u001b[0m\u001b[0;34m)\u001b[0m\u001b[0;34m\u001b[0m\u001b[0m\n\u001b[0m\u001b[1;32m    143\u001b[0m         \u001b[0;32mif\u001b[0m \u001b[0mruntime\u001b[0m\u001b[0;34m.\u001b[0m\u001b[0mstderr\u001b[0m\u001b[0;34m:\u001b[0m\u001b[0;34m\u001b[0m\u001b[0m\n\u001b[1;32m    144\u001b[0m             \u001b[0mself\u001b[0m\u001b[0;34m.\u001b[0m\u001b[0mraise_exception\u001b[0m\u001b[0;34m(\u001b[0m\u001b[0mruntime\u001b[0m\u001b[0;34m)\u001b[0m\u001b[0;34m\u001b[0m\u001b[0m\n", 
        "\u001b[0;32m/usr/local/lib/python2.7/dist-packages/nipype/interfaces/base.pyc\u001b[0m in \u001b[0;36m_run_interface\u001b[0;34m(self, runtime)\u001b[0m\n\u001b[1;32m   1267\u001b[0m         \u001b[0mruntime\u001b[0m \u001b[0;34m=\u001b[0m \u001b[0mrun_command\u001b[0m\u001b[0;34m(\u001b[0m\u001b[0mruntime\u001b[0m\u001b[0;34m,\u001b[0m \u001b[0moutput\u001b[0m\u001b[0;34m=\u001b[0m\u001b[0mself\u001b[0m\u001b[0;34m.\u001b[0m\u001b[0minputs\u001b[0m\u001b[0;34m.\u001b[0m\u001b[0mterminal_output\u001b[0m\u001b[0;34m)\u001b[0m\u001b[0;34m\u001b[0m\u001b[0m\n\u001b[1;32m   1268\u001b[0m         \u001b[0;32mif\u001b[0m \u001b[0mruntime\u001b[0m\u001b[0;34m.\u001b[0m\u001b[0mreturncode\u001b[0m \u001b[0;32mis\u001b[0m \u001b[0mNone\u001b[0m \u001b[0;32mor\u001b[0m \u001b[0mruntime\u001b[0m\u001b[0;34m.\u001b[0m\u001b[0mreturncode\u001b[0m \u001b[0;34m!=\u001b[0m \u001b[0;36m0\u001b[0m\u001b[0;34m:\u001b[0m\u001b[0;34m\u001b[0m\u001b[0m\n\u001b[0;32m-> 1269\u001b[0;31m             \u001b[0mself\u001b[0m\u001b[0;34m.\u001b[0m\u001b[0mraise_exception\u001b[0m\u001b[0;34m(\u001b[0m\u001b[0mruntime\u001b[0m\u001b[0;34m)\u001b[0m\u001b[0;34m\u001b[0m\u001b[0m\n\u001b[0m\u001b[1;32m   1270\u001b[0m \u001b[0;34m\u001b[0m\u001b[0m\n\u001b[1;32m   1271\u001b[0m         \u001b[0;32mreturn\u001b[0m \u001b[0mruntime\u001b[0m\u001b[0;34m\u001b[0m\u001b[0m\n", 
        "\u001b[0;32m/usr/local/lib/python2.7/dist-packages/nipype/interfaces/base.pyc\u001b[0m in \u001b[0;36mraise_exception\u001b[0;34m(self, runtime)\u001b[0m\n\u001b[1;32m   1205\u001b[0m         \u001b[0mmessage\u001b[0m \u001b[0;34m+=\u001b[0m \u001b[0;34m\"Standard error:\\n\"\u001b[0m \u001b[0;34m+\u001b[0m \u001b[0mruntime\u001b[0m\u001b[0;34m.\u001b[0m\u001b[0mstderr\u001b[0m \u001b[0;34m+\u001b[0m \u001b[0;34m\"\\n\"\u001b[0m\u001b[0;34m\u001b[0m\u001b[0m\n\u001b[1;32m   1206\u001b[0m         \u001b[0mmessage\u001b[0m \u001b[0;34m+=\u001b[0m \u001b[0;34m\"Return code: \"\u001b[0m \u001b[0;34m+\u001b[0m \u001b[0mstr\u001b[0m\u001b[0;34m(\u001b[0m\u001b[0mruntime\u001b[0m\u001b[0;34m.\u001b[0m\u001b[0mreturncode\u001b[0m\u001b[0;34m)\u001b[0m\u001b[0;34m\u001b[0m\u001b[0m\n\u001b[0;32m-> 1207\u001b[0;31m         \u001b[0;32mraise\u001b[0m \u001b[0mRuntimeError\u001b[0m\u001b[0;34m(\u001b[0m\u001b[0mmessage\u001b[0m\u001b[0;34m)\u001b[0m\u001b[0;34m\u001b[0m\u001b[0m\n\u001b[0m\u001b[1;32m   1208\u001b[0m \u001b[0;34m\u001b[0m\u001b[0m\n\u001b[1;32m   1209\u001b[0m     \u001b[0;34m@\u001b[0m\u001b[0mclassmethod\u001b[0m\u001b[0;34m\u001b[0m\u001b[0m\n", 
        "\u001b[0;31mRuntimeError\u001b[0m: Command:\nbet trento/trento/anatomy/highres001.nii.gz /home/bao/PhD_Trento/Nipype tutorial/highres001_brain.nii.gz\nStandard output:\n\nUsage:    bet <input> <output> [options]\n\nMain bet2 options:\n  -o          generate brain surface outline overlaid onto original image\n  -m          generate binary brain mask\n  -s          generate approximate skull image\n  -n          don't generate segmented brain image output\n  -f <f>      fractional intensity threshold (0->1); default=0.5; smaller values give larger brain outline estimates\n  -g <g>      vertical gradient in fractional intensity threshold (-1->1); default=0; positive values give larger brain outline at bottom, smaller at top\n  -r <r>      head radius (mm not voxels); initial surface sphere is set to half of this\n  -c <x y z>  centre-of-gravity (voxels not mm) of initial mesh surface.\n  -t          apply thresholding to segmented brain image and mask\n  -e          generates brain surface as mesh in .vtk format\n\nVariations on default bet2 functionality (mutually exclusive options):\n  (default)   just run bet2\n  -R          robust brain centre estimation (iterates BET several times)\n  -S          eye & optic nerve cleanup (can be useful in SIENA)\n  -B          bias field & neck cleanup (can be useful in SIENA)\n  -Z          improve BET if FOV is very small in Z (by temporarily padding end slices)\n  -F          apply to 4D FMRI data (uses -f 0.3 and dilates brain mask slightly)\n  -A          run bet2 and then betsurf to get additional skull and scalp surfaces (includes registrations)\n  -A2 <T2>    as with -A, when also feeding in non-brain-extracted T2 (includes registrations)\n\nMiscellaneous options:\n  -v          verbose (switch on diagnostic messages)\n  -h          display this help, then exits\n  -d          debug (don't delete temporary intermediate images)\n\nStandard error:\n\nReturn code: 1\nInterface BET failed to run. "
       ]
      }
     ], 
     "prompt_number": 26
    }, 
    {
     "cell_type": "code", 
     "collapsed": true, 
     "input": [], 
     "language": "python", 
     "outputs": []
    }
   ]
  }
 ]
}